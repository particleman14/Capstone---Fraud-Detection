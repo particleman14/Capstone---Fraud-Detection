{
 "cells": [
  {
   "cell_type": "code",
   "execution_count": 1,
   "metadata": {
    "ExecuteTime": {
     "end_time": "2020-12-29T09:30:46.980742Z",
     "start_time": "2020-12-29T09:30:42.241471Z"
    }
   },
   "outputs": [],
   "source": [
    "import json \n",
    "import pandas as pd\n",
    "import numpy as np\n",
    "import matplotlib.pyplot as plt\n",
    "import seaborn as sns\n",
    "from scipy import stats\n",
    "import datetime as dt\n",
    "import dtale\n"
   ]
  },
  {
   "cell_type": "code",
   "execution_count": 2,
   "metadata": {
    "ExecuteTime": {
     "end_time": "2020-12-29T09:31:04.487744Z",
     "start_time": "2020-12-29T09:30:46.982742Z"
    }
   },
   "outputs": [],
   "source": [
    "df = pd.read_json('transactionsjson.json',lines=True)\n"
   ]
  },
  {
   "cell_type": "markdown",
   "metadata": {},
   "source": [
    "Get info on data, see the numeric and categorical variables."
   ]
  },
  {
   "cell_type": "code",
   "execution_count": 3,
   "metadata": {
    "ExecuteTime": {
     "end_time": "2020-12-29T09:31:05.582806Z",
     "start_time": "2020-12-29T09:31:04.490744Z"
    }
   },
   "outputs": [
    {
     "name": "stdout",
     "output_type": "stream",
     "text": [
      "<class 'pandas.core.frame.DataFrame'>\n",
      "RangeIndex: 786363 entries, 0 to 786362\n",
      "Data columns (total 29 columns):\n",
      " #   Column                    Non-Null Count   Dtype  \n",
      "---  ------                    --------------   -----  \n",
      " 0   accountNumber             786363 non-null  int64  \n",
      " 1   customerId                786363 non-null  int64  \n",
      " 2   creditLimit               786363 non-null  int64  \n",
      " 3   availableMoney            786363 non-null  float64\n",
      " 4   transactionDateTime       786363 non-null  object \n",
      " 5   transactionAmount         786363 non-null  float64\n",
      " 6   merchantName              786363 non-null  object \n",
      " 7   acqCountry                786363 non-null  object \n",
      " 8   merchantCountryCode       786363 non-null  object \n",
      " 9   posEntryMode              786363 non-null  object \n",
      " 10  posConditionCode          786363 non-null  object \n",
      " 11  merchantCategoryCode      786363 non-null  object \n",
      " 12  currentExpDate            786363 non-null  object \n",
      " 13  accountOpenDate           786363 non-null  object \n",
      " 14  dateOfLastAddressChange   786363 non-null  object \n",
      " 15  cardCVV                   786363 non-null  int64  \n",
      " 16  enteredCVV                786363 non-null  int64  \n",
      " 17  cardLast4Digits           786363 non-null  int64  \n",
      " 18  transactionType           786363 non-null  object \n",
      " 19  echoBuffer                786363 non-null  object \n",
      " 20  currentBalance            786363 non-null  float64\n",
      " 21  merchantCity              786363 non-null  object \n",
      " 22  merchantState             786363 non-null  object \n",
      " 23  merchantZip               786363 non-null  object \n",
      " 24  cardPresent               786363 non-null  bool   \n",
      " 25  posOnPremises             786363 non-null  object \n",
      " 26  recurringAuthInd          786363 non-null  object \n",
      " 27  expirationDateKeyInMatch  786363 non-null  bool   \n",
      " 28  isFraud                   786363 non-null  bool   \n",
      "dtypes: bool(3), float64(3), int64(6), object(17)\n",
      "memory usage: 158.2+ MB\n"
     ]
    }
   ],
   "source": [
    "df.info()"
   ]
  },
  {
   "cell_type": "code",
   "execution_count": 4,
   "metadata": {
    "ExecuteTime": {
     "end_time": "2020-12-29T09:31:05.618808Z",
     "start_time": "2020-12-29T09:31:05.583806Z"
    }
   },
   "outputs": [
    {
     "data": {
      "text/html": [
       "<div>\n",
       "<style scoped>\n",
       "    .dataframe tbody tr th:only-of-type {\n",
       "        vertical-align: middle;\n",
       "    }\n",
       "\n",
       "    .dataframe tbody tr th {\n",
       "        vertical-align: top;\n",
       "    }\n",
       "\n",
       "    .dataframe thead th {\n",
       "        text-align: right;\n",
       "    }\n",
       "</style>\n",
       "<table border=\"1\" class=\"dataframe\">\n",
       "  <thead>\n",
       "    <tr style=\"text-align: right;\">\n",
       "      <th></th>\n",
       "      <th>accountNumber</th>\n",
       "      <th>customerId</th>\n",
       "      <th>creditLimit</th>\n",
       "      <th>availableMoney</th>\n",
       "      <th>transactionDateTime</th>\n",
       "      <th>transactionAmount</th>\n",
       "      <th>merchantName</th>\n",
       "      <th>acqCountry</th>\n",
       "      <th>merchantCountryCode</th>\n",
       "      <th>posEntryMode</th>\n",
       "      <th>...</th>\n",
       "      <th>echoBuffer</th>\n",
       "      <th>currentBalance</th>\n",
       "      <th>merchantCity</th>\n",
       "      <th>merchantState</th>\n",
       "      <th>merchantZip</th>\n",
       "      <th>cardPresent</th>\n",
       "      <th>posOnPremises</th>\n",
       "      <th>recurringAuthInd</th>\n",
       "      <th>expirationDateKeyInMatch</th>\n",
       "      <th>isFraud</th>\n",
       "    </tr>\n",
       "  </thead>\n",
       "  <tbody>\n",
       "    <tr>\n",
       "      <th>0</th>\n",
       "      <td>737265056</td>\n",
       "      <td>737265056</td>\n",
       "      <td>5000</td>\n",
       "      <td>5000.0</td>\n",
       "      <td>2016-08-13T14:27:32</td>\n",
       "      <td>98.55</td>\n",
       "      <td>Uber</td>\n",
       "      <td>US</td>\n",
       "      <td>US</td>\n",
       "      <td>02</td>\n",
       "      <td>...</td>\n",
       "      <td></td>\n",
       "      <td>0.0</td>\n",
       "      <td></td>\n",
       "      <td></td>\n",
       "      <td></td>\n",
       "      <td>False</td>\n",
       "      <td></td>\n",
       "      <td></td>\n",
       "      <td>False</td>\n",
       "      <td>False</td>\n",
       "    </tr>\n",
       "    <tr>\n",
       "      <th>1</th>\n",
       "      <td>737265056</td>\n",
       "      <td>737265056</td>\n",
       "      <td>5000</td>\n",
       "      <td>5000.0</td>\n",
       "      <td>2016-10-11T05:05:54</td>\n",
       "      <td>74.51</td>\n",
       "      <td>AMC #191138</td>\n",
       "      <td>US</td>\n",
       "      <td>US</td>\n",
       "      <td>09</td>\n",
       "      <td>...</td>\n",
       "      <td></td>\n",
       "      <td>0.0</td>\n",
       "      <td></td>\n",
       "      <td></td>\n",
       "      <td></td>\n",
       "      <td>True</td>\n",
       "      <td></td>\n",
       "      <td></td>\n",
       "      <td>False</td>\n",
       "      <td>False</td>\n",
       "    </tr>\n",
       "    <tr>\n",
       "      <th>2</th>\n",
       "      <td>737265056</td>\n",
       "      <td>737265056</td>\n",
       "      <td>5000</td>\n",
       "      <td>5000.0</td>\n",
       "      <td>2016-11-08T09:18:39</td>\n",
       "      <td>7.47</td>\n",
       "      <td>Play Store</td>\n",
       "      <td>US</td>\n",
       "      <td>US</td>\n",
       "      <td>09</td>\n",
       "      <td>...</td>\n",
       "      <td></td>\n",
       "      <td>0.0</td>\n",
       "      <td></td>\n",
       "      <td></td>\n",
       "      <td></td>\n",
       "      <td>False</td>\n",
       "      <td></td>\n",
       "      <td></td>\n",
       "      <td>False</td>\n",
       "      <td>False</td>\n",
       "    </tr>\n",
       "    <tr>\n",
       "      <th>3</th>\n",
       "      <td>737265056</td>\n",
       "      <td>737265056</td>\n",
       "      <td>5000</td>\n",
       "      <td>5000.0</td>\n",
       "      <td>2016-12-10T02:14:50</td>\n",
       "      <td>7.47</td>\n",
       "      <td>Play Store</td>\n",
       "      <td>US</td>\n",
       "      <td>US</td>\n",
       "      <td>09</td>\n",
       "      <td>...</td>\n",
       "      <td></td>\n",
       "      <td>0.0</td>\n",
       "      <td></td>\n",
       "      <td></td>\n",
       "      <td></td>\n",
       "      <td>False</td>\n",
       "      <td></td>\n",
       "      <td></td>\n",
       "      <td>False</td>\n",
       "      <td>False</td>\n",
       "    </tr>\n",
       "    <tr>\n",
       "      <th>4</th>\n",
       "      <td>830329091</td>\n",
       "      <td>830329091</td>\n",
       "      <td>5000</td>\n",
       "      <td>5000.0</td>\n",
       "      <td>2016-03-24T21:04:46</td>\n",
       "      <td>71.18</td>\n",
       "      <td>Tim Hortons #947751</td>\n",
       "      <td>US</td>\n",
       "      <td>US</td>\n",
       "      <td>02</td>\n",
       "      <td>...</td>\n",
       "      <td></td>\n",
       "      <td>0.0</td>\n",
       "      <td></td>\n",
       "      <td></td>\n",
       "      <td></td>\n",
       "      <td>True</td>\n",
       "      <td></td>\n",
       "      <td></td>\n",
       "      <td>False</td>\n",
       "      <td>False</td>\n",
       "    </tr>\n",
       "  </tbody>\n",
       "</table>\n",
       "<p>5 rows × 29 columns</p>\n",
       "</div>"
      ],
      "text/plain": [
       "   accountNumber  customerId  creditLimit  availableMoney  \\\n",
       "0      737265056   737265056         5000          5000.0   \n",
       "1      737265056   737265056         5000          5000.0   \n",
       "2      737265056   737265056         5000          5000.0   \n",
       "3      737265056   737265056         5000          5000.0   \n",
       "4      830329091   830329091         5000          5000.0   \n",
       "\n",
       "   transactionDateTime  transactionAmount         merchantName acqCountry  \\\n",
       "0  2016-08-13T14:27:32              98.55                 Uber         US   \n",
       "1  2016-10-11T05:05:54              74.51          AMC #191138         US   \n",
       "2  2016-11-08T09:18:39               7.47           Play Store         US   \n",
       "3  2016-12-10T02:14:50               7.47           Play Store         US   \n",
       "4  2016-03-24T21:04:46              71.18  Tim Hortons #947751         US   \n",
       "\n",
       "  merchantCountryCode posEntryMode  ... echoBuffer currentBalance  \\\n",
       "0                  US           02  ...                       0.0   \n",
       "1                  US           09  ...                       0.0   \n",
       "2                  US           09  ...                       0.0   \n",
       "3                  US           09  ...                       0.0   \n",
       "4                  US           02  ...                       0.0   \n",
       "\n",
       "  merchantCity merchantState merchantZip  cardPresent  posOnPremises  \\\n",
       "0                                               False                  \n",
       "1                                                True                  \n",
       "2                                               False                  \n",
       "3                                               False                  \n",
       "4                                                True                  \n",
       "\n",
       "   recurringAuthInd expirationDateKeyInMatch isFraud  \n",
       "0                                      False   False  \n",
       "1                                      False   False  \n",
       "2                                      False   False  \n",
       "3                                      False   False  \n",
       "4                                      False   False  \n",
       "\n",
       "[5 rows x 29 columns]"
      ]
     },
     "execution_count": 4,
     "metadata": {},
     "output_type": "execute_result"
    }
   ],
   "source": [
    "df.head()"
   ]
  },
  {
   "cell_type": "markdown",
   "metadata": {
    "ExecuteTime": {
     "end_time": "2020-10-21T00:46:31.130385Z",
     "start_time": "2020-10-21T00:46:31.114384Z"
    }
   },
   "source": [
    "Check if columns have any values, otherwise drop them."
   ]
  },
  {
   "cell_type": "code",
   "execution_count": null,
   "metadata": {
    "ExecuteTime": {
     "end_time": "2020-10-26T19:43:08.408189Z",
     "start_time": "2020-10-26T19:43:08.353186Z"
    }
   },
   "outputs": [],
   "source": []
  },
  {
   "cell_type": "code",
   "execution_count": 5,
   "metadata": {
    "ExecuteTime": {
     "end_time": "2020-12-29T09:31:05.919825Z",
     "start_time": "2020-12-29T09:31:05.619808Z"
    }
   },
   "outputs": [],
   "source": [
    "df = df.drop(['accountNumber','echoBuffer','merchantCity','merchantState','merchantZip','posOnPremises','recurringAuthInd',] ,axis=1)"
   ]
  },
  {
   "cell_type": "code",
   "execution_count": 6,
   "metadata": {
    "ExecuteTime": {
     "end_time": "2020-12-29T09:31:07.341907Z",
     "start_time": "2020-12-29T09:31:05.920825Z"
    }
   },
   "outputs": [
    {
     "data": {
      "text/html": [
       "<div>\n",
       "<style scoped>\n",
       "    .dataframe tbody tr th:only-of-type {\n",
       "        vertical-align: middle;\n",
       "    }\n",
       "\n",
       "    .dataframe tbody tr th {\n",
       "        vertical-align: top;\n",
       "    }\n",
       "\n",
       "    .dataframe thead th {\n",
       "        text-align: right;\n",
       "    }\n",
       "</style>\n",
       "<table border=\"1\" class=\"dataframe\">\n",
       "  <thead>\n",
       "    <tr style=\"text-align: right;\">\n",
       "      <th></th>\n",
       "      <th>customerId</th>\n",
       "      <th>creditLimit</th>\n",
       "      <th>availableMoney</th>\n",
       "      <th>transactionDateTime</th>\n",
       "      <th>transactionAmount</th>\n",
       "      <th>merchantName</th>\n",
       "      <th>acqCountry</th>\n",
       "      <th>merchantCountryCode</th>\n",
       "      <th>posEntryMode</th>\n",
       "      <th>posConditionCode</th>\n",
       "      <th>...</th>\n",
       "      <th>accountOpenDate</th>\n",
       "      <th>dateOfLastAddressChange</th>\n",
       "      <th>cardCVV</th>\n",
       "      <th>enteredCVV</th>\n",
       "      <th>cardLast4Digits</th>\n",
       "      <th>transactionType</th>\n",
       "      <th>currentBalance</th>\n",
       "      <th>cardPresent</th>\n",
       "      <th>expirationDateKeyInMatch</th>\n",
       "      <th>isFraud</th>\n",
       "    </tr>\n",
       "  </thead>\n",
       "  <tbody>\n",
       "    <tr>\n",
       "      <th>0</th>\n",
       "      <td>737265056</td>\n",
       "      <td>5000</td>\n",
       "      <td>5000.00</td>\n",
       "      <td>2016-08-13T14:27:32</td>\n",
       "      <td>98.55</td>\n",
       "      <td>Uber</td>\n",
       "      <td>US</td>\n",
       "      <td>US</td>\n",
       "      <td>02</td>\n",
       "      <td>01</td>\n",
       "      <td>...</td>\n",
       "      <td>2015-03-14</td>\n",
       "      <td>2015-03-14</td>\n",
       "      <td>414</td>\n",
       "      <td>414</td>\n",
       "      <td>1803</td>\n",
       "      <td>PURCHASE</td>\n",
       "      <td>0.00</td>\n",
       "      <td>False</td>\n",
       "      <td>False</td>\n",
       "      <td>False</td>\n",
       "    </tr>\n",
       "    <tr>\n",
       "      <th>1</th>\n",
       "      <td>737265056</td>\n",
       "      <td>5000</td>\n",
       "      <td>5000.00</td>\n",
       "      <td>2016-10-11T05:05:54</td>\n",
       "      <td>74.51</td>\n",
       "      <td>AMC #191138</td>\n",
       "      <td>US</td>\n",
       "      <td>US</td>\n",
       "      <td>09</td>\n",
       "      <td>01</td>\n",
       "      <td>...</td>\n",
       "      <td>2015-03-14</td>\n",
       "      <td>2015-03-14</td>\n",
       "      <td>486</td>\n",
       "      <td>486</td>\n",
       "      <td>767</td>\n",
       "      <td>PURCHASE</td>\n",
       "      <td>0.00</td>\n",
       "      <td>True</td>\n",
       "      <td>False</td>\n",
       "      <td>False</td>\n",
       "    </tr>\n",
       "    <tr>\n",
       "      <th>2</th>\n",
       "      <td>737265056</td>\n",
       "      <td>5000</td>\n",
       "      <td>5000.00</td>\n",
       "      <td>2016-11-08T09:18:39</td>\n",
       "      <td>7.47</td>\n",
       "      <td>Play Store</td>\n",
       "      <td>US</td>\n",
       "      <td>US</td>\n",
       "      <td>09</td>\n",
       "      <td>01</td>\n",
       "      <td>...</td>\n",
       "      <td>2015-03-14</td>\n",
       "      <td>2015-03-14</td>\n",
       "      <td>486</td>\n",
       "      <td>486</td>\n",
       "      <td>767</td>\n",
       "      <td>PURCHASE</td>\n",
       "      <td>0.00</td>\n",
       "      <td>False</td>\n",
       "      <td>False</td>\n",
       "      <td>False</td>\n",
       "    </tr>\n",
       "    <tr>\n",
       "      <th>3</th>\n",
       "      <td>737265056</td>\n",
       "      <td>5000</td>\n",
       "      <td>5000.00</td>\n",
       "      <td>2016-12-10T02:14:50</td>\n",
       "      <td>7.47</td>\n",
       "      <td>Play Store</td>\n",
       "      <td>US</td>\n",
       "      <td>US</td>\n",
       "      <td>09</td>\n",
       "      <td>01</td>\n",
       "      <td>...</td>\n",
       "      <td>2015-03-14</td>\n",
       "      <td>2015-03-14</td>\n",
       "      <td>486</td>\n",
       "      <td>486</td>\n",
       "      <td>767</td>\n",
       "      <td>PURCHASE</td>\n",
       "      <td>0.00</td>\n",
       "      <td>False</td>\n",
       "      <td>False</td>\n",
       "      <td>False</td>\n",
       "    </tr>\n",
       "    <tr>\n",
       "      <th>4</th>\n",
       "      <td>830329091</td>\n",
       "      <td>5000</td>\n",
       "      <td>5000.00</td>\n",
       "      <td>2016-03-24T21:04:46</td>\n",
       "      <td>71.18</td>\n",
       "      <td>Tim Hortons #947751</td>\n",
       "      <td>US</td>\n",
       "      <td>US</td>\n",
       "      <td>02</td>\n",
       "      <td>01</td>\n",
       "      <td>...</td>\n",
       "      <td>2015-08-06</td>\n",
       "      <td>2015-08-06</td>\n",
       "      <td>885</td>\n",
       "      <td>885</td>\n",
       "      <td>3143</td>\n",
       "      <td>PURCHASE</td>\n",
       "      <td>0.00</td>\n",
       "      <td>True</td>\n",
       "      <td>False</td>\n",
       "      <td>False</td>\n",
       "    </tr>\n",
       "    <tr>\n",
       "      <th>...</th>\n",
       "      <td>...</td>\n",
       "      <td>...</td>\n",
       "      <td>...</td>\n",
       "      <td>...</td>\n",
       "      <td>...</td>\n",
       "      <td>...</td>\n",
       "      <td>...</td>\n",
       "      <td>...</td>\n",
       "      <td>...</td>\n",
       "      <td>...</td>\n",
       "      <td>...</td>\n",
       "      <td>...</td>\n",
       "      <td>...</td>\n",
       "      <td>...</td>\n",
       "      <td>...</td>\n",
       "      <td>...</td>\n",
       "      <td>...</td>\n",
       "      <td>...</td>\n",
       "      <td>...</td>\n",
       "      <td>...</td>\n",
       "      <td>...</td>\n",
       "    </tr>\n",
       "    <tr>\n",
       "      <th>786353</th>\n",
       "      <td>732852505</td>\n",
       "      <td>50000</td>\n",
       "      <td>49796.87</td>\n",
       "      <td>2016-12-10T12:24:38</td>\n",
       "      <td>190.41</td>\n",
       "      <td>EZ Putt Putt #804489</td>\n",
       "      <td>US</td>\n",
       "      <td>US</td>\n",
       "      <td>09</td>\n",
       "      <td>01</td>\n",
       "      <td>...</td>\n",
       "      <td>2012-08-23</td>\n",
       "      <td>2012-08-23</td>\n",
       "      <td>936</td>\n",
       "      <td>936</td>\n",
       "      <td>3783</td>\n",
       "      <td>PURCHASE</td>\n",
       "      <td>203.13</td>\n",
       "      <td>True</td>\n",
       "      <td>False</td>\n",
       "      <td>False</td>\n",
       "    </tr>\n",
       "    <tr>\n",
       "      <th>786354</th>\n",
       "      <td>732852505</td>\n",
       "      <td>50000</td>\n",
       "      <td>49606.46</td>\n",
       "      <td>2016-12-10T23:29:11</td>\n",
       "      <td>83.97</td>\n",
       "      <td>KFC #206511</td>\n",
       "      <td>US</td>\n",
       "      <td>US</td>\n",
       "      <td>05</td>\n",
       "      <td>08</td>\n",
       "      <td>...</td>\n",
       "      <td>2012-08-23</td>\n",
       "      <td>2012-08-23</td>\n",
       "      <td>939</td>\n",
       "      <td>939</td>\n",
       "      <td>3388</td>\n",
       "      <td>PURCHASE</td>\n",
       "      <td>393.54</td>\n",
       "      <td>True</td>\n",
       "      <td>False</td>\n",
       "      <td>False</td>\n",
       "    </tr>\n",
       "    <tr>\n",
       "      <th>786355</th>\n",
       "      <td>732852505</td>\n",
       "      <td>50000</td>\n",
       "      <td>49522.49</td>\n",
       "      <td>2016-12-18T14:06:34</td>\n",
       "      <td>157.22</td>\n",
       "      <td>Uber</td>\n",
       "      <td>US</td>\n",
       "      <td>US</td>\n",
       "      <td>09</td>\n",
       "      <td>01</td>\n",
       "      <td>...</td>\n",
       "      <td>2012-08-23</td>\n",
       "      <td>2012-08-23</td>\n",
       "      <td>936</td>\n",
       "      <td>936</td>\n",
       "      <td>3783</td>\n",
       "      <td>PURCHASE</td>\n",
       "      <td>477.51</td>\n",
       "      <td>False</td>\n",
       "      <td>False</td>\n",
       "      <td>False</td>\n",
       "    </tr>\n",
       "    <tr>\n",
       "      <th>786356</th>\n",
       "      <td>732852505</td>\n",
       "      <td>50000</td>\n",
       "      <td>49365.27</td>\n",
       "      <td>2016-12-19T03:25:53</td>\n",
       "      <td>408.83</td>\n",
       "      <td>Lyft</td>\n",
       "      <td>US</td>\n",
       "      <td>US</td>\n",
       "      <td>09</td>\n",
       "      <td>01</td>\n",
       "      <td>...</td>\n",
       "      <td>2012-08-23</td>\n",
       "      <td>2012-08-23</td>\n",
       "      <td>939</td>\n",
       "      <td>939</td>\n",
       "      <td>3388</td>\n",
       "      <td>PURCHASE</td>\n",
       "      <td>634.73</td>\n",
       "      <td>False</td>\n",
       "      <td>False</td>\n",
       "      <td>False</td>\n",
       "    </tr>\n",
       "    <tr>\n",
       "      <th>786357</th>\n",
       "      <td>732852505</td>\n",
       "      <td>50000</td>\n",
       "      <td>48956.44</td>\n",
       "      <td>2016-12-22T07:27:23</td>\n",
       "      <td>51.48</td>\n",
       "      <td>Sunoco Gas #380975</td>\n",
       "      <td>US</td>\n",
       "      <td>US</td>\n",
       "      <td>05</td>\n",
       "      <td>08</td>\n",
       "      <td>...</td>\n",
       "      <td>2012-08-23</td>\n",
       "      <td>2012-08-23</td>\n",
       "      <td>936</td>\n",
       "      <td>936</td>\n",
       "      <td>3783</td>\n",
       "      <td>PURCHASE</td>\n",
       "      <td>1043.56</td>\n",
       "      <td>True</td>\n",
       "      <td>False</td>\n",
       "      <td>False</td>\n",
       "    </tr>\n",
       "  </tbody>\n",
       "</table>\n",
       "<p>786358 rows × 22 columns</p>\n",
       "</div>"
      ],
      "text/plain": [
       "        customerId  creditLimit  availableMoney  transactionDateTime  \\\n",
       "0        737265056         5000         5000.00  2016-08-13T14:27:32   \n",
       "1        737265056         5000         5000.00  2016-10-11T05:05:54   \n",
       "2        737265056         5000         5000.00  2016-11-08T09:18:39   \n",
       "3        737265056         5000         5000.00  2016-12-10T02:14:50   \n",
       "4        830329091         5000         5000.00  2016-03-24T21:04:46   \n",
       "...            ...          ...             ...                  ...   \n",
       "786353   732852505        50000        49796.87  2016-12-10T12:24:38   \n",
       "786354   732852505        50000        49606.46  2016-12-10T23:29:11   \n",
       "786355   732852505        50000        49522.49  2016-12-18T14:06:34   \n",
       "786356   732852505        50000        49365.27  2016-12-19T03:25:53   \n",
       "786357   732852505        50000        48956.44  2016-12-22T07:27:23   \n",
       "\n",
       "        transactionAmount          merchantName acqCountry  \\\n",
       "0                   98.55                  Uber         US   \n",
       "1                   74.51           AMC #191138         US   \n",
       "2                    7.47            Play Store         US   \n",
       "3                    7.47            Play Store         US   \n",
       "4                   71.18   Tim Hortons #947751         US   \n",
       "...                   ...                   ...        ...   \n",
       "786353             190.41  EZ Putt Putt #804489         US   \n",
       "786354              83.97           KFC #206511         US   \n",
       "786355             157.22                  Uber         US   \n",
       "786356             408.83                  Lyft         US   \n",
       "786357              51.48    Sunoco Gas #380975         US   \n",
       "\n",
       "       merchantCountryCode posEntryMode posConditionCode  ... accountOpenDate  \\\n",
       "0                       US           02               01  ...      2015-03-14   \n",
       "1                       US           09               01  ...      2015-03-14   \n",
       "2                       US           09               01  ...      2015-03-14   \n",
       "3                       US           09               01  ...      2015-03-14   \n",
       "4                       US           02               01  ...      2015-08-06   \n",
       "...                    ...          ...              ...  ...             ...   \n",
       "786353                  US           09               01  ...      2012-08-23   \n",
       "786354                  US           05               08  ...      2012-08-23   \n",
       "786355                  US           09               01  ...      2012-08-23   \n",
       "786356                  US           09               01  ...      2012-08-23   \n",
       "786357                  US           05               08  ...      2012-08-23   \n",
       "\n",
       "       dateOfLastAddressChange cardCVV enteredCVV  cardLast4Digits  \\\n",
       "0                   2015-03-14     414        414             1803   \n",
       "1                   2015-03-14     486        486              767   \n",
       "2                   2015-03-14     486        486              767   \n",
       "3                   2015-03-14     486        486              767   \n",
       "4                   2015-08-06     885        885             3143   \n",
       "...                        ...     ...        ...              ...   \n",
       "786353              2012-08-23     936        936             3783   \n",
       "786354              2012-08-23     939        939             3388   \n",
       "786355              2012-08-23     936        936             3783   \n",
       "786356              2012-08-23     939        939             3388   \n",
       "786357              2012-08-23     936        936             3783   \n",
       "\n",
       "        transactionType  currentBalance cardPresent  expirationDateKeyInMatch  \\\n",
       "0              PURCHASE            0.00       False                     False   \n",
       "1              PURCHASE            0.00        True                     False   \n",
       "2              PURCHASE            0.00       False                     False   \n",
       "3              PURCHASE            0.00       False                     False   \n",
       "4              PURCHASE            0.00        True                     False   \n",
       "...                 ...             ...         ...                       ...   \n",
       "786353         PURCHASE          203.13        True                     False   \n",
       "786354         PURCHASE          393.54        True                     False   \n",
       "786355         PURCHASE          477.51       False                     False   \n",
       "786356         PURCHASE          634.73       False                     False   \n",
       "786357         PURCHASE         1043.56        True                     False   \n",
       "\n",
       "        isFraud  \n",
       "0         False  \n",
       "1         False  \n",
       "2         False  \n",
       "3         False  \n",
       "4         False  \n",
       "...         ...  \n",
       "786353    False  \n",
       "786354    False  \n",
       "786355    False  \n",
       "786356    False  \n",
       "786357    False  \n",
       "\n",
       "[786358 rows x 22 columns]"
      ]
     },
     "execution_count": 6,
     "metadata": {},
     "output_type": "execute_result"
    }
   ],
   "source": [
    "df.head(-5)"
   ]
  },
  {
   "cell_type": "code",
   "execution_count": 7,
   "metadata": {
    "ExecuteTime": {
     "end_time": "2020-12-29T09:31:07.428912Z",
     "start_time": "2020-12-29T09:31:07.343907Z"
    },
    "scrolled": true
   },
   "outputs": [],
   "source": [
    "#Get correct datatypes\n",
    "df.customerId = df.customerId.astype('object')\n",
    "df.creditLimit = df.creditLimit.astype('object')"
   ]
  },
  {
   "cell_type": "code",
   "execution_count": 8,
   "metadata": {
    "ExecuteTime": {
     "end_time": "2020-12-29T09:31:10.684098Z",
     "start_time": "2020-12-29T09:31:07.430912Z"
    }
   },
   "outputs": [],
   "source": [
    "#Change columns to Datetime\n",
    "df.transactionDateTime = pd.to_datetime(df.transactionDateTime.str.strip())\n",
    "df.dateOfLastAddressChange = pd.to_datetime(df.dateOfLastAddressChange.str.strip())\n",
    "df.accountOpenDate = pd.to_datetime(df.accountOpenDate.str.strip())\n",
    "\n",
    "\n"
   ]
  },
  {
   "cell_type": "code",
   "execution_count": 9,
   "metadata": {
    "ExecuteTime": {
     "end_time": "2020-12-29T09:31:11.217128Z",
     "start_time": "2020-12-29T09:31:10.686098Z"
    }
   },
   "outputs": [],
   "source": [
    "#Create different time columns \n",
    "df['month'] = df.transactionDateTime.dt.month\n",
    "df['day'] = df.transactionDateTime.dt.day\n",
    "df['dayofweek'] = df.transactionDateTime.dt.dayofweek\n",
    "df['hour'] = df.transactionDateTime.dt.hour"
   ]
  },
  {
   "cell_type": "code",
   "execution_count": 10,
   "metadata": {
    "ExecuteTime": {
     "end_time": "2020-12-29T09:31:11.250130Z",
     "start_time": "2020-12-29T09:31:11.218128Z"
    }
   },
   "outputs": [],
   "source": [
    "#difference in days of account open vs last change  \n",
    "df['diff'] = (df.accountOpenDate - df.dateOfLastAddressChange).dt.days"
   ]
  },
  {
   "cell_type": "markdown",
   "metadata": {},
   "source": [
    "Explore the fraud occurrences in the dataset"
   ]
  },
  {
   "cell_type": "code",
   "execution_count": 11,
   "metadata": {
    "ExecuteTime": {
     "end_time": "2020-12-29T09:31:12.083178Z",
     "start_time": "2020-12-29T09:31:11.251130Z"
    }
   },
   "outputs": [],
   "source": [
    "#Create Fraud/nofraud dataframes\n",
    "Fdf = df[df['isFraud']==True]\n",
    "nFdf = df[df['isFraud']==False]"
   ]
  },
  {
   "cell_type": "code",
   "execution_count": 12,
   "metadata": {
    "ExecuteTime": {
     "end_time": "2020-12-29T09:31:12.088178Z",
     "start_time": "2020-12-29T09:31:12.084178Z"
    }
   },
   "outputs": [
    {
     "name": "stdout",
     "output_type": "stream",
     "text": [
      "fraud cases : 12417\n",
      "valid cases : 773946\n",
      "fraud case % : 0.016043754990658264\n"
     ]
    }
   ],
   "source": [
    "fraction = len(Fdf)/float(len(nFdf))\n",
    "\n",
    "print(\"fraud cases : {}\".format(len(Fdf)))\n",
    "print(\"valid cases : {}\".format(len(nFdf)))\n",
    "print('fraud case % : {}'.format(fraction))\n",
    "                        "
   ]
  },
  {
   "cell_type": "markdown",
   "metadata": {},
   "source": [
    "We have a very imbalanced dataset.  Only a small amount of fraud cases we can use to train on.  \n",
    "This is a common scenario in the world of fraud detection, where most transactions are legitimate.  "
   ]
  },
  {
   "cell_type": "code",
   "execution_count": 13,
   "metadata": {
    "ExecuteTime": {
     "end_time": "2020-12-29T09:31:12.095179Z",
     "start_time": "2020-12-29T09:31:12.089178Z"
    }
   },
   "outputs": [
    {
     "data": {
      "text/plain": [
       "2796505.89"
      ]
     },
     "execution_count": 13,
     "metadata": {},
     "output_type": "execute_result"
    }
   ],
   "source": [
    "Fdf.transactionAmount.sum()"
   ]
  },
  {
   "cell_type": "code",
   "execution_count": 14,
   "metadata": {
    "ExecuteTime": {
     "end_time": "2020-12-29T09:31:12.102179Z",
     "start_time": "2020-12-29T09:31:12.096179Z"
    }
   },
   "outputs": [
    {
     "data": {
      "text/plain": [
       "225.2159048079239"
      ]
     },
     "execution_count": 14,
     "metadata": {},
     "output_type": "execute_result"
    }
   ],
   "source": [
    "Fdf.transactionAmount.mean()"
   ]
  },
  {
   "cell_type": "code",
   "execution_count": 15,
   "metadata": {
    "ExecuteTime": {
     "end_time": "2020-12-29T09:31:12.109179Z",
     "start_time": "2020-12-29T09:31:12.103179Z"
    }
   },
   "outputs": [
    {
     "data": {
      "text/plain": [
       "135.57024862199447"
      ]
     },
     "execution_count": 15,
     "metadata": {},
     "output_type": "execute_result"
    }
   ],
   "source": [
    "nFdf.transactionAmount.mean()"
   ]
  },
  {
   "cell_type": "markdown",
   "metadata": {},
   "source": [
    "We can see the total amount of Fraud transactions is about $2.8 million on 12,417 cases.\n",
    "\n",
    "The average legitimate transaction amounts are 135.57.\n",
    "\n",
    "While the average fraud transaction amounts are 225.21."
   ]
  },
  {
   "cell_type": "code",
   "execution_count": null,
   "metadata": {
    "ExecuteTime": {
     "end_time": "2020-12-29T06:38:57.634599Z",
     "start_time": "2020-12-29T06:38:39.014534Z"
    }
   },
   "outputs": [],
   "source": []
  },
  {
   "cell_type": "markdown",
   "metadata": {
    "ExecuteTime": {
     "end_time": "2020-10-21T11:07:15.664651Z",
     "start_time": "2020-10-21T11:07:14.863605Z"
    }
   },
   "source": [
    "Split the Numeric and Categorical variables.  "
   ]
  },
  {
   "cell_type": "code",
   "execution_count": 16,
   "metadata": {
    "ExecuteTime": {
     "end_time": "2020-12-29T09:31:12.250187Z",
     "start_time": "2020-12-29T09:31:12.110179Z"
    },
    "scrolled": false
   },
   "outputs": [],
   "source": [
    "cats = df[[\n",
    "    'customerId', 'merchantName', 'acqCountry', 'merchantCountryCode',\n",
    "    'posEntryMode', 'cardPresent', 'expirationDateKeyInMatch', 'isFraud',\n",
    "    'creditLimit', 'posConditionCode', 'transactionType',\n",
    "]]"
   ]
  },
  {
   "cell_type": "code",
   "execution_count": 17,
   "metadata": {
    "ExecuteTime": {
     "end_time": "2020-12-29T09:31:13.909282Z",
     "start_time": "2020-12-29T09:31:12.252188Z"
    }
   },
   "outputs": [
    {
     "data": {
      "text/html": [
       "<div>\n",
       "<style scoped>\n",
       "    .dataframe tbody tr th:only-of-type {\n",
       "        vertical-align: middle;\n",
       "    }\n",
       "\n",
       "    .dataframe tbody tr th {\n",
       "        vertical-align: top;\n",
       "    }\n",
       "\n",
       "    .dataframe thead th {\n",
       "        text-align: right;\n",
       "    }\n",
       "</style>\n",
       "<table border=\"1\" class=\"dataframe\">\n",
       "  <thead>\n",
       "    <tr style=\"text-align: right;\">\n",
       "      <th></th>\n",
       "      <th>customerId</th>\n",
       "      <th>merchantName</th>\n",
       "      <th>acqCountry</th>\n",
       "      <th>merchantCountryCode</th>\n",
       "      <th>posEntryMode</th>\n",
       "      <th>cardPresent</th>\n",
       "      <th>expirationDateKeyInMatch</th>\n",
       "      <th>isFraud</th>\n",
       "      <th>creditLimit</th>\n",
       "      <th>posConditionCode</th>\n",
       "      <th>transactionType</th>\n",
       "    </tr>\n",
       "  </thead>\n",
       "  <tbody>\n",
       "    <tr>\n",
       "      <th>count</th>\n",
       "      <td>786363</td>\n",
       "      <td>786363</td>\n",
       "      <td>786363</td>\n",
       "      <td>786363</td>\n",
       "      <td>786363</td>\n",
       "      <td>786363</td>\n",
       "      <td>786363</td>\n",
       "      <td>786363</td>\n",
       "      <td>786363</td>\n",
       "      <td>786363</td>\n",
       "      <td>786363</td>\n",
       "    </tr>\n",
       "    <tr>\n",
       "      <th>unique</th>\n",
       "      <td>5000</td>\n",
       "      <td>2490</td>\n",
       "      <td>5</td>\n",
       "      <td>5</td>\n",
       "      <td>6</td>\n",
       "      <td>2</td>\n",
       "      <td>2</td>\n",
       "      <td>2</td>\n",
       "      <td>10</td>\n",
       "      <td>4</td>\n",
       "      <td>4</td>\n",
       "    </tr>\n",
       "    <tr>\n",
       "      <th>top</th>\n",
       "      <td>380680241</td>\n",
       "      <td>Uber</td>\n",
       "      <td>US</td>\n",
       "      <td>US</td>\n",
       "      <td>05</td>\n",
       "      <td>False</td>\n",
       "      <td>False</td>\n",
       "      <td>False</td>\n",
       "      <td>5000</td>\n",
       "      <td>01</td>\n",
       "      <td>PURCHASE</td>\n",
       "    </tr>\n",
       "    <tr>\n",
       "      <th>freq</th>\n",
       "      <td>32850</td>\n",
       "      <td>25613</td>\n",
       "      <td>774709</td>\n",
       "      <td>778511</td>\n",
       "      <td>315035</td>\n",
       "      <td>433495</td>\n",
       "      <td>785320</td>\n",
       "      <td>773946</td>\n",
       "      <td>201863</td>\n",
       "      <td>628787</td>\n",
       "      <td>745193</td>\n",
       "    </tr>\n",
       "  </tbody>\n",
       "</table>\n",
       "</div>"
      ],
      "text/plain": [
       "        customerId merchantName acqCountry merchantCountryCode posEntryMode  \\\n",
       "count       786363       786363     786363              786363       786363   \n",
       "unique        5000         2490          5                   5            6   \n",
       "top      380680241         Uber         US                  US           05   \n",
       "freq         32850        25613     774709              778511       315035   \n",
       "\n",
       "       cardPresent expirationDateKeyInMatch isFraud  creditLimit  \\\n",
       "count       786363                   786363  786363       786363   \n",
       "unique           2                        2       2           10   \n",
       "top          False                    False   False         5000   \n",
       "freq        433495                   785320  773946       201863   \n",
       "\n",
       "       posConditionCode transactionType  \n",
       "count            786363          786363  \n",
       "unique                4               4  \n",
       "top                  01        PURCHASE  \n",
       "freq             628787          745193  "
      ]
     },
     "execution_count": 17,
     "metadata": {},
     "output_type": "execute_result"
    }
   ],
   "source": [
    "cats.describe()"
   ]
  },
  {
   "cell_type": "markdown",
   "metadata": {},
   "source": [
    "We can see that we have 5000 unique customerIds and they have 10 different creditlimit categories.\n",
    "The most common merchant is Uber. "
   ]
  },
  {
   "cell_type": "code",
   "execution_count": null,
   "metadata": {},
   "outputs": [],
   "source": []
  },
  {
   "cell_type": "code",
   "execution_count": 18,
   "metadata": {
    "ExecuteTime": {
     "end_time": "2020-12-29T09:31:13.921283Z",
     "start_time": "2020-12-29T09:31:13.910282Z"
    }
   },
   "outputs": [],
   "source": [
    "#all non fraud transactions numerics\n",
    "df_numeric = nFdf[['availableMoney','transactionAmount','currentBalance',]]\n",
    "#Fraud only transaction numerics\n",
    "Fdf_numeric = Fdf[['availableMoney','transactionAmount','currentBalance',]]"
   ]
  },
  {
   "cell_type": "markdown",
   "metadata": {},
   "source": [
    "We will begin exploring the numeric features of the dataset. \n",
    "\n",
    "We don't have too many columns to work with but lets take a took."
   ]
  },
  {
   "cell_type": "code",
   "execution_count": 19,
   "metadata": {
    "ExecuteTime": {
     "end_time": "2020-12-29T09:31:20.582664Z",
     "start_time": "2020-12-29T09:31:13.922283Z"
    }
   },
   "outputs": [
    {
     "data": {
      "text/plain": [
       "<AxesSubplot:xlabel='currentBalance', ylabel='Count'>"
      ]
     },
     "execution_count": 19,
     "metadata": {},
     "output_type": "execute_result"
    },
    {
     "data": {
      "image/png": "[encoded data removed]",
      "text/plain": [
       "<Figure size 1080x720 with 3 Axes>"
      ]
     },
     "metadata": {
      "needs_background": "light"
     },
     "output_type": "display_data"
    }
   ],
   "source": [
    "#All Transactions\n",
    "fig = plt.figure(figsize = (15,10))\n",
    "\n",
    "ax1 = fig.add_subplot(2,3,1)\n",
    "sns.histplot(df_numeric.availableMoney,ax=ax1) \n",
    "ax2 = fig.add_subplot(2,3,2)\n",
    "sns.histplot(df_numeric.transactionAmount,ax=ax2)\n",
    "ax3 = fig.add_subplot(2,3,3)\n",
    "sns.histplot(df_numeric.currentBalance,ax=ax3)"
   ]
  },
  {
   "cell_type": "code",
   "execution_count": 20,
   "metadata": {
    "ExecuteTime": {
     "end_time": "2020-12-29T09:31:21.676727Z",
     "start_time": "2020-12-29T09:31:20.583664Z"
    }
   },
   "outputs": [
    {
     "data": {
      "text/plain": [
       "<AxesSubplot:xlabel='currentBalance', ylabel='Count'>"
      ]
     },
     "execution_count": 20,
     "metadata": {},
     "output_type": "execute_result"
    },
    {
     "data": {
      "image/png": "[encoded data removed]",
      "text/plain": [
       "<Figure size 1080x720 with 3 Axes>"
      ]
     },
     "metadata": {
      "needs_background": "light"
     },
     "output_type": "display_data"
    }
   ],
   "source": [
    "#Fraud == True Transactions\n",
    "fig = plt.figure(figsize = (15,10))\n",
    "\n",
    "ax1 = fig.add_subplot(2,3,1)\n",
    "sns.histplot(Fdf_numeric.availableMoney,ax=ax1) \n",
    "ax2 = fig.add_subplot(2,3,2)\n",
    "sns.histplot(Fdf_numeric.transactionAmount,ax=ax2)\n",
    "ax3 = fig.add_subplot(2,3,3)\n",
    "sns.histplot(Fdf_numeric.currentBalance,ax=ax3)\n"
   ]
  },
  {
   "cell_type": "markdown",
   "metadata": {
    "ExecuteTime": {
     "end_time": "2020-12-29T08:33:53.010474Z",
     "start_time": "2020-12-29T08:33:52.393439Z"
    }
   },
   "source": [
    "We can see extreme skew in the data visually indicating the imbalanced nature of the transactions.  Fraud vs Non Fraud transactions show a similar level of skewness.  \n"
   ]
  },
  {
   "cell_type": "code",
   "execution_count": 21,
   "metadata": {
    "ExecuteTime": {
     "end_time": "2020-12-29T09:31:21.694728Z",
     "start_time": "2020-12-29T09:31:21.677727Z"
    }
   },
   "outputs": [
    {
     "data": {
      "text/html": [
       "<div>\n",
       "<style scoped>\n",
       "    .dataframe tbody tr th:only-of-type {\n",
       "        vertical-align: middle;\n",
       "    }\n",
       "\n",
       "    .dataframe tbody tr th {\n",
       "        vertical-align: top;\n",
       "    }\n",
       "\n",
       "    .dataframe thead th {\n",
       "        text-align: right;\n",
       "    }\n",
       "</style>\n",
       "<table border=\"1\" class=\"dataframe\">\n",
       "  <thead>\n",
       "    <tr style=\"text-align: right;\">\n",
       "      <th></th>\n",
       "      <th>availableMoney</th>\n",
       "      <th>transactionAmount</th>\n",
       "      <th>currentBalance</th>\n",
       "    </tr>\n",
       "  </thead>\n",
       "  <tbody>\n",
       "    <tr>\n",
       "      <th>count</th>\n",
       "      <td>12417.000000</td>\n",
       "      <td>12417.000000</td>\n",
       "      <td>12417.000000</td>\n",
       "    </tr>\n",
       "    <tr>\n",
       "      <th>mean</th>\n",
       "      <td>6142.894186</td>\n",
       "      <td>225.215905</td>\n",
       "      <td>4902.064338</td>\n",
       "    </tr>\n",
       "    <tr>\n",
       "      <th>std</th>\n",
       "      <td>8703.131117</td>\n",
       "      <td>189.551393</td>\n",
       "      <td>7074.701649</td>\n",
       "    </tr>\n",
       "    <tr>\n",
       "      <th>min</th>\n",
       "      <td>-614.390000</td>\n",
       "      <td>0.000000</td>\n",
       "      <td>0.000000</td>\n",
       "    </tr>\n",
       "    <tr>\n",
       "      <th>25%</th>\n",
       "      <td>1078.020000</td>\n",
       "      <td>86.000000</td>\n",
       "      <td>822.210000</td>\n",
       "    </tr>\n",
       "    <tr>\n",
       "      <th>50%</th>\n",
       "      <td>3120.950000</td>\n",
       "      <td>176.980000</td>\n",
       "      <td>2747.390000</td>\n",
       "    </tr>\n",
       "    <tr>\n",
       "      <th>75%</th>\n",
       "      <td>7502.820000</td>\n",
       "      <td>311.460000</td>\n",
       "      <td>5644.350000</td>\n",
       "    </tr>\n",
       "    <tr>\n",
       "      <th>max</th>\n",
       "      <td>50000.000000</td>\n",
       "      <td>1608.350000</td>\n",
       "      <td>47473.940000</td>\n",
       "    </tr>\n",
       "  </tbody>\n",
       "</table>\n",
       "</div>"
      ],
      "text/plain": [
       "       availableMoney  transactionAmount  currentBalance\n",
       "count    12417.000000       12417.000000    12417.000000\n",
       "mean      6142.894186         225.215905     4902.064338\n",
       "std       8703.131117         189.551393     7074.701649\n",
       "min       -614.390000           0.000000        0.000000\n",
       "25%       1078.020000          86.000000      822.210000\n",
       "50%       3120.950000         176.980000     2747.390000\n",
       "75%       7502.820000         311.460000     5644.350000\n",
       "max      50000.000000        1608.350000    47473.940000"
      ]
     },
     "execution_count": 21,
     "metadata": {},
     "output_type": "execute_result"
    }
   ],
   "source": [
    "Fdf_numeric.describe() "
   ]
  },
  {
   "cell_type": "code",
   "execution_count": 22,
   "metadata": {
    "ExecuteTime": {
     "end_time": "2020-12-29T09:31:21.772732Z",
     "start_time": "2020-12-29T09:31:21.695728Z"
    }
   },
   "outputs": [
    {
     "data": {
      "text/html": [
       "<div>\n",
       "<style scoped>\n",
       "    .dataframe tbody tr th:only-of-type {\n",
       "        vertical-align: middle;\n",
       "    }\n",
       "\n",
       "    .dataframe tbody tr th {\n",
       "        vertical-align: top;\n",
       "    }\n",
       "\n",
       "    .dataframe thead th {\n",
       "        text-align: right;\n",
       "    }\n",
       "</style>\n",
       "<table border=\"1\" class=\"dataframe\">\n",
       "  <thead>\n",
       "    <tr style=\"text-align: right;\">\n",
       "      <th></th>\n",
       "      <th>availableMoney</th>\n",
       "      <th>transactionAmount</th>\n",
       "      <th>currentBalance</th>\n",
       "    </tr>\n",
       "  </thead>\n",
       "  <tbody>\n",
       "    <tr>\n",
       "      <th>count</th>\n",
       "      <td>773946.000000</td>\n",
       "      <td>773946.000000</td>\n",
       "      <td>773946.000000</td>\n",
       "    </tr>\n",
       "    <tr>\n",
       "      <th>mean</th>\n",
       "      <td>6252.455386</td>\n",
       "      <td>135.570249</td>\n",
       "      <td>4502.428675</td>\n",
       "    </tr>\n",
       "    <tr>\n",
       "      <th>std</th>\n",
       "      <td>8883.600096</td>\n",
       "      <td>146.525305</td>\n",
       "      <td>6446.866656</td>\n",
       "    </tr>\n",
       "    <tr>\n",
       "      <th>min</th>\n",
       "      <td>-1005.630000</td>\n",
       "      <td>0.000000</td>\n",
       "      <td>0.000000</td>\n",
       "    </tr>\n",
       "    <tr>\n",
       "      <th>25%</th>\n",
       "      <td>1077.420000</td>\n",
       "      <td>33.190000</td>\n",
       "      <td>688.032500</td>\n",
       "    </tr>\n",
       "    <tr>\n",
       "      <th>50%</th>\n",
       "      <td>3186.145000</td>\n",
       "      <td>86.760000</td>\n",
       "      <td>2446.940000</td>\n",
       "    </tr>\n",
       "    <tr>\n",
       "      <th>75%</th>\n",
       "      <td>7500.000000</td>\n",
       "      <td>189.390000</td>\n",
       "      <td>5286.100000</td>\n",
       "    </tr>\n",
       "    <tr>\n",
       "      <th>max</th>\n",
       "      <td>50000.000000</td>\n",
       "      <td>2011.540000</td>\n",
       "      <td>47498.810000</td>\n",
       "    </tr>\n",
       "  </tbody>\n",
       "</table>\n",
       "</div>"
      ],
      "text/plain": [
       "       availableMoney  transactionAmount  currentBalance\n",
       "count   773946.000000      773946.000000   773946.000000\n",
       "mean      6252.455386         135.570249     4502.428675\n",
       "std       8883.600096         146.525305     6446.866656\n",
       "min      -1005.630000           0.000000        0.000000\n",
       "25%       1077.420000          33.190000      688.032500\n",
       "50%       3186.145000          86.760000     2446.940000\n",
       "75%       7500.000000         189.390000     5286.100000\n",
       "max      50000.000000        2011.540000    47498.810000"
      ]
     },
     "execution_count": 22,
     "metadata": {},
     "output_type": "execute_result"
    }
   ],
   "source": [
    "df_numeric.describe()"
   ]
  },
  {
   "cell_type": "markdown",
   "metadata": {
    "ExecuteTime": {
     "end_time": "2020-12-29T08:28:50.987199Z",
     "start_time": "2020-12-29T08:28:47.380993Z"
    }
   },
   "source": [
    "We can see the mean availableMoney and currentBalance columns for Fraud vs no-Fraud are very similar.  The largest difference is the transaction amount. 135 no-Fraud vs 225 Fraud\n",
    "\n",
    "The mean/std transaction size is larger for fraud vs no fraud...\n"
   ]
  },
  {
   "cell_type": "code",
   "execution_count": null,
   "metadata": {
    "ExecuteTime": {
     "end_time": "2020-10-28T00:16:38.122029Z",
     "start_time": "2020-10-28T00:16:37.882015Z"
    }
   },
   "outputs": [],
   "source": []
  },
  {
   "cell_type": "markdown",
   "metadata": {
    "ExecuteTime": {
     "end_time": "2020-10-26T19:37:08.355595Z",
     "start_time": "2020-10-26T19:37:08.336594Z"
    }
   },
   "source": [
    "What are the spending habits / patterns of the transactions?  What features stand out between fraud and no-fraud transactions.\n",
    "Compare Distributions on merchants between fraud/no-fraud. \n",
    "    "
   ]
  },
  {
   "cell_type": "markdown",
   "metadata": {},
   "source": [
    "Most popular merchants by # of transactions"
   ]
  },
  {
   "cell_type": "code",
   "execution_count": 23,
   "metadata": {
    "ExecuteTime": {
     "end_time": "2020-12-29T09:31:22.118752Z",
     "start_time": "2020-12-29T09:31:21.776732Z"
    },
    "cell_style": "split"
   },
   "outputs": [
    {
     "data": {
      "text/plain": [
       "Lyft                        760\n",
       "ebay.com                    639\n",
       "Fresh Flowers               553\n",
       "Uber                        512\n",
       "walmart.com                 446\n",
       "                           ... \n",
       "Hyatt House #770440           1\n",
       "Universe Massage #596422      1\n",
       "Powerlifting #764704          1\n",
       "Cinnabon #124416              1\n",
       "Dunkin' Donuts #387966        1\n",
       "Name: merchantName, Length: 1042, dtype: int64"
      ]
     },
     "execution_count": 23,
     "metadata": {},
     "output_type": "execute_result"
    },
    {
     "data": {
      "image/png": "[encoded data removed]",
      "text/plain": [
       "<Figure size 720x360 with 1 Axes>"
      ]
     },
     "metadata": {
      "needs_background": "light"
     },
     "output_type": "display_data"
    }
   ],
   "source": [
    "#Popular merchants in Fraud transactions\n",
    "Fdf['merchantName'].value_counts().nlargest(30).plot(kind='bar',figsize=(10,5))\n",
    "Fdf.merchantName.value_counts()"
   ]
  },
  {
   "cell_type": "code",
   "execution_count": 24,
   "metadata": {
    "ExecuteTime": {
     "end_time": "2020-12-29T09:31:22.828793Z",
     "start_time": "2020-12-29T09:31:22.121752Z"
    },
    "cell_style": "split"
   },
   "outputs": [
    {
     "data": {
      "text/plain": [
       "Uber                        25101\n",
       "Lyft                        24763\n",
       "oldnavy.com                 16591\n",
       "staples.com                 16581\n",
       "alibaba.com                 16576\n",
       "                            ...  \n",
       "Boost Mobile #104815            2\n",
       "Runners #383214                 2\n",
       "EZ Wireless #149871             1\n",
       "Curves #849125                  1\n",
       "TMobile Wireless #602341        1\n",
       "Name: merchantName, Length: 2490, dtype: int64"
      ]
     },
     "execution_count": 24,
     "metadata": {},
     "output_type": "execute_result"
    },
    {
     "data": {
      "image/png": "[encoded data removed]",
      "text/plain": [
       "<Figure size 720x360 with 1 Axes>"
      ]
     },
     "metadata": {
      "needs_background": "light"
     },
     "output_type": "display_data"
    }
   ],
   "source": [
    "#Popular Merchants in Valid Transactions\n",
    "nFdf['merchantName'].value_counts().nlargest(30).plot(kind='bar',figsize=(10,5))\n",
    "nFdf.merchantName.value_counts()"
   ]
  },
  {
   "cell_type": "markdown",
   "metadata": {
    "ExecuteTime": {
     "end_time": "2020-10-20T23:09:41.272080Z",
     "start_time": "2020-10-20T23:09:39.972006Z"
    }
   },
   "source": [
    "\n",
    "The Fraud vs no-Fraud vendor count is similar, however one vendor Fresh Flowers seems to stand out as it is #3 in fraud but #22 in overall transactions by count."
   ]
  },
  {
   "cell_type": "code",
   "execution_count": null,
   "metadata": {},
   "outputs": [],
   "source": []
  },
  {
   "cell_type": "code",
   "execution_count": 25,
   "metadata": {
    "ExecuteTime": {
     "end_time": "2020-12-29T09:31:22.837793Z",
     "start_time": "2020-12-29T09:31:22.829793Z"
    },
    "cell_style": "split"
   },
   "outputs": [
    {
     "data": {
      "text/plain": [
       "False    0.721752\n",
       "True     0.278248\n",
       "Name: cardPresent, dtype: float64"
      ]
     },
     "execution_count": 25,
     "metadata": {},
     "output_type": "execute_result"
    }
   ],
   "source": [
    "Fdf.cardPresent.value_counts(normalize=True)\n"
   ]
  },
  {
   "cell_type": "code",
   "execution_count": 26,
   "metadata": {
    "ExecuteTime": {
     "end_time": "2020-12-29T09:31:22.855794Z",
     "start_time": "2020-12-29T09:31:22.841793Z"
    },
    "cell_style": "split"
   },
   "outputs": [
    {
     "data": {
      "text/plain": [
       "False    0.551266\n",
       "True     0.448734\n",
       "Name: cardPresent, dtype: float64"
      ]
     },
     "execution_count": 26,
     "metadata": {},
     "output_type": "execute_result"
    }
   ],
   "source": [
    "df.cardPresent.value_counts(normalize=True)"
   ]
  },
  {
   "cell_type": "markdown",
   "metadata": {
    "ExecuteTime": {
     "end_time": "2020-10-28T01:05:08.420489Z",
     "start_time": "2020-10-28T01:05:08.384486Z"
    }
   },
   "source": [
    "(cardPresent = False) during Fraud transactions was 72% of time vs only 55% for all transactions.  \n"
   ]
  },
  {
   "cell_type": "code",
   "execution_count": 27,
   "metadata": {
    "ExecuteTime": {
     "end_time": "2020-12-29T09:31:23.032804Z",
     "start_time": "2020-12-29T09:31:22.856794Z"
    },
    "cell_style": "split"
   },
   "outputs": [
    {
     "data": {
      "image/png": "[encoded data removed]",
      "text/plain": [
       "<Figure size 432x288 with 1 Axes>"
      ]
     },
     "metadata": {
      "needs_background": "light"
     },
     "output_type": "display_data"
    }
   ],
   "source": [
    "ax = sns.countplot(x=\"posConditionCode\",hue='isFraud', data=Fdf, palette=\"Set2\")\n",
    "ax.set_title(\"Distribution of transaction by posConditionCode\")\n",
    "plt.xticks(\n",
    "    rotation=45, \n",
    "    horizontalalignment='right',\n",
    "    fontweight='light',\n",
    "    fontsize='x-large'  \n",
    ");"
   ]
  },
  {
   "cell_type": "code",
   "execution_count": 28,
   "metadata": {
    "ExecuteTime": {
     "end_time": "2020-12-29T09:31:23.210814Z",
     "start_time": "2020-12-29T09:31:23.033804Z"
    },
    "cell_style": "split"
   },
   "outputs": [
    {
     "data": {
      "image/png": "[encoded data removed]",
      "text/plain": [
       "<Figure size 432x288 with 1 Axes>"
      ]
     },
     "metadata": {
      "needs_background": "light"
     },
     "output_type": "display_data"
    }
   ],
   "source": [
    "ax = sns.countplot(x=\"posEntryMode\",hue='isFraud', data=Fdf, palette=\"Set2\")\n",
    "ax.set_title(\"Distribution of transaction by posConditionCode\")\n",
    "plt.xticks(\n",
    "    rotation=45, \n",
    "    horizontalalignment='right',\n",
    "    fontweight='light',\n",
    "    fontsize='x-large'  \n",
    ");"
   ]
  },
  {
   "cell_type": "markdown",
   "metadata": {},
   "source": [
    "Vast Majority of fraud Transactions go through POS code 01  and POS entry Mode 09"
   ]
  },
  {
   "cell_type": "code",
   "execution_count": 29,
   "metadata": {
    "ExecuteTime": {
     "end_time": "2020-12-29T09:31:23.554834Z",
     "start_time": "2020-12-29T09:31:23.211814Z"
    }
   },
   "outputs": [
    {
     "data": {
      "image/png": "[encoded data removed]",
      "text/plain": [
       "<Figure size 432x288 with 1 Axes>"
      ]
     },
     "metadata": {
      "needs_background": "light"
     },
     "output_type": "display_data"
    }
   ],
   "source": [
    "#fraud transaction amounts by Day\n",
    "ax = sns.countplot(x=\"day\", hue = 'isFraud', data=Fdf, palette=\"Set2\")\n",
    "ax.set_title(\"Distribution of transaction by day of week\")\n",
    "\n",
    "plt.xticks(\n",
    "    rotation=45, \n",
    "    horizontalalignment='right',\n",
    "    fontweight='light',\n",
    "    fontsize='x-large'  \n",
    ");"
   ]
  },
  {
   "cell_type": "markdown",
   "metadata": {},
   "source": [
    "A very even amount of fraud transactions per day of the week save for the last of the month.  "
   ]
  },
  {
   "cell_type": "code",
   "execution_count": 30,
   "metadata": {
    "ExecuteTime": {
     "end_time": "2020-12-29T09:31:23.854851Z",
     "start_time": "2020-12-29T09:31:23.555834Z"
    }
   },
   "outputs": [
    {
     "data": {
      "image/png": "[encoded data removed]",
      "text/plain": [
       "<Figure size 432x288 with 1 Axes>"
      ]
     },
     "metadata": {
      "needs_background": "light"
     },
     "output_type": "display_data"
    }
   ],
   "source": [
    "#fraud transaction amounts by hour \n",
    "ax = sns.countplot(x=\"hour\", hue = 'isFraud', data=Fdf, palette=\"Set2\")\n",
    "ax.set_title(\"Distribution of transaction by day of week\")\n",
    "\n",
    "plt.xticks(\n",
    "    rotation=90, \n",
    "    horizontalalignment='center',\n",
    "    fontweight='light',\n",
    "    fontsize='x-large'  \n",
    ");"
   ]
  },
  {
   "cell_type": "markdown",
   "metadata": {},
   "source": [
    "Count of Fraud transactions by hour of the day doesn't seem to show any big spikes. a slight increase around the middle of the day"
   ]
  },
  {
   "cell_type": "markdown",
   "metadata": {},
   "source": [
    "Run a heatmap to see if any features are correlated "
   ]
  },
  {
   "cell_type": "code",
   "execution_count": 31,
   "metadata": {
    "ExecuteTime": {
     "end_time": "2020-12-29T09:31:24.353880Z",
     "start_time": "2020-12-29T09:31:23.857851Z"
    }
   },
   "outputs": [],
   "source": [
    "corr = df.corr()"
   ]
  },
  {
   "cell_type": "code",
   "execution_count": 32,
   "metadata": {
    "ExecuteTime": {
     "end_time": "2020-12-29T09:31:24.691899Z",
     "start_time": "2020-12-29T09:31:24.355880Z"
    }
   },
   "outputs": [
    {
     "data": {
      "text/plain": [
       "<AxesSubplot:>"
      ]
     },
     "execution_count": 32,
     "metadata": {},
     "output_type": "execute_result"
    },
    {
     "data": {
      "image/png": "[encoded data removed]",
      "text/plain": [
       "<Figure size 432x288 with 2 Axes>"
      ]
     },
     "metadata": {
      "needs_background": "light"
     },
     "output_type": "display_data"
    }
   ],
   "source": [
    "sns.heatmap(corr)"
   ]
  },
  {
   "cell_type": "markdown",
   "metadata": {},
   "source": [
    "Not too much information here but we see slight correlations to fraud in the currentBalance and transactionAmount columns"
   ]
  },
  {
   "cell_type": "code",
   "execution_count": null,
   "metadata": {},
   "outputs": [],
   "source": []
  },
  {
   "cell_type": "code",
   "execution_count": null,
   "metadata": {},
   "outputs": [],
   "source": []
  },
  {
   "cell_type": "code",
   "execution_count": null,
   "metadata": {},
   "outputs": [],
   "source": []
  }
 ],
 "metadata": {
  "kernelspec": {
   "display_name": "Python 3",
   "language": "python",
   "name": "python3"
  },
  "language_info": {
   "codemirror_mode": {
    "name": "ipython",
    "version": 3
   },
   "file_extension": ".py",
   "mimetype": "text/x-python",
   "name": "python",
   "nbconvert_exporter": "python",
   "pygments_lexer": "ipython3",
   "version": "3.6.12"
  },
  "nbTranslate": {
   "displayLangs": [
    "*"
   ],
   "hotkey": "alt-t",
   "langInMainMenu": true,
   "sourceLang": "en",
   "targetLang": "fr",
   "useGoogleTranslate": true
  },
  "varInspector": {
   "cols": {
    "lenName": 16,
    "lenType": 16,
    "lenVar": 40
   },
   "kernels_config": {
    "python": {
     "delete_cmd_postfix": "",
     "delete_cmd_prefix": "del ",
     "library": "var_list.py",
     "varRefreshCmd": "print(var_dic_list())"
    },
    "r": {
     "delete_cmd_postfix": ") ",
     "delete_cmd_prefix": "rm(",
     "library": "var_list.r",
     "varRefreshCmd": "cat(var_dic_list()) "
    }
   },
   "position": {
    "height": "255px",
    "left": "1556px",
    "right": "20px",
    "top": "135px",
    "width": "334px"
   },
   "types_to_exclude": [
    "module",
    "function",
    "builtin_function_or_method",
    "instance",
    "_Feature"
   ],
   "window_display": true
  }
 },
 "nbformat": 4,
 "nbformat_minor": 4
}
