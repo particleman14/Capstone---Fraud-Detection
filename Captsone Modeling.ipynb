{
 "cells": [
  {
   "cell_type": "code",
   "execution_count": 1,
   "metadata": {
    "ExecuteTime": {
     "end_time": "2020-12-29T09:50:45.846313Z",
     "start_time": "2020-12-29T09:50:42.861143Z"
    }
   },
   "outputs": [],
   "source": [
    "import json \n",
    "import pandas as pd\n",
    "import numpy as np\n",
    "import matplotlib.pyplot as plt\n",
    "import seaborn as sns\n",
    "from sklearn.preprocessing import PowerTransformer\n",
    "from sklearn.model_selection import train_test_split,cross_val_score,RandomizedSearchCV\n",
    "from sklearn.metrics import accuracy_score,roc_auc_score,roc_curve,classification_report, confusion_matrix\n",
    "import xgboost as xgb\n"
   ]
  },
  {
   "cell_type": "code",
   "execution_count": 2,
   "metadata": {
    "ExecuteTime": {
     "end_time": "2020-12-29T09:51:02.846286Z",
     "start_time": "2020-12-29T09:50:45.847313Z"
    }
   },
   "outputs": [],
   "source": [
    "df = pd.read_json('transactionsjson.json',lines=True)"
   ]
  },
  {
   "cell_type": "code",
   "execution_count": 3,
   "metadata": {
    "ExecuteTime": {
     "end_time": "2020-12-29T09:51:02.858286Z",
     "start_time": "2020-12-29T09:51:02.849286Z"
    }
   },
   "outputs": [
    {
     "data": {
      "text/plain": [
       "Index(['accountNumber', 'customerId', 'creditLimit', 'availableMoney',\n",
       "       'transactionDateTime', 'transactionAmount', 'merchantName',\n",
       "       'acqCountry', 'merchantCountryCode', 'posEntryMode', 'posConditionCode',\n",
       "       'merchantCategoryCode', 'currentExpDate', 'accountOpenDate',\n",
       "       'dateOfLastAddressChange', 'cardCVV', 'enteredCVV', 'cardLast4Digits',\n",
       "       'transactionType', 'echoBuffer', 'currentBalance', 'merchantCity',\n",
       "       'merchantState', 'merchantZip', 'cardPresent', 'posOnPremises',\n",
       "       'recurringAuthInd', 'expirationDateKeyInMatch', 'isFraud'],\n",
       "      dtype='object')"
      ]
     },
     "execution_count": 3,
     "metadata": {},
     "output_type": "execute_result"
    }
   ],
   "source": [
    "df.columns"
   ]
  },
  {
   "cell_type": "code",
   "execution_count": 4,
   "metadata": {
    "ExecuteTime": {
     "end_time": "2020-12-29T09:51:03.023296Z",
     "start_time": "2020-12-29T09:51:02.860286Z"
    }
   },
   "outputs": [],
   "source": [
    "#Select Relevant Columns  \n",
    "df_model = df[['creditLimit','availableMoney','transactionAmount','transactionType','currentBalance',\n",
    "               'posEntryMode','cardPresent','recurringAuthInd','expirationDateKeyInMatch','isFraud',\n",
    "               'acqCountry','merchantCountryCode','posConditionCode']]"
   ]
  },
  {
   "cell_type": "code",
   "execution_count": 5,
   "metadata": {
    "ExecuteTime": {
     "end_time": "2020-12-29T09:51:04.206363Z",
     "start_time": "2020-12-29T09:51:03.025296Z"
    }
   },
   "outputs": [],
   "source": [
    "#get dummies\n",
    "df_dum = pd.get_dummies(df_model,drop_first=True)"
   ]
  },
  {
   "cell_type": "code",
   "execution_count": 6,
   "metadata": {
    "ExecuteTime": {
     "end_time": "2020-12-29T09:51:04.255366Z",
     "start_time": "2020-12-29T09:51:04.207364Z"
    }
   },
   "outputs": [
    {
     "data": {
      "text/html": [
       "<div>\n",
       "<style scoped>\n",
       "    .dataframe tbody tr th:only-of-type {\n",
       "        vertical-align: middle;\n",
       "    }\n",
       "\n",
       "    .dataframe tbody tr th {\n",
       "        vertical-align: top;\n",
       "    }\n",
       "\n",
       "    .dataframe thead th {\n",
       "        text-align: right;\n",
       "    }\n",
       "</style>\n",
       "<table border=\"1\" class=\"dataframe\">\n",
       "  <thead>\n",
       "    <tr style=\"text-align: right;\">\n",
       "      <th></th>\n",
       "      <th>creditLimit</th>\n",
       "      <th>availableMoney</th>\n",
       "      <th>transactionAmount</th>\n",
       "      <th>currentBalance</th>\n",
       "      <th>cardPresent</th>\n",
       "      <th>expirationDateKeyInMatch</th>\n",
       "      <th>isFraud</th>\n",
       "      <th>transactionType_ADDRESS_VERIFICATION</th>\n",
       "      <th>transactionType_PURCHASE</th>\n",
       "      <th>transactionType_REVERSAL</th>\n",
       "      <th>...</th>\n",
       "      <th>acqCountry_MEX</th>\n",
       "      <th>acqCountry_PR</th>\n",
       "      <th>acqCountry_US</th>\n",
       "      <th>merchantCountryCode_CAN</th>\n",
       "      <th>merchantCountryCode_MEX</th>\n",
       "      <th>merchantCountryCode_PR</th>\n",
       "      <th>merchantCountryCode_US</th>\n",
       "      <th>posConditionCode_01</th>\n",
       "      <th>posConditionCode_08</th>\n",
       "      <th>posConditionCode_99</th>\n",
       "    </tr>\n",
       "  </thead>\n",
       "  <tbody>\n",
       "    <tr>\n",
       "      <th>0</th>\n",
       "      <td>5000</td>\n",
       "      <td>5000.0</td>\n",
       "      <td>98.55</td>\n",
       "      <td>0.0</td>\n",
       "      <td>False</td>\n",
       "      <td>False</td>\n",
       "      <td>False</td>\n",
       "      <td>0</td>\n",
       "      <td>1</td>\n",
       "      <td>0</td>\n",
       "      <td>...</td>\n",
       "      <td>0</td>\n",
       "      <td>0</td>\n",
       "      <td>1</td>\n",
       "      <td>0</td>\n",
       "      <td>0</td>\n",
       "      <td>0</td>\n",
       "      <td>1</td>\n",
       "      <td>1</td>\n",
       "      <td>0</td>\n",
       "      <td>0</td>\n",
       "    </tr>\n",
       "    <tr>\n",
       "      <th>1</th>\n",
       "      <td>5000</td>\n",
       "      <td>5000.0</td>\n",
       "      <td>74.51</td>\n",
       "      <td>0.0</td>\n",
       "      <td>True</td>\n",
       "      <td>False</td>\n",
       "      <td>False</td>\n",
       "      <td>0</td>\n",
       "      <td>1</td>\n",
       "      <td>0</td>\n",
       "      <td>...</td>\n",
       "      <td>0</td>\n",
       "      <td>0</td>\n",
       "      <td>1</td>\n",
       "      <td>0</td>\n",
       "      <td>0</td>\n",
       "      <td>0</td>\n",
       "      <td>1</td>\n",
       "      <td>1</td>\n",
       "      <td>0</td>\n",
       "      <td>0</td>\n",
       "    </tr>\n",
       "    <tr>\n",
       "      <th>2</th>\n",
       "      <td>5000</td>\n",
       "      <td>5000.0</td>\n",
       "      <td>7.47</td>\n",
       "      <td>0.0</td>\n",
       "      <td>False</td>\n",
       "      <td>False</td>\n",
       "      <td>False</td>\n",
       "      <td>0</td>\n",
       "      <td>1</td>\n",
       "      <td>0</td>\n",
       "      <td>...</td>\n",
       "      <td>0</td>\n",
       "      <td>0</td>\n",
       "      <td>1</td>\n",
       "      <td>0</td>\n",
       "      <td>0</td>\n",
       "      <td>0</td>\n",
       "      <td>1</td>\n",
       "      <td>1</td>\n",
       "      <td>0</td>\n",
       "      <td>0</td>\n",
       "    </tr>\n",
       "    <tr>\n",
       "      <th>3</th>\n",
       "      <td>5000</td>\n",
       "      <td>5000.0</td>\n",
       "      <td>7.47</td>\n",
       "      <td>0.0</td>\n",
       "      <td>False</td>\n",
       "      <td>False</td>\n",
       "      <td>False</td>\n",
       "      <td>0</td>\n",
       "      <td>1</td>\n",
       "      <td>0</td>\n",
       "      <td>...</td>\n",
       "      <td>0</td>\n",
       "      <td>0</td>\n",
       "      <td>1</td>\n",
       "      <td>0</td>\n",
       "      <td>0</td>\n",
       "      <td>0</td>\n",
       "      <td>1</td>\n",
       "      <td>1</td>\n",
       "      <td>0</td>\n",
       "      <td>0</td>\n",
       "    </tr>\n",
       "    <tr>\n",
       "      <th>4</th>\n",
       "      <td>5000</td>\n",
       "      <td>5000.0</td>\n",
       "      <td>71.18</td>\n",
       "      <td>0.0</td>\n",
       "      <td>True</td>\n",
       "      <td>False</td>\n",
       "      <td>False</td>\n",
       "      <td>0</td>\n",
       "      <td>1</td>\n",
       "      <td>0</td>\n",
       "      <td>...</td>\n",
       "      <td>0</td>\n",
       "      <td>0</td>\n",
       "      <td>1</td>\n",
       "      <td>0</td>\n",
       "      <td>0</td>\n",
       "      <td>0</td>\n",
       "      <td>1</td>\n",
       "      <td>1</td>\n",
       "      <td>0</td>\n",
       "      <td>0</td>\n",
       "    </tr>\n",
       "  </tbody>\n",
       "</table>\n",
       "<p>5 rows × 26 columns</p>\n",
       "</div>"
      ],
      "text/plain": [
       "   creditLimit  availableMoney  transactionAmount  currentBalance  \\\n",
       "0         5000          5000.0              98.55             0.0   \n",
       "1         5000          5000.0              74.51             0.0   \n",
       "2         5000          5000.0               7.47             0.0   \n",
       "3         5000          5000.0               7.47             0.0   \n",
       "4         5000          5000.0              71.18             0.0   \n",
       "\n",
       "   cardPresent  expirationDateKeyInMatch  isFraud  \\\n",
       "0        False                     False    False   \n",
       "1         True                     False    False   \n",
       "2        False                     False    False   \n",
       "3        False                     False    False   \n",
       "4         True                     False    False   \n",
       "\n",
       "   transactionType_ADDRESS_VERIFICATION  transactionType_PURCHASE  \\\n",
       "0                                     0                         1   \n",
       "1                                     0                         1   \n",
       "2                                     0                         1   \n",
       "3                                     0                         1   \n",
       "4                                     0                         1   \n",
       "\n",
       "   transactionType_REVERSAL  ...  acqCountry_MEX  acqCountry_PR  \\\n",
       "0                         0  ...               0              0   \n",
       "1                         0  ...               0              0   \n",
       "2                         0  ...               0              0   \n",
       "3                         0  ...               0              0   \n",
       "4                         0  ...               0              0   \n",
       "\n",
       "   acqCountry_US  merchantCountryCode_CAN  merchantCountryCode_MEX  \\\n",
       "0              1                        0                        0   \n",
       "1              1                        0                        0   \n",
       "2              1                        0                        0   \n",
       "3              1                        0                        0   \n",
       "4              1                        0                        0   \n",
       "\n",
       "   merchantCountryCode_PR  merchantCountryCode_US  posConditionCode_01  \\\n",
       "0                       0                       1                    1   \n",
       "1                       0                       1                    1   \n",
       "2                       0                       1                    1   \n",
       "3                       0                       1                    1   \n",
       "4                       0                       1                    1   \n",
       "\n",
       "   posConditionCode_08  posConditionCode_99  \n",
       "0                    0                    0  \n",
       "1                    0                    0  \n",
       "2                    0                    0  \n",
       "3                    0                    0  \n",
       "4                    0                    0  \n",
       "\n",
       "[5 rows x 26 columns]"
      ]
     },
     "execution_count": 6,
     "metadata": {},
     "output_type": "execute_result"
    }
   ],
   "source": [
    "df_dum.head()"
   ]
  },
  {
   "cell_type": "code",
   "execution_count": 7,
   "metadata": {
    "ExecuteTime": {
     "end_time": "2020-12-29T09:51:04.647389Z",
     "start_time": "2020-12-29T09:51:04.257366Z"
    }
   },
   "outputs": [
    {
     "data": {
      "text/html": [
       "<div>\n",
       "<style scoped>\n",
       "    .dataframe tbody tr th:only-of-type {\n",
       "        vertical-align: middle;\n",
       "    }\n",
       "\n",
       "    .dataframe tbody tr th {\n",
       "        vertical-align: top;\n",
       "    }\n",
       "\n",
       "    .dataframe thead th {\n",
       "        text-align: right;\n",
       "    }\n",
       "</style>\n",
       "<table border=\"1\" class=\"dataframe\">\n",
       "  <thead>\n",
       "    <tr style=\"text-align: right;\">\n",
       "      <th></th>\n",
       "      <th>creditLimit</th>\n",
       "      <th>availableMoney</th>\n",
       "      <th>transactionAmount</th>\n",
       "      <th>currentBalance</th>\n",
       "      <th>cardPresent</th>\n",
       "      <th>expirationDateKeyInMatch</th>\n",
       "      <th>isFraud</th>\n",
       "      <th>transactionType_ADDRESS_VERIFICATION</th>\n",
       "      <th>transactionType_PURCHASE</th>\n",
       "      <th>transactionType_REVERSAL</th>\n",
       "      <th>...</th>\n",
       "      <th>acqCountry_MEX</th>\n",
       "      <th>acqCountry_PR</th>\n",
       "      <th>acqCountry_US</th>\n",
       "      <th>merchantCountryCode_CAN</th>\n",
       "      <th>merchantCountryCode_MEX</th>\n",
       "      <th>merchantCountryCode_PR</th>\n",
       "      <th>merchantCountryCode_US</th>\n",
       "      <th>posConditionCode_01</th>\n",
       "      <th>posConditionCode_08</th>\n",
       "      <th>posConditionCode_99</th>\n",
       "    </tr>\n",
       "  </thead>\n",
       "  <tbody>\n",
       "    <tr>\n",
       "      <th>0</th>\n",
       "      <td>5000</td>\n",
       "      <td>5000.00</td>\n",
       "      <td>98.55</td>\n",
       "      <td>0.00</td>\n",
       "      <td>0.0</td>\n",
       "      <td>0.0</td>\n",
       "      <td>0.0</td>\n",
       "      <td>0</td>\n",
       "      <td>1</td>\n",
       "      <td>0</td>\n",
       "      <td>...</td>\n",
       "      <td>0</td>\n",
       "      <td>0</td>\n",
       "      <td>1</td>\n",
       "      <td>0</td>\n",
       "      <td>0</td>\n",
       "      <td>0</td>\n",
       "      <td>1</td>\n",
       "      <td>1</td>\n",
       "      <td>0</td>\n",
       "      <td>0</td>\n",
       "    </tr>\n",
       "    <tr>\n",
       "      <th>1</th>\n",
       "      <td>5000</td>\n",
       "      <td>5000.00</td>\n",
       "      <td>74.51</td>\n",
       "      <td>0.00</td>\n",
       "      <td>1.0</td>\n",
       "      <td>0.0</td>\n",
       "      <td>0.0</td>\n",
       "      <td>0</td>\n",
       "      <td>1</td>\n",
       "      <td>0</td>\n",
       "      <td>...</td>\n",
       "      <td>0</td>\n",
       "      <td>0</td>\n",
       "      <td>1</td>\n",
       "      <td>0</td>\n",
       "      <td>0</td>\n",
       "      <td>0</td>\n",
       "      <td>1</td>\n",
       "      <td>1</td>\n",
       "      <td>0</td>\n",
       "      <td>0</td>\n",
       "    </tr>\n",
       "    <tr>\n",
       "      <th>2</th>\n",
       "      <td>5000</td>\n",
       "      <td>5000.00</td>\n",
       "      <td>7.47</td>\n",
       "      <td>0.00</td>\n",
       "      <td>0.0</td>\n",
       "      <td>0.0</td>\n",
       "      <td>0.0</td>\n",
       "      <td>0</td>\n",
       "      <td>1</td>\n",
       "      <td>0</td>\n",
       "      <td>...</td>\n",
       "      <td>0</td>\n",
       "      <td>0</td>\n",
       "      <td>1</td>\n",
       "      <td>0</td>\n",
       "      <td>0</td>\n",
       "      <td>0</td>\n",
       "      <td>1</td>\n",
       "      <td>1</td>\n",
       "      <td>0</td>\n",
       "      <td>0</td>\n",
       "    </tr>\n",
       "    <tr>\n",
       "      <th>3</th>\n",
       "      <td>5000</td>\n",
       "      <td>5000.00</td>\n",
       "      <td>7.47</td>\n",
       "      <td>0.00</td>\n",
       "      <td>0.0</td>\n",
       "      <td>0.0</td>\n",
       "      <td>0.0</td>\n",
       "      <td>0</td>\n",
       "      <td>1</td>\n",
       "      <td>0</td>\n",
       "      <td>...</td>\n",
       "      <td>0</td>\n",
       "      <td>0</td>\n",
       "      <td>1</td>\n",
       "      <td>0</td>\n",
       "      <td>0</td>\n",
       "      <td>0</td>\n",
       "      <td>1</td>\n",
       "      <td>1</td>\n",
       "      <td>0</td>\n",
       "      <td>0</td>\n",
       "    </tr>\n",
       "    <tr>\n",
       "      <th>4</th>\n",
       "      <td>5000</td>\n",
       "      <td>5000.00</td>\n",
       "      <td>71.18</td>\n",
       "      <td>0.00</td>\n",
       "      <td>1.0</td>\n",
       "      <td>0.0</td>\n",
       "      <td>0.0</td>\n",
       "      <td>0</td>\n",
       "      <td>1</td>\n",
       "      <td>0</td>\n",
       "      <td>...</td>\n",
       "      <td>0</td>\n",
       "      <td>0</td>\n",
       "      <td>1</td>\n",
       "      <td>0</td>\n",
       "      <td>0</td>\n",
       "      <td>0</td>\n",
       "      <td>1</td>\n",
       "      <td>1</td>\n",
       "      <td>0</td>\n",
       "      <td>0</td>\n",
       "    </tr>\n",
       "    <tr>\n",
       "      <th>...</th>\n",
       "      <td>...</td>\n",
       "      <td>...</td>\n",
       "      <td>...</td>\n",
       "      <td>...</td>\n",
       "      <td>...</td>\n",
       "      <td>...</td>\n",
       "      <td>...</td>\n",
       "      <td>...</td>\n",
       "      <td>...</td>\n",
       "      <td>...</td>\n",
       "      <td>...</td>\n",
       "      <td>...</td>\n",
       "      <td>...</td>\n",
       "      <td>...</td>\n",
       "      <td>...</td>\n",
       "      <td>...</td>\n",
       "      <td>...</td>\n",
       "      <td>...</td>\n",
       "      <td>...</td>\n",
       "      <td>...</td>\n",
       "      <td>...</td>\n",
       "    </tr>\n",
       "    <tr>\n",
       "      <th>786358</th>\n",
       "      <td>50000</td>\n",
       "      <td>48904.96</td>\n",
       "      <td>119.92</td>\n",
       "      <td>1095.04</td>\n",
       "      <td>0.0</td>\n",
       "      <td>0.0</td>\n",
       "      <td>0.0</td>\n",
       "      <td>0</td>\n",
       "      <td>1</td>\n",
       "      <td>0</td>\n",
       "      <td>...</td>\n",
       "      <td>0</td>\n",
       "      <td>0</td>\n",
       "      <td>1</td>\n",
       "      <td>0</td>\n",
       "      <td>0</td>\n",
       "      <td>0</td>\n",
       "      <td>1</td>\n",
       "      <td>1</td>\n",
       "      <td>0</td>\n",
       "      <td>0</td>\n",
       "    </tr>\n",
       "    <tr>\n",
       "      <th>786359</th>\n",
       "      <td>50000</td>\n",
       "      <td>48785.04</td>\n",
       "      <td>18.89</td>\n",
       "      <td>1214.96</td>\n",
       "      <td>0.0</td>\n",
       "      <td>0.0</td>\n",
       "      <td>0.0</td>\n",
       "      <td>0</td>\n",
       "      <td>1</td>\n",
       "      <td>0</td>\n",
       "      <td>...</td>\n",
       "      <td>0</td>\n",
       "      <td>0</td>\n",
       "      <td>1</td>\n",
       "      <td>0</td>\n",
       "      <td>0</td>\n",
       "      <td>0</td>\n",
       "      <td>1</td>\n",
       "      <td>1</td>\n",
       "      <td>0</td>\n",
       "      <td>0</td>\n",
       "    </tr>\n",
       "    <tr>\n",
       "      <th>786360</th>\n",
       "      <td>50000</td>\n",
       "      <td>48766.15</td>\n",
       "      <td>49.43</td>\n",
       "      <td>1233.85</td>\n",
       "      <td>0.0</td>\n",
       "      <td>0.0</td>\n",
       "      <td>0.0</td>\n",
       "      <td>0</td>\n",
       "      <td>1</td>\n",
       "      <td>0</td>\n",
       "      <td>...</td>\n",
       "      <td>0</td>\n",
       "      <td>0</td>\n",
       "      <td>1</td>\n",
       "      <td>0</td>\n",
       "      <td>0</td>\n",
       "      <td>0</td>\n",
       "      <td>1</td>\n",
       "      <td>1</td>\n",
       "      <td>0</td>\n",
       "      <td>0</td>\n",
       "    </tr>\n",
       "    <tr>\n",
       "      <th>786361</th>\n",
       "      <td>50000</td>\n",
       "      <td>48716.72</td>\n",
       "      <td>49.89</td>\n",
       "      <td>1283.28</td>\n",
       "      <td>0.0</td>\n",
       "      <td>0.0</td>\n",
       "      <td>0.0</td>\n",
       "      <td>0</td>\n",
       "      <td>1</td>\n",
       "      <td>0</td>\n",
       "      <td>...</td>\n",
       "      <td>0</td>\n",
       "      <td>0</td>\n",
       "      <td>1</td>\n",
       "      <td>0</td>\n",
       "      <td>0</td>\n",
       "      <td>0</td>\n",
       "      <td>1</td>\n",
       "      <td>0</td>\n",
       "      <td>0</td>\n",
       "      <td>1</td>\n",
       "    </tr>\n",
       "    <tr>\n",
       "      <th>786362</th>\n",
       "      <td>50000</td>\n",
       "      <td>48666.83</td>\n",
       "      <td>72.18</td>\n",
       "      <td>1333.17</td>\n",
       "      <td>0.0</td>\n",
       "      <td>0.0</td>\n",
       "      <td>0.0</td>\n",
       "      <td>0</td>\n",
       "      <td>1</td>\n",
       "      <td>0</td>\n",
       "      <td>...</td>\n",
       "      <td>0</td>\n",
       "      <td>0</td>\n",
       "      <td>1</td>\n",
       "      <td>0</td>\n",
       "      <td>0</td>\n",
       "      <td>0</td>\n",
       "      <td>1</td>\n",
       "      <td>1</td>\n",
       "      <td>0</td>\n",
       "      <td>0</td>\n",
       "    </tr>\n",
       "  </tbody>\n",
       "</table>\n",
       "<p>786363 rows × 26 columns</p>\n",
       "</div>"
      ],
      "text/plain": [
       "        creditLimit  availableMoney  transactionAmount  currentBalance  \\\n",
       "0              5000         5000.00              98.55            0.00   \n",
       "1              5000         5000.00              74.51            0.00   \n",
       "2              5000         5000.00               7.47            0.00   \n",
       "3              5000         5000.00               7.47            0.00   \n",
       "4              5000         5000.00              71.18            0.00   \n",
       "...             ...             ...                ...             ...   \n",
       "786358        50000        48904.96             119.92         1095.04   \n",
       "786359        50000        48785.04              18.89         1214.96   \n",
       "786360        50000        48766.15              49.43         1233.85   \n",
       "786361        50000        48716.72              49.89         1283.28   \n",
       "786362        50000        48666.83              72.18         1333.17   \n",
       "\n",
       "        cardPresent  expirationDateKeyInMatch  isFraud  \\\n",
       "0               0.0                       0.0      0.0   \n",
       "1               1.0                       0.0      0.0   \n",
       "2               0.0                       0.0      0.0   \n",
       "3               0.0                       0.0      0.0   \n",
       "4               1.0                       0.0      0.0   \n",
       "...             ...                       ...      ...   \n",
       "786358          0.0                       0.0      0.0   \n",
       "786359          0.0                       0.0      0.0   \n",
       "786360          0.0                       0.0      0.0   \n",
       "786361          0.0                       0.0      0.0   \n",
       "786362          0.0                       0.0      0.0   \n",
       "\n",
       "        transactionType_ADDRESS_VERIFICATION  transactionType_PURCHASE  \\\n",
       "0                                          0                         1   \n",
       "1                                          0                         1   \n",
       "2                                          0                         1   \n",
       "3                                          0                         1   \n",
       "4                                          0                         1   \n",
       "...                                      ...                       ...   \n",
       "786358                                     0                         1   \n",
       "786359                                     0                         1   \n",
       "786360                                     0                         1   \n",
       "786361                                     0                         1   \n",
       "786362                                     0                         1   \n",
       "\n",
       "        transactionType_REVERSAL  ...  acqCountry_MEX  acqCountry_PR  \\\n",
       "0                              0  ...               0              0   \n",
       "1                              0  ...               0              0   \n",
       "2                              0  ...               0              0   \n",
       "3                              0  ...               0              0   \n",
       "4                              0  ...               0              0   \n",
       "...                          ...  ...             ...            ...   \n",
       "786358                         0  ...               0              0   \n",
       "786359                         0  ...               0              0   \n",
       "786360                         0  ...               0              0   \n",
       "786361                         0  ...               0              0   \n",
       "786362                         0  ...               0              0   \n",
       "\n",
       "        acqCountry_US  merchantCountryCode_CAN  merchantCountryCode_MEX  \\\n",
       "0                   1                        0                        0   \n",
       "1                   1                        0                        0   \n",
       "2                   1                        0                        0   \n",
       "3                   1                        0                        0   \n",
       "4                   1                        0                        0   \n",
       "...               ...                      ...                      ...   \n",
       "786358              1                        0                        0   \n",
       "786359              1                        0                        0   \n",
       "786360              1                        0                        0   \n",
       "786361              1                        0                        0   \n",
       "786362              1                        0                        0   \n",
       "\n",
       "        merchantCountryCode_PR  merchantCountryCode_US  posConditionCode_01  \\\n",
       "0                            0                       1                    1   \n",
       "1                            0                       1                    1   \n",
       "2                            0                       1                    1   \n",
       "3                            0                       1                    1   \n",
       "4                            0                       1                    1   \n",
       "...                        ...                     ...                  ...   \n",
       "786358                       0                       1                    1   \n",
       "786359                       0                       1                    1   \n",
       "786360                       0                       1                    1   \n",
       "786361                       0                       1                    0   \n",
       "786362                       0                       1                    1   \n",
       "\n",
       "        posConditionCode_08  posConditionCode_99  \n",
       "0                         0                    0  \n",
       "1                         0                    0  \n",
       "2                         0                    0  \n",
       "3                         0                    0  \n",
       "4                         0                    0  \n",
       "...                     ...                  ...  \n",
       "786358                    0                    0  \n",
       "786359                    0                    0  \n",
       "786360                    0                    0  \n",
       "786361                    0                    1  \n",
       "786362                    0                    0  \n",
       "\n",
       "[786363 rows x 26 columns]"
      ]
     },
     "execution_count": 7,
     "metadata": {},
     "output_type": "execute_result"
    }
   ],
   "source": [
    "df_dum.replace(True,1)\n",
    "df_dum.replace(False,0)"
   ]
  },
  {
   "cell_type": "code",
   "execution_count": 8,
   "metadata": {
    "ExecuteTime": {
     "end_time": "2020-12-29T09:51:04.657389Z",
     "start_time": "2020-12-29T09:51:04.651389Z"
    }
   },
   "outputs": [
    {
     "data": {
      "text/plain": [
       "Index(['creditLimit', 'availableMoney', 'transactionAmount', 'currentBalance',\n",
       "       'cardPresent', 'expirationDateKeyInMatch', 'isFraud',\n",
       "       'transactionType_ADDRESS_VERIFICATION', 'transactionType_PURCHASE',\n",
       "       'transactionType_REVERSAL', 'posEntryMode_02', 'posEntryMode_05',\n",
       "       'posEntryMode_09', 'posEntryMode_80', 'posEntryMode_90',\n",
       "       'acqCountry_CAN', 'acqCountry_MEX', 'acqCountry_PR', 'acqCountry_US',\n",
       "       'merchantCountryCode_CAN', 'merchantCountryCode_MEX',\n",
       "       'merchantCountryCode_PR', 'merchantCountryCode_US',\n",
       "       'posConditionCode_01', 'posConditionCode_08', 'posConditionCode_99'],\n",
       "      dtype='object')"
      ]
     },
     "execution_count": 8,
     "metadata": {},
     "output_type": "execute_result"
    }
   ],
   "source": [
    "df_dum.columns"
   ]
  },
  {
   "cell_type": "code",
   "execution_count": 9,
   "metadata": {
    "ExecuteTime": {
     "end_time": "2020-12-29T09:51:04.665390Z",
     "start_time": "2020-12-29T09:51:04.659389Z"
    }
   },
   "outputs": [
    {
     "data": {
      "text/plain": [
       "{'acqCountry_CAN',\n",
       " 'acqCountry_MEX',\n",
       " 'acqCountry_PR',\n",
       " 'acqCountry_US',\n",
       " 'availableMoney',\n",
       " 'cardPresent',\n",
       " 'creditLimit',\n",
       " 'currentBalance',\n",
       " 'expirationDateKeyInMatch',\n",
       " 'isFraud',\n",
       " 'merchantCountryCode_CAN',\n",
       " 'merchantCountryCode_MEX',\n",
       " 'merchantCountryCode_PR',\n",
       " 'merchantCountryCode_US',\n",
       " 'posConditionCode_01',\n",
       " 'posConditionCode_08',\n",
       " 'posConditionCode_99',\n",
       " 'posEntryMode_02',\n",
       " 'posEntryMode_05',\n",
       " 'posEntryMode_09',\n",
       " 'posEntryMode_80',\n",
       " 'posEntryMode_90',\n",
       " 'transactionAmount',\n",
       " 'transactionType_ADDRESS_VERIFICATION',\n",
       " 'transactionType_PURCHASE',\n",
       " 'transactionType_REVERSAL'}"
      ]
     },
     "execution_count": 9,
     "metadata": {},
     "output_type": "execute_result"
    }
   ],
   "source": [
    "set(df_dum.columns)"
   ]
  },
  {
   "cell_type": "code",
   "execution_count": 10,
   "metadata": {
    "ExecuteTime": {
     "end_time": "2020-12-29T09:51:04.673390Z",
     "start_time": "2020-12-29T09:51:04.666390Z"
    }
   },
   "outputs": [
    {
     "data": {
      "text/plain": [
       "26"
      ]
     },
     "execution_count": 10,
     "metadata": {},
     "output_type": "execute_result"
    }
   ],
   "source": [
    "len(df_dum.columns)"
   ]
  },
  {
   "cell_type": "code",
   "execution_count": 11,
   "metadata": {
    "ExecuteTime": {
     "end_time": "2020-12-29T09:51:04.680391Z",
     "start_time": "2020-12-29T09:51:04.674390Z"
    }
   },
   "outputs": [
    {
     "data": {
      "text/plain": [
       "26"
      ]
     },
     "execution_count": 11,
     "metadata": {},
     "output_type": "execute_result"
    }
   ],
   "source": [
    "len(set(df_dum.columns))"
   ]
  },
  {
   "cell_type": "code",
   "execution_count": 12,
   "metadata": {
    "ExecuteTime": {
     "end_time": "2020-12-29T09:51:04.732394Z",
     "start_time": "2020-12-29T09:51:04.683391Z"
    }
   },
   "outputs": [],
   "source": [
    "#split data \n",
    "\n",
    "X = df_dum.drop('isFraud', axis=1)\n",
    "y = df_dum.isFraud\n"
   ]
  },
  {
   "cell_type": "code",
   "execution_count": 13,
   "metadata": {
    "ExecuteTime": {
     "end_time": "2020-12-29T09:51:05.079413Z",
     "start_time": "2020-12-29T09:51:04.734394Z"
    }
   },
   "outputs": [],
   "source": [
    "#Train Test Split \n",
    "X_train, X_test, y_train, y_test = train_test_split(X, y, test_size = 0.75, random_state=123,)"
   ]
  },
  {
   "cell_type": "markdown",
   "metadata": {},
   "source": [
    "Lets try a few different tree and ensemble classifiers to see how they do.  We will run them with and without balancing for  Typically we will use a combination of different models"
   ]
  },
  {
   "cell_type": "code",
   "execution_count": 14,
   "metadata": {
    "ExecuteTime": {
     "end_time": "2020-12-29T09:51:05.480436Z",
     "start_time": "2020-12-29T09:51:05.080413Z"
    }
   },
   "outputs": [],
   "source": [
    "import itertools\n",
    "\n",
    "import matplotlib.pyplot as plt\n",
    "import numpy as np\n",
    "\n",
    "from sklearn.model_selection import train_test_split\n",
    "from sklearn.ensemble import BaggingClassifier\n",
    "from sklearn.ensemble import RandomForestClassifier\n",
    "from sklearn.ensemble import AdaBoostClassifier\n",
    "from sklearn.tree import DecisionTreeClassifier\n",
    "from sklearn.metrics import confusion_matrix\n",
    "from sklearn.metrics import balanced_accuracy_score\n",
    "\n",
    "from imblearn.datasets import fetch_datasets\n",
    "from imblearn.ensemble import BalancedBaggingClassifier\n",
    "from imblearn.ensemble import BalancedRandomForestClassifier\n",
    "from imblearn.ensemble import EasyEnsembleClassifier\n",
    "from imblearn.ensemble import RUSBoostClassifier\n",
    "\n",
    "from imblearn.metrics import geometric_mean_score\n",
    "\n",
    "\n",
    "def plot_confusion_matrix(cm, classes, ax,\n",
    "                          normalize=False,\n",
    "                          title='Confusion matrix',\n",
    "                          cmap=plt.cm.Blues):\n",
    "    \"\"\"\n",
    "    This function prints and plots the confusion matrix.\n",
    "    Normalization can be applied by setting `normalize=True`.\n",
    "    \"\"\"\n",
    "    print(cm)\n",
    "    print('')\n",
    "\n",
    "    ax.imshow(cm, interpolation='nearest', cmap=cmap)\n",
    "    ax.set_title(title)\n",
    "    tick_marks = np.arange(len(classes))\n",
    "    plt.xticks(tick_marks, classes, rotation=45)\n",
    "    plt.sca(ax)\n",
    "    plt.yticks(tick_marks, classes)\n",
    "\n",
    "    fmt = '.2f' if normalize else 'd'\n",
    "    thresh = cm.max() / 2.\n",
    "    for i, j in itertools.product(range(cm.shape[0]), range(cm.shape[1])):\n",
    "        ax.text(j, i, format(cm[i, j], fmt),\n",
    "                horizontalalignment=\"center\",\n",
    "                color=\"white\" if cm[i, j] > thresh else \"black\")\n",
    "\n",
    "    ax.set_ylabel('True label')\n",
    "    ax.set_xlabel('Predicted label')"
   ]
  },
  {
   "cell_type": "code",
   "execution_count": 15,
   "metadata": {
    "ExecuteTime": {
     "end_time": "2020-12-29T09:51:09.435663Z",
     "start_time": "2020-12-29T09:51:05.481436Z"
    }
   },
   "outputs": [
    {
     "name": "stdout",
     "output_type": "stream",
     "text": [
      "Decision tree classifier performance:\n",
      "Balanced accuracy: 0.51 - ROC/AUC 0.51\n",
      "[[571064   9388]\n",
      " [  8952    369]]\n",
      "\n"
     ]
    },
    {
     "data": {
      "image/png": "[encoded data removed]",
      "text/plain": [
       "<Figure size 432x288 with 1 Axes>"
      ]
     },
     "metadata": {
      "needs_background": "light"
     },
     "output_type": "display_data"
    }
   ],
   "source": [
    "tree = DecisionTreeClassifier()\n",
    "tree.fit(X_train, y_train)\n",
    "y_pred_tree = tree.predict(X_test)\n",
    "print('Decision tree classifier performance:')\n",
    "print('Balanced accuracy: {:.2f} - ROC/AUC {:.2f}'\n",
    "      .format(balanced_accuracy_score(y_test, y_pred_tree),\n",
    "              roc_auc_score(y_test, y_pred_tree)))\n",
    "cm_tree = confusion_matrix(y_test, y_pred_tree)\n",
    "fig, ax = plt.subplots()\n",
    "plot_confusion_matrix(cm_tree, classes=np.unique(y), ax=ax,\n",
    "                      title='Decision tree')"
   ]
  },
  {
   "cell_type": "code",
   "execution_count": 16,
   "metadata": {
    "ExecuteTime": {
     "end_time": "2020-12-29T09:52:19.711682Z",
     "start_time": "2020-12-29T09:51:09.436663Z"
    }
   },
   "outputs": [],
   "source": [
    "bagging = BaggingClassifier(n_estimators=50, random_state=0, n_jobs=-1)\n",
    "balanced_bagging = BalancedBaggingClassifier(n_estimators=50, random_state=0,\n",
    "                                             n_jobs=-1)\n",
    "\n",
    "bagging.fit(X_train, y_train)\n",
    "balanced_bagging.fit(X_train, y_train)\n",
    "\n",
    "y_pred_bc = bagging.predict(X_test)\n",
    "y_pred_bbc = balanced_bagging.predict(X_test)"
   ]
  },
  {
   "cell_type": "code",
   "execution_count": 17,
   "metadata": {
    "ExecuteTime": {
     "end_time": "2020-12-29T09:52:21.383778Z",
     "start_time": "2020-12-29T09:52:19.712682Z"
    }
   },
   "outputs": [
    {
     "name": "stdout",
     "output_type": "stream",
     "text": [
      "Bagging classifier performance:\n",
      "Balanced accuracy: 0.50 - ROC/AUC 0.50\n",
      "[[580239    213]\n",
      " [  9301     20]]\n",
      "\n",
      "Balanced Bagging classifier performance:\n",
      "Balanced accuracy: 0.64 - ROC/AUC 0.64\n",
      "[[465668 114784]\n",
      " [  4791   4530]]\n",
      "\n"
     ]
    },
    {
     "data": {
      "image/png": "[encoded data removed]",
      "text/plain": [
       "<Figure size 432x288 with 2 Axes>"
      ]
     },
     "metadata": {
      "needs_background": "light"
     },
     "output_type": "display_data"
    }
   ],
   "source": [
    "print('Bagging classifier performance:')\n",
    "print('Balanced accuracy: {:.2f} - ROC/AUC {:.2f}'\n",
    "      .format(balanced_accuracy_score(y_test, y_pred_bc),\n",
    "              roc_auc_score(y_test, y_pred_bc)))\n",
    "cm_bagging = confusion_matrix(y_test, y_pred_bc)\n",
    "fig, ax = plt.subplots(ncols=2)\n",
    "plot_confusion_matrix(cm_bagging, classes=np.unique(y), ax=ax[0],\n",
    "                      title='Bagging')\n",
    "\n",
    "print('Balanced Bagging classifier performance:')\n",
    "print('Balanced accuracy: {:.2f} - ROC/AUC {:.2f}'\n",
    "      .format(balanced_accuracy_score(y_test, y_pred_bbc),\n",
    "              roc_auc_score(y_test, y_pred_bbc)))\n",
    "cm_balanced_bagging = confusion_matrix(y_test, y_pred_bbc)\n",
    "plot_confusion_matrix(cm_balanced_bagging, classes=np.unique(y),\n",
    "                      ax=ax[1], title='Balanced bagging')"
   ]
  },
  {
   "cell_type": "code",
   "execution_count": 18,
   "metadata": {
    "ExecuteTime": {
     "end_time": "2020-12-29T09:52:35.266572Z",
     "start_time": "2020-12-29T09:52:21.384778Z"
    }
   },
   "outputs": [
    {
     "name": "stdout",
     "output_type": "stream",
     "text": [
      "Random Forest classifier performance:\n",
      "Balanced accuracy: 0.50 - ROC/AUC 0.50\n",
      "[[580040    412]\n",
      " [  9287     34]]\n",
      "\n",
      "Balanced Random Forest classifier performance:\n",
      "Balanced accuracy: 0.66 - Geometric mean 0.66\n",
      "[[391245 189207]\n",
      " [  3329   5992]]\n",
      "\n"
     ]
    },
    {
     "data": {
      "image/png": "[encoded data removed]",
      "text/plain": [
       "<Figure size 432x288 with 2 Axes>"
      ]
     },
     "metadata": {
      "needs_background": "light"
     },
     "output_type": "display_data"
    }
   ],
   "source": [
    "rf = RandomForestClassifier(n_estimators=50, random_state=0, n_jobs=-1)\n",
    "brf = BalancedRandomForestClassifier(n_estimators=50, random_state=0,\n",
    "                                     n_jobs=-1)\n",
    "\n",
    "rf.fit(X_train, y_train)\n",
    "brf.fit(X_train, y_train)\n",
    "\n",
    "y_pred_rf = rf.predict(X_test)\n",
    "y_pred_brf = brf.predict(X_test)\n",
    "\n",
    "# Similarly to the previous experiment, the balanced classifier outperform the\n",
    "# classifier which learn from imbalanced bootstrap samples. In addition, random\n",
    "# forest outsperforms the bagging classifier.\n",
    "\n",
    "print('Random Forest classifier performance:')\n",
    "print('Balanced accuracy: {:.2f} - ROC/AUC {:.2f}'\n",
    "      .format(balanced_accuracy_score(y_test, y_pred_rf),\n",
    "             roc_auc_score(y_test, y_pred_rf)))\n",
    "cm_rf = confusion_matrix(y_test, y_pred_rf)\n",
    "fig, ax = plt.subplots(ncols=2)\n",
    "plot_confusion_matrix(cm_rf, classes=np.unique(y), ax=ax[0],\n",
    "                      title='Random forest')\n",
    "\n",
    "print('Balanced Random Forest classifier performance:')\n",
    "print('Balanced accuracy: {:.2f} - Geometric mean {:.2f}'\n",
    "      .format(balanced_accuracy_score(y_test, y_pred_brf),\n",
    "              roc_auc_score(y_test, y_pred_brf)))\n",
    "cm_brf = confusion_matrix(y_test, y_pred_brf)\n",
    "plot_confusion_matrix(cm_brf, classes=np.unique(y), ax=ax[1],\n",
    "                      title='Balanced random forest')"
   ]
  },
  {
   "cell_type": "code",
   "execution_count": 19,
   "metadata": {
    "ExecuteTime": {
     "end_time": "2020-12-29T09:54:09.594967Z",
     "start_time": "2020-12-29T09:52:35.269572Z"
    }
   },
   "outputs": [
    {
     "name": "stdout",
     "output_type": "stream",
     "text": [
      "Easy ensemble classifier performance:\n",
      "Balanced accuracy: 0.67 - ROC/AUC 0.67\n",
      "[[371924 208528]\n",
      " [  2755   6566]]\n",
      "\n",
      "RUSBoost classifier performance:\n",
      "Balanced accuracy: 0.68 - ROC/AUC 0.68\n",
      "[[378446 202006]\n",
      " [  2799   6522]]\n",
      "\n"
     ]
    },
    {
     "data": {
      "image/png": "[encoded data removed]",
      "text/plain": [
       "<Figure size 432x288 with 2 Axes>"
      ]
     },
     "metadata": {
      "needs_background": "light"
     },
     "output_type": "display_data"
    }
   ],
   "source": [
    "base_estimator = AdaBoostClassifier(n_estimators=10)\n",
    "eec = EasyEnsembleClassifier(n_estimators=10,\n",
    "                             base_estimator=base_estimator,\n",
    "                             n_jobs=-1)\n",
    "eec.fit(X_train, y_train)\n",
    "y_pred_eec = eec.predict(X_test)\n",
    "print('Easy ensemble classifier performance:')\n",
    "print('Balanced accuracy: {:.2f} - ROC/AUC {:.2f}'\n",
    "      .format(balanced_accuracy_score(y_test, y_pred_eec),\n",
    "              roc_auc_score(y_test, y_pred_eec)))\n",
    "cm_eec = confusion_matrix(y_test, y_pred_eec)\n",
    "fig, ax = plt.subplots(ncols=2)\n",
    "plot_confusion_matrix(cm_eec, classes=np.unique(y), ax=ax[0],\n",
    "                      title='Easy ensemble classifier')\n",
    "\n",
    "rusboost = RUSBoostClassifier(n_estimators=10,\n",
    "                              base_estimator=base_estimator)\n",
    "rusboost.fit(X_train, y_train)\n",
    "y_pred_rusboost = rusboost.predict(X_test)\n",
    "print('RUSBoost classifier performance:')\n",
    "print('Balanced accuracy: {:.2f} - ROC/AUC {:.2f}'\n",
    "      .format(balanced_accuracy_score(y_test, y_pred_rusboost),\n",
    "              roc_auc_score(y_test, y_pred_rusboost)))\n",
    "cm_rusboost = confusion_matrix(y_test, y_pred_rusboost)\n",
    "plot_confusion_matrix(cm_rusboost, classes=np.unique(y),\n",
    "                      ax=ax[1], title='RUSBoost classifier')\n",
    "\n",
    "plt.show()"
   ]
  },
  {
   "cell_type": "markdown",
   "metadata": {},
   "source": [
    "We are using AUC/ROC in order to score our model.  Accuracy is not as useful for these imbalanced fraud datasets.\n",
    "\n",
    "these models are ranging from .50-.68 ROC which is alright but not amazing.\n"
   ]
  },
  {
   "cell_type": "markdown",
   "metadata": {},
   "source": [
    "Modern Techniques include using models like XGBoost which has been shown to outperform almost every other model.\n",
    "\n",
    "https://ieeexplore.ieee.org/abstract/document/9214206\n",
    "\n",
    "https://www.e3s-conferences.org/articles/e3sconf/abs/2020/74/e3sconf_ebldm2020_02042/e3sconf_ebldm2020_02042.html\n",
    "\n",
    "\n"
   ]
  },
  {
   "cell_type": "markdown",
   "metadata": {
    "ExecuteTime": {
     "end_time": "2020-12-19T12:29:08.367857Z",
     "start_time": "2020-12-19T12:29:08.364856Z"
    }
   },
   "source": [
    "Lets run XGBClassifier  start with some values to get a baseline.  Then get feature importance. Then tune Hyperparameters.\n",
    "\n"
   ]
  },
  {
   "cell_type": "code",
   "execution_count": 21,
   "metadata": {
    "ExecuteTime": {
     "end_time": "2020-12-29T10:02:10.029446Z",
     "start_time": "2020-12-29T10:02:08.392353Z"
    }
   },
   "outputs": [
    {
     "data": {
      "text/plain": [
       "XGBClassifier(base_score=0.5, booster='gbtree', colsample_bylevel=1,\n",
       "              colsample_bynode=1, colsample_bytree=1, gamma=0, gpu_id=0,\n",
       "              importance_type='gain', interaction_constraints='',\n",
       "              learning_rate=0.300000012, max_delta_step=0, max_depth=6,\n",
       "              min_child_weight=1, missing=nan,\n",
       "              monotone_constraints='(0,0,0,0,0,0,0,0,0,0,0,0,0,0,0,0,0,0,0,0,0,0,0,0,0)',\n",
       "              n_estimators=100, n_jobs=-1, num_parallel_tree=1,\n",
       "              random_state=123, reg_alpha=0, reg_lambda=1, scale_pos_weight=1,\n",
       "              subsample=1, tree_method='gpu_hist', validate_parameters=1,\n",
       "              verbosity=None)"
      ]
     },
     "execution_count": 21,
     "metadata": {},
     "output_type": "execute_result"
    }
   ],
   "source": [
    "xgbcl = xgb.XGBClassifier(objective='binary:logistic',\n",
    "                         tree_method='gpu_hist',\n",
    "                      n_jobs = -1,random_state=123)\n",
    "\n",
    "# Fit the classifier to the training set\n",
    "xgbcl.fit(X_train, y_train)"
   ]
  },
  {
   "cell_type": "code",
   "execution_count": 37,
   "metadata": {
    "ExecuteTime": {
     "end_time": "2020-12-29T10:11:48.995561Z",
     "start_time": "2020-12-29T10:11:47.244461Z"
    }
   },
   "outputs": [
    {
     "name": "stdout",
     "output_type": "stream",
     "text": [
      "accuracy: 0.984160\n"
     ]
    }
   ],
   "source": [
    "# Predict the labels of the test set: preds\n",
    "y_pred = xgbcl.predict(X_test)\n",
    "\n",
    "# Compute the accuracy: accuracy\n",
    "accuracy = float(np.sum(y_pred==y_test))/y_test.shape[0]\n",
    "print(\"accuracy: %f\" % (accuracy))\n",
    "\n",
    "\n",
    "\n"
   ]
  },
  {
   "cell_type": "code",
   "execution_count": 38,
   "metadata": {
    "ExecuteTime": {
     "end_time": "2020-12-29T10:11:52.016734Z",
     "start_time": "2020-12-29T10:11:51.099682Z"
    }
   },
   "outputs": [
    {
     "name": "stdout",
     "output_type": "stream",
     "text": [
      "[[580424     28]\n",
      " [  9314      7]]\n",
      "              precision    recall  f1-score   support\n",
      "\n",
      "       False       0.98      1.00      0.99    580452\n",
      "        True       0.20      0.00      0.00      9321\n",
      "\n",
      "    accuracy                           0.98    589773\n",
      "   macro avg       0.59      0.50      0.50    589773\n",
      "weighted avg       0.97      0.98      0.98    589773\n",
      "\n"
     ]
    }
   ],
   "source": [
    "#print confusion matrix, classification report\n",
    "print(confusion_matrix(y_test, y_pred))\n",
    "print(classification_report(y_test, y_pred))"
   ]
  },
  {
   "cell_type": "code",
   "execution_count": 24,
   "metadata": {
    "ExecuteTime": {
     "end_time": "2020-12-29T10:02:25.988359Z",
     "start_time": "2020-12-29T10:02:13.373638Z"
    }
   },
   "outputs": [
    {
     "name": "stdout",
     "output_type": "stream",
     "text": [
      "   train-auc-mean  train-auc-std  test-auc-mean  test-auc-std\n",
      "0        0.718580       0.005469       0.717199      0.007960\n",
      "1        0.730219       0.002662       0.726934      0.008008\n",
      "2        0.733076       0.001862       0.729231      0.006477\n",
      "3        0.735265       0.001461       0.731955      0.004387\n",
      "4        0.736865       0.000939       0.733383      0.004755\n",
      "5        0.737928       0.000686       0.733999      0.005266\n",
      "6        0.739243       0.000843       0.734293      0.005492\n",
      "7        0.740862       0.000750       0.734764      0.005259\n",
      "8        0.742556       0.000597       0.735202      0.005318\n",
      "9        0.743936       0.000718       0.735746      0.005357\n",
      "0.7357459\n"
     ]
    }
   ],
   "source": [
    "#get area under curve (AUC) \n",
    "dmatrix = xgb.DMatrix(data=X, label=y)\n",
    "params = {\"objective\":\"binary:logistic\",\n",
    "         'tree_method':'gpu_hist',\n",
    "                         'n_jobs':-1}\n",
    "#Perform cross_validation: cv_results\n",
    "cv_results = xgb.cv(dtrain=dmatrix, params=params, \n",
    "                    nfold=10, num_boost_round=10, \n",
    "                    metrics=\"auc\", as_pandas=True, seed=123,)\n",
    "\n",
    "# Print cv_results\n",
    "print(cv_results)\n",
    "\n",
    "# Print the AUC\n",
    "print((cv_results[\"test-auc-mean\"]).iloc[-1])\n"
   ]
  },
  {
   "cell_type": "code",
   "execution_count": 25,
   "metadata": {
    "ExecuteTime": {
     "end_time": "2020-12-29T10:02:28.864524Z",
     "start_time": "2020-12-29T10:02:25.989359Z"
    }
   },
   "outputs": [
    {
     "data": {
      "image/png": "[encoded data removed]",
      "text/plain": [
       "<Figure size 432x288 with 1 Axes>"
      ]
     },
     "metadata": {
      "needs_background": "light"
     },
     "output_type": "display_data"
    }
   ],
   "source": [
    "#What are the most important features in the dataset relating to fraud.  \n",
    "dmatrix = xgb.DMatrix(data=X, label=y)\n",
    "\n",
    "# Create the parameter dictionary: params\n",
    "params = {\"objective\":\"binary:logistic\",\n",
    "         'tree_method':'gpu_hist',\n",
    "                         'n_jobs':-1}\n",
    "\n",
    "# Train the model: \n",
    "xg_reg = xgb.train(params=params, dtrain=dmatrix, num_boost_round=20)\n",
    "\n",
    "# Plot the feature importances\n",
    "xgb.plot_importance(xg_reg)\n",
    "plt.show()"
   ]
  },
  {
   "cell_type": "markdown",
   "metadata": {
    "ExecuteTime": {
     "end_time": "2020-12-29T10:02:28.867524Z",
     "start_time": "2020-12-29T10:02:28.865524Z"
    }
   },
   "source": [
    "It appears transactionAmount and currentBalance is a very significant factor for determining fraud in this dataset."
   ]
  },
  {
   "cell_type": "code",
   "execution_count": 36,
   "metadata": {
    "ExecuteTime": {
     "end_time": "2020-12-29T10:07:21.628269Z",
     "start_time": "2020-12-29T10:07:19.670157Z"
    }
   },
   "outputs": [
    {
     "data": {
      "image/png": "[encoded data removed]",
      "text/plain": [
       "<Figure size 432x288 with 1 Axes>"
      ]
     },
     "metadata": {
      "needs_background": "light"
     },
     "output_type": "display_data"
    }
   ],
   "source": [
    "from sklearn.metrics import roc_curve\n",
    "from sklearn.linear_model import LogisticRegression\n",
    "# Compute predicted probabilities: y_pred_prob\n",
    "y_pred_prob = xgbcl.predict_proba(X_test)[:,1]\n",
    "\n",
    "# Generate ROC curve values: fpr, tpr, thresholds\n",
    "fpr, tpr, thresholds = roc_curve(y_test, y_pred_prob)\n",
    "\n",
    "# Plot ROC curve\n",
    "plt.plot([0, 1], [0, 1], 'k--')\n",
    "plt.plot(fpr, tpr)\n",
    "plt.title('ROC Curve')\n",
    "plt.show()"
   ]
  },
  {
   "cell_type": "code",
   "execution_count": 27,
   "metadata": {
    "ExecuteTime": {
     "end_time": "2020-12-29T10:02:31.023647Z",
     "start_time": "2020-12-29T10:02:28.870524Z"
    }
   },
   "outputs": [
    {
     "name": "stdout",
     "output_type": "stream",
     "text": [
      "   train-error-mean  train-error-std  test-error-mean  test-error-std\n",
      "0           0.01579         0.000059          0.01579        0.000118\n",
      "1           0.01579         0.000059          0.01579        0.000118\n",
      "2           0.01579         0.000059          0.01579        0.000118\n",
      "3           0.01579         0.000059          0.01579        0.000118\n",
      "4           0.01579         0.000059          0.01579        0.000118\n",
      "0.98421\n"
     ]
    }
   ],
   "source": [
    "#Measure Accuracy \n",
    "\n",
    "# Create the parameter dictionary: params\n",
    "params = {\"objective\":\"binary:logistic\",\n",
    "         'tree_method':'gpu_hist',\n",
    "                         'n_jobs':-1}\n",
    "\n",
    "# Perform cross-validation: cv_results\n",
    "cv_results = xgb.cv(dtrain=dmatrix, params=params, \n",
    "                  nfold=3, num_boost_round=5, \n",
    "                  metrics=\"error\", as_pandas=True, seed=123)\n",
    "\n",
    "# Print cv_results\n",
    "print(cv_results)\n",
    "\n",
    "# Print the accuracy\n",
    "print(((1-cv_results[\"test-error-mean\"]).iloc[-1]))\n",
    "\n"
   ]
  },
  {
   "cell_type": "markdown",
   "metadata": {
    "ExecuteTime": {
     "end_time": "2020-12-29T10:02:31.028647Z",
     "start_time": "2020-12-29T10:02:31.026647Z"
    }
   },
   "source": [
    "This doesn't tell us much"
   ]
  },
  {
   "cell_type": "code",
   "execution_count": 29,
   "metadata": {
    "ExecuteTime": {
     "end_time": "2020-12-29T10:03:02.920472Z",
     "start_time": "2020-12-29T10:02:31.032648Z"
    }
   },
   "outputs": [
    {
     "name": "stdout",
     "output_type": "stream",
     "text": [
      "Fitting 3 folds for each of 10 candidates, totalling 30 fits\n"
     ]
    },
    {
     "name": "stderr",
     "output_type": "stream",
     "text": [
      "[Parallel(n_jobs=-1)]: Using backend LokyBackend with 8 concurrent workers.\n",
      "[Parallel(n_jobs=-1)]: Done  30 out of  30 | elapsed:   30.5s finished\n"
     ]
    },
    {
     "name": "stdout",
     "output_type": "stream",
     "text": [
      "{'min_child_weight': 4, 'max_depth': 4}\n",
      "0.7244526436250291\n",
      "make_scorer(roc_auc_score, needs_threshold=True)\n"
     ]
    }
   ],
   "source": [
    "#tune some hyperparameters.\n",
    "\n",
    "param_grid = {\n",
    "    \n",
    "    'max_depth':range(3,10,1),\n",
    " 'min_child_weight':range(1,6,1)\n",
    "    \n",
    "}\n",
    "xgb1 = xgb.XGBClassifier(objective=\"binary:logistic\",\n",
    "                         tree_method='gpu_hist',\n",
    "                        n_jobs = -1)\n",
    "\n",
    "xgb1_cv = RandomizedSearchCV(estimator=xgb1,\n",
    "                             param_distributions=param_grid,\n",
    "                             cv=3,\n",
    "                             scoring='roc_auc',\n",
    "                             verbose=1,random_state=123,n_jobs=-1)\n",
    "\n",
    "xgb1_cv.fit(X_train, y_train)\n",
    "\n",
    "print(xgb1_cv.best_params_)\n",
    "print(xgb1_cv.best_score_)\n",
    "print(xgb1_cv.scorer_)"
   ]
  },
  {
   "cell_type": "code",
   "execution_count": 30,
   "metadata": {
    "ExecuteTime": {
     "end_time": "2020-12-29T10:03:16.398242Z",
     "start_time": "2020-12-29T10:03:02.921472Z"
    }
   },
   "outputs": [
    {
     "name": "stdout",
     "output_type": "stream",
     "text": [
      "Fitting 5 folds for each of 5 candidates, totalling 25 fits\n"
     ]
    },
    {
     "name": "stderr",
     "output_type": "stream",
     "text": [
      "C:\\ProgramData\\Anaconda3\\lib\\site-packages\\sklearn\\model_selection\\_search.py:282: UserWarning: The total space of parameters 5 is smaller than n_iter=10. Running 5 iterations. For exhaustive searches, use GridSearchCV.\n",
      "  % (grid_size, self.n_iter, grid_size), UserWarning)\n",
      "[Parallel(n_jobs=-1)]: Using backend LokyBackend with 8 concurrent workers.\n",
      "[Parallel(n_jobs=-1)]: Done  25 out of  25 | elapsed:   12.2s finished\n"
     ]
    },
    {
     "name": "stdout",
     "output_type": "stream",
     "text": [
      "{'gamma': 0.4}\n",
      "0.7305858374823007\n"
     ]
    }
   ],
   "source": [
    "#tune gamma \n",
    "\n",
    "param_grid = {\n",
    "    \n",
    "   'gamma':[i/10.0 for i in range(0,5)]\n",
    "    \n",
    "}\n",
    "xgb2 = xgb.XGBClassifier(objective=\"binary:logistic\",max_depth=4,\n",
    "                         min_child_weight=1,\n",
    "                         tree_method='gpu_hist',n_jobs=-1)\n",
    "\n",
    "xgb2_cv = RandomizedSearchCV(estimator=xgb2,\n",
    "                             param_distributions=param_grid,\n",
    "                             scoring='roc_auc',\n",
    "                             verbose=1,random_state=123,n_jobs=-1)\n",
    "\n",
    "xgb2_cv.fit(X_train, y_train)\n",
    "\n",
    "print(xgb2_cv.best_params_)\n",
    "print(xgb2_cv.best_score_)"
   ]
  },
  {
   "cell_type": "code",
   "execution_count": 31,
   "metadata": {
    "ExecuteTime": {
     "end_time": "2020-12-29T10:03:23.030622Z",
     "start_time": "2020-12-29T10:03:16.400243Z"
    }
   },
   "outputs": [
    {
     "name": "stdout",
     "output_type": "stream",
     "text": [
      "    train-auc-mean  train-auc-std  test-auc-mean  test-auc-std\n",
      "0         0.711783       0.001592       0.710731      0.003505\n",
      "1         0.724598       0.002766       0.723307      0.003699\n",
      "2         0.728424       0.001012       0.726780      0.002156\n",
      "3         0.729534       0.000621       0.727336      0.002523\n",
      "4         0.730829       0.000750       0.729158      0.001920\n",
      "5         0.731245       0.000556       0.729726      0.002076\n",
      "6         0.731701       0.000385       0.730045      0.002211\n",
      "7         0.732536       0.000568       0.730303      0.002380\n",
      "8         0.733083       0.000652       0.730710      0.002063\n",
      "9         0.734193       0.000588       0.731335      0.002047\n",
      "10        0.735131       0.000526       0.732209      0.001450\n",
      "11        0.735766       0.000520       0.732290      0.001212\n",
      "12        0.736149       0.000630       0.732719      0.001407\n",
      "13        0.736960       0.000552       0.733351      0.001439\n",
      "14        0.737884       0.000591       0.733942      0.001494\n",
      "15        0.738739       0.000497       0.734500      0.001491\n",
      "16        0.739621       0.000606       0.735049      0.001472\n",
      "17        0.740552       0.000847       0.735888      0.001351\n",
      "18        0.741888       0.001006       0.736801      0.001441\n",
      "19        0.742814       0.000819       0.737253      0.001620\n",
      "0.7372528\n"
     ]
    }
   ],
   "source": [
    "#Test AUC with new optimized parameters\n",
    "\n",
    "params = {\n",
    "    \"objective\": \"binary:logistic\",\n",
    "    \"max_depth\": 4,\n",
    "    'min_child_weight': 1,\n",
    "    'gamma': .4,\n",
    "    'tree_method': 'gpu_hist',\n",
    "    'n_jobs':-1\n",
    "}\n",
    "#Perform cross_validation: cv_results\n",
    "cv_results = xgb.cv(dtrain=dmatrix,\n",
    "                    params=params,\n",
    "                    nfold=5,\n",
    "                    num_boost_round=20,\n",
    "                    metrics=\"auc\",\n",
    "                    as_pandas=True,\n",
    "                    seed=123)\n",
    "\n",
    "# Print cv_results\n",
    "print(cv_results)\n",
    "\n",
    "# Print the AUC\n",
    "print((cv_results[\"test-auc-mean\"]).iloc[-1])"
   ]
  },
  {
   "cell_type": "code",
   "execution_count": 32,
   "metadata": {
    "ExecuteTime": {
     "end_time": "2020-12-29T10:03:23.735662Z",
     "start_time": "2020-12-29T10:03:23.031622Z"
    }
   },
   "outputs": [
    {
     "data": {
      "image/png": "[encoded data removed]",
      "text/plain": [
       "<Figure size 432x288 with 1 Axes>"
      ]
     },
     "metadata": {
      "needs_background": "light"
     },
     "output_type": "display_data"
    }
   ],
   "source": [
    "xg_reg1 = xgb.train(params=params, dtrain=dmatrix, num_boost_round=20,)\n",
    "\n",
    "# Plot the feature importances\n",
    "xgb.plot_importance(xg_reg1)\n",
    "plt.show()"
   ]
  },
  {
   "cell_type": "code",
   "execution_count": 33,
   "metadata": {
    "ExecuteTime": {
     "end_time": "2020-12-29T10:03:30.214033Z",
     "start_time": "2020-12-29T10:03:23.737662Z"
    }
   },
   "outputs": [
    {
     "name": "stdout",
     "output_type": "stream",
     "text": [
      "    train-auc-mean  train-auc-std  test-auc-mean  test-auc-std\n",
      "0         0.711783       0.001592       0.710731      0.003505\n",
      "1         0.724598       0.002766       0.723307      0.003699\n",
      "2         0.728424       0.001012       0.726780      0.002156\n",
      "3         0.729534       0.000621       0.727336      0.002523\n",
      "4         0.730829       0.000750       0.729158      0.001920\n",
      "5         0.731245       0.000556       0.729726      0.002076\n",
      "6         0.731701       0.000385       0.730045      0.002211\n",
      "7         0.732536       0.000568       0.730303      0.002380\n",
      "8         0.733083       0.000652       0.730710      0.002063\n",
      "9         0.734193       0.000588       0.731335      0.002047\n",
      "10        0.735131       0.000526       0.732209      0.001450\n",
      "11        0.735766       0.000520       0.732290      0.001212\n",
      "12        0.736149       0.000630       0.732719      0.001407\n",
      "13        0.736960       0.000552       0.733351      0.001439\n",
      "14        0.737884       0.000591       0.733942      0.001494\n",
      "15        0.738739       0.000497       0.734500      0.001491\n",
      "16        0.739621       0.000606       0.735049      0.001472\n",
      "17        0.740552       0.000847       0.735888      0.001351\n",
      "18        0.741888       0.001006       0.736801      0.001441\n",
      "19        0.742814       0.000819       0.737253      0.001620\n",
      "0.7372528\n"
     ]
    }
   ],
   "source": [
    "params = {\n",
    "    \"objective\": 'binary:logistic',\n",
    "    \"max_depth\": 4,\n",
    "    'min_child_weight': 1,\n",
    "    'gamma': .4,\n",
    "    'tree_method': 'gpu_hist','n_jobs':-1\n",
    "}\n",
    "#Perform cross_validation: cv_results\n",
    "cv_results = xgb.cv(dtrain=dmatrix,\n",
    "                    params=params,\n",
    "                    nfold=5,\n",
    "                    num_boost_round=20,\n",
    "                    metrics=\"auc\",\n",
    "                    as_pandas=True,\n",
    "                    seed=123)\n",
    "\n",
    "# Print cv_results\n",
    "print(cv_results)\n",
    "\n",
    "# Print the AUC\n",
    "print((cv_results[\"test-auc-mean\"]).iloc[-1])"
   ]
  },
  {
   "cell_type": "code",
   "execution_count": 34,
   "metadata": {
    "ExecuteTime": {
     "end_time": "2020-12-29T10:03:33.829239Z",
     "start_time": "2020-12-29T10:03:30.216033Z"
    }
   },
   "outputs": [
    {
     "name": "stdout",
     "output_type": "stream",
     "text": [
      "[[580445      7]\n",
      " [  9317      4]]\n",
      "              precision    recall  f1-score   support\n",
      "\n",
      "       False       0.98      1.00      0.99    580452\n",
      "        True       0.36      0.00      0.00      9321\n",
      "\n",
      "    accuracy                           0.98    589773\n",
      "   macro avg       0.67      0.50      0.50    589773\n",
      "weighted avg       0.97      0.98      0.98    589773\n",
      "\n"
     ]
    }
   ],
   "source": [
    "\n",
    "\n",
    "\n",
    "xgb3 = xgb.XGBClassifier(objective=\"binary:logistic\",\n",
    "                         max_depth=4,\n",
    "                         min_child_weight=1,\n",
    "                         gamma=.4,\n",
    "                         tree_method='gpu_hist',\n",
    "                        n_jobs = -1)\n",
    "\n",
    "\n",
    "xgb3.fit(X_train, y_train)\n",
    "\n",
    "\n",
    "\n",
    "y_pred3 = xgb3.predict(X_test)\n",
    "print(confusion_matrix(y_test, y_pred3))\n",
    "print(classification_report(y_test, y_pred3))\n"
   ]
  },
  {
   "cell_type": "code",
   "execution_count": 35,
   "metadata": {
    "ExecuteTime": {
     "end_time": "2020-12-29T10:03:35.555338Z",
     "start_time": "2020-12-29T10:03:33.830240Z"
    }
   },
   "outputs": [
    {
     "data": {
      "image/png": "[encoded data removed]",
      "text/plain": [
       "<Figure size 432x288 with 1 Axes>"
      ]
     },
     "metadata": {
      "needs_background": "light"
     },
     "output_type": "display_data"
    }
   ],
   "source": [
    "from sklearn.metrics import roc_curve\n",
    "from sklearn.linear_model import LogisticRegression\n",
    "# Compute predicted probabilities: y_pred_prob\n",
    "y_pred_prob = xgb3.predict_proba(X_test)[:,1]\n",
    "\n",
    "# Generate ROC curve values: fpr, tpr, thresholds\n",
    "fpr, tpr, thresholds = roc_curve(y_test, y_pred_prob)\n",
    "\n",
    "# Plot ROC curve\n",
    "plt.plot([0, 1], [0, 1], 'k--')\n",
    "plt.plot(fpr, tpr)\n",
    "plt.title('ROC Curve')\n",
    "plt.show()"
   ]
  },
  {
   "cell_type": "markdown",
   "metadata": {},
   "source": [
    "After all that optimization we are still getting roughly the same results!"
   ]
  }
 ],
 "metadata": {
  "kernelspec": {
   "display_name": "Python 3",
   "language": "python",
   "name": "python3"
  },
  "language_info": {
   "codemirror_mode": {
    "name": "ipython",
    "version": 3
   },
   "file_extension": ".py",
   "mimetype": "text/x-python",
   "name": "python",
   "nbconvert_exporter": "python",
   "pygments_lexer": "ipython3",
   "version": "3.6.12"
  },
  "varInspector": {
   "cols": {
    "lenName": 16,
    "lenType": 16,
    "lenVar": 40
   },
   "kernels_config": {
    "python": {
     "delete_cmd_postfix": "",
     "delete_cmd_prefix": "del ",
     "library": "var_list.py",
     "varRefreshCmd": "print(var_dic_list())"
    },
    "r": {
     "delete_cmd_postfix": ") ",
     "delete_cmd_prefix": "rm(",
     "library": "var_list.r",
     "varRefreshCmd": "cat(var_dic_list()) "
    }
   },
   "position": {
    "height": "399px",
    "left": "1573px",
    "right": "20px",
    "top": "120px",
    "width": "327px"
   },
   "types_to_exclude": [
    "module",
    "function",
    "builtin_function_or_method",
    "instance",
    "_Feature"
   ],
   "window_display": true
  }
 },
 "nbformat": 4,
 "nbformat_minor": 4
}
