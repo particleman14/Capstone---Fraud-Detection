{
 "cells": [
  {
   "cell_type": "code",
   "execution_count": 49,
   "metadata": {
    "ExecuteTime": {
     "end_time": "2020-12-29T11:15:27.340958Z",
     "start_time": "2020-12-29T11:15:27.337958Z"
    }
   },
   "outputs": [],
   "source": [
    "import json \n",
    "import pandas as pd\n",
    "from sklearn.model_selection import train_test_split\n",
    "import featuretools as ft\n",
    "import numpy as np\n",
    "import matplotlib.pyplot as plt\n",
    "from sklearn import preprocessing"
   ]
  },
  {
   "cell_type": "code",
   "execution_count": 2,
   "metadata": {
    "ExecuteTime": {
     "end_time": "2020-12-29T10:22:02.096629Z",
     "start_time": "2020-12-29T10:21:46.037710Z"
    }
   },
   "outputs": [],
   "source": [
    "df = pd.read_json('transactionsjson.json',lines=True)"
   ]
  },
  {
   "cell_type": "code",
   "execution_count": 3,
   "metadata": {
    "ExecuteTime": {
     "end_time": "2020-12-29T10:22:02.458649Z",
     "start_time": "2020-12-29T10:22:02.098629Z"
    }
   },
   "outputs": [],
   "source": [
    "#select relevant columns\n",
    "df = df[[\n",
    "     'creditLimit', 'availableMoney', 'transactionAmount',\n",
    "    'transactionType', 'currentBalance', 'posEntryMode', 'cardPresent',\n",
    "    'expirationDateKeyInMatch', 'isFraud', 'acqCountry', 'merchantCountryCode',\n",
    "    'posConditionCode', 'transactionDateTime', 'merchantName',\n",
    "    'accountOpenDate', 'dateOfLastAddressChange'\n",
    "]]"
   ]
  },
  {
   "cell_type": "code",
   "execution_count": 4,
   "metadata": {
    "ExecuteTime": {
     "end_time": "2020-12-29T10:22:02.643660Z",
     "start_time": "2020-12-29T10:22:02.459649Z"
    }
   },
   "outputs": [],
   "source": [
    "#split data \n",
    "\n",
    "X = df.drop('isFraud', axis=1)\n",
    "y = df.isFraud"
   ]
  },
  {
   "cell_type": "code",
   "execution_count": 5,
   "metadata": {
    "ExecuteTime": {
     "end_time": "2020-12-29T10:22:04.177748Z",
     "start_time": "2020-12-29T10:22:02.644660Z"
    }
   },
   "outputs": [],
   "source": [
    "#Train Test Split \n",
    "X_train, X_test, y_train, y_test = train_test_split(X, y, test_size = 0.3, random_state=123,)"
   ]
  },
  {
   "cell_type": "code",
   "execution_count": 6,
   "metadata": {
    "ExecuteTime": {
     "end_time": "2020-12-29T10:22:04.180748Z",
     "start_time": "2020-12-29T10:22:04.178748Z"
    }
   },
   "outputs": [],
   "source": [
    "es = ft.EntitySet(id=\"transactionData\")"
   ]
  },
  {
   "cell_type": "code",
   "execution_count": 7,
   "metadata": {
    "ExecuteTime": {
     "end_time": "2020-12-29T10:22:10.194092Z",
     "start_time": "2020-12-29T10:22:04.181748Z"
    }
   },
   "outputs": [
    {
     "name": "stderr",
     "output_type": "stream",
     "text": [
      "C:\\ProgramData\\Anaconda3\\lib\\site-packages\\featuretools\\entityset\\entity.py:611: UserWarning: index index not found in dataframe, creating new integer column\n",
      "  \"integer column\".format(index))\n"
     ]
    },
    {
     "data": {
      "text/plain": [
       "Entityset: transactionData\n",
       "  Entities:\n",
       "    transactions [Rows: 550454, Columns: 16]\n",
       "  Relationships:\n",
       "    No relationships"
      ]
     },
     "execution_count": 7,
     "metadata": {},
     "output_type": "execute_result"
    }
   ],
   "source": [
    "#create entity set containing dataframes and relationships\n",
    "\n",
    "from featuretools import variable_types as vtypes\n",
    "#variable_types = {\n",
    "    \n",
    "  #  'availableMoney': vtypes.Numeric, \n",
    "  #  'transactionAmount': vtypes.Numeric,\n",
    "  #  'currentBalance':vtypes.Numeric,\n",
    "  #  }\n",
    "\n",
    "es.entity_from_dataframe(entity_id='transactions',dataframe=X_train,\n",
    "                      index='index', )\n"
   ]
  },
  {
   "cell_type": "code",
   "execution_count": 8,
   "metadata": {
    "ExecuteTime": {
     "end_time": "2020-12-29T10:22:10.568113Z",
     "start_time": "2020-12-29T10:22:10.197092Z"
    }
   },
   "outputs": [],
   "source": [
    "es = es.normalize_entity(base_entity_id=\"transactions\",\n",
    "                       new_entity_id=\"transactionAmounts\",\n",
    "                         index=\"transactionAmount\", )"
   ]
  },
  {
   "cell_type": "code",
   "execution_count": 9,
   "metadata": {
    "ExecuteTime": {
     "end_time": "2020-12-29T10:22:11.049141Z",
     "start_time": "2020-12-29T10:22:10.569113Z"
    }
   },
   "outputs": [],
   "source": [
    "es = es.normalize_entity(base_entity_id=\"transactions\",\n",
    "                       new_entity_id=\"transactionTypes\",\n",
    "                         index=\"transactionType\", copy_variables=['creditLimit',\"merchantName\",\"availableMoney\",\"currentBalance\"])"
   ]
  },
  {
   "cell_type": "code",
   "execution_count": 10,
   "metadata": {
    "ExecuteTime": {
     "end_time": "2020-12-29T10:22:11.555170Z",
     "start_time": "2020-12-29T10:22:11.050141Z"
    }
   },
   "outputs": [],
   "source": [
    "es = es.normalize_entity(base_entity_id=\"transactions\",\n",
    "                       new_entity_id=\"merchant\",\n",
    "                         index=\"merchantName\")"
   ]
  },
  {
   "cell_type": "code",
   "execution_count": 11,
   "metadata": {
    "ExecuteTime": {
     "end_time": "2020-12-29T10:22:11.887189Z",
     "start_time": "2020-12-29T10:22:11.556170Z"
    }
   },
   "outputs": [],
   "source": [
    "es = es.normalize_entity(base_entity_id=\"transactions\",\n",
    "                       new_entity_id=\"creditLimit\",\n",
    "                         index=\"creditLimit\")"
   ]
  },
  {
   "cell_type": "code",
   "execution_count": 12,
   "metadata": {
    "ExecuteTime": {
     "end_time": "2020-12-29T10:22:12.518225Z",
     "start_time": "2020-12-29T10:22:11.888189Z"
    }
   },
   "outputs": [],
   "source": [
    "es = es.normalize_entity(base_entity_id=\"transactions\",\n",
    "                       new_entity_id=\"availableMoney\",\n",
    "                         index=\"availableMoney\")"
   ]
  },
  {
   "cell_type": "code",
   "execution_count": 13,
   "metadata": {
    "ExecuteTime": {
     "end_time": "2020-12-29T10:22:13.238266Z",
     "start_time": "2020-12-29T10:22:12.519225Z"
    }
   },
   "outputs": [],
   "source": [
    "es = es.normalize_entity(base_entity_id=\"transactions\",\n",
    "                       new_entity_id=\"currentBalance\",\n",
    "                         index=\"currentBalance\")"
   ]
  },
  {
   "cell_type": "code",
   "execution_count": 14,
   "metadata": {
    "ExecuteTime": {
     "end_time": "2020-12-29T10:22:13.412276Z",
     "start_time": "2020-12-29T10:22:13.239266Z"
    }
   },
   "outputs": [
    {
     "data": {
      "image/svg+xml": [
       "<?xml version=\"1.0\" encoding=\"UTF-8\" standalone=\"no\"?>\r\n",
       "<!DOCTYPE svg PUBLIC \"-//W3C//DTD SVG 1.1//EN\"\r\n",
       " \"http://www.w3.org/Graphics/SVG/1.1/DTD/svg11.dtd\">\r\n",
       "<!-- Generated by graphviz version 2.38.0 (20140413.2041)\r\n",
       " -->\r\n",
       "<!-- Title: transactionData Pages: 1 -->\r\n",
       "<svg width=\"1120pt\" height=\"423pt\"\r\n",
       " viewBox=\"0.00 0.00 1120.00 423.00\" xmlns=\"http://www.w3.org/2000/svg\" xmlns:xlink=\"http://www.w3.org/1999/xlink\">\r\n",
       "<g id=\"graph0\" class=\"graph\" transform=\"scale(1 1) rotate(0) translate(4 419)\">\r\n",
       "<title>transactionData</title>\r\n",
       "<polygon fill=\"white\" stroke=\"none\" points=\"-4,4 -4,-419 1116,-419 1116,4 -4,4\"/>\r\n",
       "<!-- transactions -->\r\n",
       "<g id=\"node1\" class=\"node\"><title>transactions</title>\r\n",
       "<polygon fill=\"none\" stroke=\"black\" points=\"446.5,-143.5 446.5,-414.5 671.5,-414.5 671.5,-143.5 446.5,-143.5\"/>\r\n",
       "<text text-anchor=\"middle\" x=\"559\" y=\"-399.3\" font-family=\"Times New Roman,serif\" font-size=\"14.00\">transactions (550454 rows)</text>\r\n",
       "<polyline fill=\"none\" stroke=\"black\" points=\"446.5,-391.5 671.5,-391.5 \"/>\r\n",
       "<text text-anchor=\"start\" x=\"454.5\" y=\"-376.3\" font-family=\"Times New Roman,serif\" font-size=\"14.00\">index : index</text>\r\n",
       "<text text-anchor=\"start\" x=\"454.5\" y=\"-361.3\" font-family=\"Times New Roman,serif\" font-size=\"14.00\">creditLimit : id</text>\r\n",
       "<text text-anchor=\"start\" x=\"454.5\" y=\"-346.3\" font-family=\"Times New Roman,serif\" font-size=\"14.00\">availableMoney : id</text>\r\n",
       "<text text-anchor=\"start\" x=\"454.5\" y=\"-331.3\" font-family=\"Times New Roman,serif\" font-size=\"14.00\">transactionAmount : id</text>\r\n",
       "<text text-anchor=\"start\" x=\"454.5\" y=\"-316.3\" font-family=\"Times New Roman,serif\" font-size=\"14.00\">transactionType : id</text>\r\n",
       "<text text-anchor=\"start\" x=\"454.5\" y=\"-301.3\" font-family=\"Times New Roman,serif\" font-size=\"14.00\">currentBalance : id</text>\r\n",
       "<text text-anchor=\"start\" x=\"454.5\" y=\"-286.3\" font-family=\"Times New Roman,serif\" font-size=\"14.00\">posEntryMode : categorical</text>\r\n",
       "<text text-anchor=\"start\" x=\"454.5\" y=\"-271.3\" font-family=\"Times New Roman,serif\" font-size=\"14.00\">cardPresent : boolean</text>\r\n",
       "<text text-anchor=\"start\" x=\"454.5\" y=\"-256.3\" font-family=\"Times New Roman,serif\" font-size=\"14.00\">expirationDateKeyInMatch : boolean</text>\r\n",
       "<text text-anchor=\"start\" x=\"454.5\" y=\"-241.3\" font-family=\"Times New Roman,serif\" font-size=\"14.00\">acqCountry : categorical</text>\r\n",
       "<text text-anchor=\"start\" x=\"454.5\" y=\"-226.3\" font-family=\"Times New Roman,serif\" font-size=\"14.00\">merchantCountryCode : categorical</text>\r\n",
       "<text text-anchor=\"start\" x=\"454.5\" y=\"-211.3\" font-family=\"Times New Roman,serif\" font-size=\"14.00\">posConditionCode : categorical</text>\r\n",
       "<text text-anchor=\"start\" x=\"454.5\" y=\"-196.3\" font-family=\"Times New Roman,serif\" font-size=\"14.00\">transactionDateTime : datetime</text>\r\n",
       "<text text-anchor=\"start\" x=\"454.5\" y=\"-181.3\" font-family=\"Times New Roman,serif\" font-size=\"14.00\">merchantName : id</text>\r\n",
       "<text text-anchor=\"start\" x=\"454.5\" y=\"-166.3\" font-family=\"Times New Roman,serif\" font-size=\"14.00\">accountOpenDate : datetime</text>\r\n",
       "<text text-anchor=\"start\" x=\"454.5\" y=\"-151.3\" font-family=\"Times New Roman,serif\" font-size=\"14.00\">dateOfLastAddressChange : datetime</text>\r\n",
       "</g>\r\n",
       "<!-- transactionAmounts -->\r\n",
       "<g id=\"node2\" class=\"node\"><title>transactionAmounts</title>\r\n",
       "<polygon fill=\"none\" stroke=\"black\" points=\"0,-30.5 0,-76.5 206,-76.5 206,-30.5 0,-30.5\"/>\r\n",
       "<text text-anchor=\"middle\" x=\"103\" y=\"-61.3\" font-family=\"Times New Roman,serif\" font-size=\"14.00\">transactionAmounts (60840 rows)</text>\r\n",
       "<polyline fill=\"none\" stroke=\"black\" points=\"0,-53.5 206,-53.5 \"/>\r\n",
       "<text text-anchor=\"start\" x=\"8\" y=\"-38.3\" font-family=\"Times New Roman,serif\" font-size=\"14.00\">transactionAmount : index</text>\r\n",
       "</g>\r\n",
       "<!-- transactions&#45;&gt;transactionAmounts -->\r\n",
       "<g id=\"edge1\" class=\"edge\"><title>transactions&#45;&gt;transactionAmounts</title>\r\n",
       "<path fill=\"none\" stroke=\"black\" d=\"M446.281,-279C311.246,-279 103,-279 103,-279 103,-279 103,-86.7831 103,-86.7831\"/>\r\n",
       "<polygon fill=\"black\" stroke=\"black\" points=\"106.5,-86.7831 103,-76.7831 99.5001,-86.7832 106.5,-86.7831\"/>\r\n",
       "<text text-anchor=\"middle\" x=\"125.532\" y=\"-282.8\" font-family=\"Times New Roman,serif\" font-size=\"14.00\">transactionAmount</text>\r\n",
       "</g>\r\n",
       "<!-- transactionTypes -->\r\n",
       "<g id=\"node3\" class=\"node\"><title>transactionTypes</title>\r\n",
       "<polygon fill=\"none\" stroke=\"black\" points=\"224,-0.5 224,-106.5 394,-106.5 394,-0.5 224,-0.5\"/>\r\n",
       "<text text-anchor=\"middle\" x=\"309\" y=\"-91.3\" font-family=\"Times New Roman,serif\" font-size=\"14.00\">transactionTypes (4 rows)</text>\r\n",
       "<polyline fill=\"none\" stroke=\"black\" points=\"224,-83.5 394,-83.5 \"/>\r\n",
       "<text text-anchor=\"start\" x=\"232\" y=\"-68.3\" font-family=\"Times New Roman,serif\" font-size=\"14.00\">transactionType : index</text>\r\n",
       "<text text-anchor=\"start\" x=\"232\" y=\"-53.3\" font-family=\"Times New Roman,serif\" font-size=\"14.00\">creditLimit : numeric</text>\r\n",
       "<text text-anchor=\"start\" x=\"232\" y=\"-38.3\" font-family=\"Times New Roman,serif\" font-size=\"14.00\">merchantName : categorical</text>\r\n",
       "<text text-anchor=\"start\" x=\"232\" y=\"-23.3\" font-family=\"Times New Roman,serif\" font-size=\"14.00\">availableMoney : numeric</text>\r\n",
       "<text text-anchor=\"start\" x=\"232\" y=\"-8.3\" font-family=\"Times New Roman,serif\" font-size=\"14.00\">currentBalance : numeric</text>\r\n",
       "</g>\r\n",
       "<!-- transactions&#45;&gt;transactionTypes -->\r\n",
       "<g id=\"edge2\" class=\"edge\"><title>transactions&#45;&gt;transactionTypes</title>\r\n",
       "<path fill=\"none\" stroke=\"black\" d=\"M481.667,-143.099C481.667,-114.097 481.667,-92 481.667,-92 481.667,-92 404.069,-92 404.069,-92\"/>\r\n",
       "<polygon fill=\"black\" stroke=\"black\" points=\"404.069,-88.5001 394.069,-92 404.069,-95.5001 404.069,-88.5001\"/>\r\n",
       "<text text-anchor=\"middle\" x=\"513.917\" y=\"-95.8\" font-family=\"Times New Roman,serif\" font-size=\"14.00\">transactionType</text>\r\n",
       "</g>\r\n",
       "<!-- merchant -->\r\n",
       "<g id=\"node4\" class=\"node\"><title>merchant</title>\r\n",
       "<polygon fill=\"none\" stroke=\"black\" points=\"412,-30.5 412,-76.5 552,-76.5 552,-30.5 412,-30.5\"/>\r\n",
       "<text text-anchor=\"middle\" x=\"482\" y=\"-61.3\" font-family=\"Times New Roman,serif\" font-size=\"14.00\">merchant (2488 rows)</text>\r\n",
       "<polyline fill=\"none\" stroke=\"black\" points=\"412,-53.5 552,-53.5 \"/>\r\n",
       "<text text-anchor=\"start\" x=\"420\" y=\"-38.3\" font-family=\"Times New Roman,serif\" font-size=\"14.00\">merchantName : index</text>\r\n",
       "</g>\r\n",
       "<!-- transactions&#45;&gt;merchant -->\r\n",
       "<g id=\"edge3\" class=\"edge\"><title>transactions&#45;&gt;merchant</title>\r\n",
       "<path fill=\"none\" stroke=\"black\" d=\"M516.833,-143.272C516.833,-143.272 516.833,-86.7272 516.833,-86.7272\"/>\r\n",
       "<polygon fill=\"black\" stroke=\"black\" points=\"520.333,-86.7271 516.833,-76.7272 513.333,-86.7272 520.333,-86.7271\"/>\r\n",
       "<text text-anchor=\"middle\" x=\"474.833\" y=\"-118.799\" font-family=\"Times New Roman,serif\" font-size=\"14.00\">merchantName</text>\r\n",
       "</g>\r\n",
       "<!-- creditLimit -->\r\n",
       "<g id=\"node5\" class=\"node\"><title>creditLimit</title>\r\n",
       "<polygon fill=\"none\" stroke=\"black\" points=\"570,-30.5 570,-76.5 704,-76.5 704,-30.5 570,-30.5\"/>\r\n",
       "<text text-anchor=\"middle\" x=\"637\" y=\"-61.3\" font-family=\"Times New Roman,serif\" font-size=\"14.00\">creditLimit (10 rows)</text>\r\n",
       "<polyline fill=\"none\" stroke=\"black\" points=\"570,-53.5 704,-53.5 \"/>\r\n",
       "<text text-anchor=\"start\" x=\"578\" y=\"-38.3\" font-family=\"Times New Roman,serif\" font-size=\"14.00\">creditLimit : index</text>\r\n",
       "</g>\r\n",
       "<!-- transactions&#45;&gt;creditLimit -->\r\n",
       "<g id=\"edge4\" class=\"edge\"><title>transactions&#45;&gt;creditLimit</title>\r\n",
       "<path fill=\"none\" stroke=\"black\" d=\"M620.75,-143.272C620.75,-143.272 620.75,-86.7272 620.75,-86.7272\"/>\r\n",
       "<polygon fill=\"black\" stroke=\"black\" points=\"624.25,-86.7271 620.75,-76.7272 617.25,-86.7272 624.25,-86.7271\"/>\r\n",
       "<text text-anchor=\"middle\" x=\"590.25\" y=\"-118.799\" font-family=\"Times New Roman,serif\" font-size=\"14.00\">creditLimit</text>\r\n",
       "</g>\r\n",
       "<!-- availableMoney -->\r\n",
       "<g id=\"node6\" class=\"node\"><title>availableMoney</title>\r\n",
       "<polygon fill=\"none\" stroke=\"black\" points=\"722,-30.5 722,-76.5 910,-76.5 910,-30.5 722,-30.5\"/>\r\n",
       "<text text-anchor=\"middle\" x=\"816\" y=\"-61.3\" font-family=\"Times New Roman,serif\" font-size=\"14.00\">availableMoney (400943 rows)</text>\r\n",
       "<polyline fill=\"none\" stroke=\"black\" points=\"722,-53.5 910,-53.5 \"/>\r\n",
       "<text text-anchor=\"start\" x=\"730\" y=\"-38.3\" font-family=\"Times New Roman,serif\" font-size=\"14.00\">availableMoney : index</text>\r\n",
       "</g>\r\n",
       "<!-- transactions&#45;&gt;availableMoney -->\r\n",
       "<g id=\"edge5\" class=\"edge\"><title>transactions&#45;&gt;availableMoney</title>\r\n",
       "<path fill=\"none\" stroke=\"black\" d=\"M671.724,-233C740.777,-233 816,-233 816,-233 816,-233 816,-86.599 816,-86.599\"/>\r\n",
       "<polygon fill=\"black\" stroke=\"black\" points=\"819.5,-86.599 816,-76.599 812.5,-86.599 819.5,-86.599\"/>\r\n",
       "<text text-anchor=\"middle\" x=\"772.5\" y=\"-235.738\" font-family=\"Times New Roman,serif\" font-size=\"14.00\">availableMoney</text>\r\n",
       "</g>\r\n",
       "<!-- currentBalance -->\r\n",
       "<g id=\"node7\" class=\"node\"><title>currentBalance</title>\r\n",
       "<polygon fill=\"none\" stroke=\"black\" points=\"928,-30.5 928,-76.5 1112,-76.5 1112,-30.5 928,-30.5\"/>\r\n",
       "<text text-anchor=\"middle\" x=\"1020\" y=\"-61.3\" font-family=\"Times New Roman,serif\" font-size=\"14.00\">currentBalance (379383 rows)</text>\r\n",
       "<polyline fill=\"none\" stroke=\"black\" points=\"928,-53.5 1112,-53.5 \"/>\r\n",
       "<text text-anchor=\"start\" x=\"936\" y=\"-38.3\" font-family=\"Times New Roman,serif\" font-size=\"14.00\">currentBalance : index</text>\r\n",
       "</g>\r\n",
       "<!-- transactions&#45;&gt;currentBalance -->\r\n",
       "<g id=\"edge6\" class=\"edge\"><title>transactions&#45;&gt;currentBalance</title>\r\n",
       "<path fill=\"none\" stroke=\"black\" d=\"M671.773,-324C808.252,-324 1020,-324 1020,-324 1020,-324 1020,-86.5627 1020,-86.5627\"/>\r\n",
       "<polygon fill=\"black\" stroke=\"black\" points=\"1023.5,-86.5626 1020,-76.5627 1016.5,-86.5627 1023.5,-86.5626\"/>\r\n",
       "<text text-anchor=\"middle\" x=\"923.105\" y=\"-327.8\" font-family=\"Times New Roman,serif\" font-size=\"14.00\">currentBalance</text>\r\n",
       "</g>\r\n",
       "</g>\r\n",
       "</svg>\r\n"
      ],
      "text/plain": [
       "<graphviz.dot.Digraph at 0x1018b320>"
      ]
     },
     "execution_count": 14,
     "metadata": {},
     "output_type": "execute_result"
    }
   ],
   "source": [
    "es.plot()"
   ]
  },
  {
   "cell_type": "code",
   "execution_count": 15,
   "metadata": {
    "ExecuteTime": {
     "end_time": "2020-12-29T10:39:31.607657Z",
     "start_time": "2020-12-29T10:22:13.413276Z"
    }
   },
   "outputs": [
    {
     "name": "stdout",
     "output_type": "stream",
     "text": [
      "Built 154 features\n",
      "EntitySet scattered to 8 workers in 47 seconds                                 \n",
      "Elapsed: 16:27 | Progress: 100%|███████████████████████████████████████████████\n"
     ]
    },
    {
     "data": {
      "text/html": [
       "<div>\n",
       "<style scoped>\n",
       "    .dataframe tbody tr th:only-of-type {\n",
       "        vertical-align: middle;\n",
       "    }\n",
       "\n",
       "    .dataframe tbody tr th {\n",
       "        vertical-align: top;\n",
       "    }\n",
       "\n",
       "    .dataframe thead th {\n",
       "        text-align: right;\n",
       "    }\n",
       "</style>\n",
       "<table border=\"1\" class=\"dataframe\">\n",
       "  <thead>\n",
       "    <tr style=\"text-align: right;\">\n",
       "      <th></th>\n",
       "      <th>creditLimit</th>\n",
       "      <th>availableMoney</th>\n",
       "      <th>transactionAmount</th>\n",
       "      <th>transactionType</th>\n",
       "      <th>currentBalance</th>\n",
       "      <th>posEntryMode</th>\n",
       "      <th>cardPresent</th>\n",
       "      <th>expirationDateKeyInMatch</th>\n",
       "      <th>acqCountry</th>\n",
       "      <th>merchantCountryCode</th>\n",
       "      <th>...</th>\n",
       "      <th>currentBalance.NUM_UNIQUE(transactions.availableMoney)</th>\n",
       "      <th>currentBalance.NUM_UNIQUE(transactions.creditLimit)</th>\n",
       "      <th>currentBalance.NUM_UNIQUE(transactions.merchantCountryCode)</th>\n",
       "      <th>currentBalance.NUM_UNIQUE(transactions.merchantName)</th>\n",
       "      <th>currentBalance.NUM_UNIQUE(transactions.posConditionCode)</th>\n",
       "      <th>currentBalance.NUM_UNIQUE(transactions.posEntryMode)</th>\n",
       "      <th>currentBalance.NUM_UNIQUE(transactions.transactionAmount)</th>\n",
       "      <th>currentBalance.NUM_UNIQUE(transactions.transactionType)</th>\n",
       "      <th>currentBalance.PERCENT_TRUE(transactions.cardPresent)</th>\n",
       "      <th>currentBalance.PERCENT_TRUE(transactions.expirationDateKeyInMatch)</th>\n",
       "    </tr>\n",
       "    <tr>\n",
       "      <th>index</th>\n",
       "      <th></th>\n",
       "      <th></th>\n",
       "      <th></th>\n",
       "      <th></th>\n",
       "      <th></th>\n",
       "      <th></th>\n",
       "      <th></th>\n",
       "      <th></th>\n",
       "      <th></th>\n",
       "      <th></th>\n",
       "      <th></th>\n",
       "      <th></th>\n",
       "      <th></th>\n",
       "      <th></th>\n",
       "      <th></th>\n",
       "      <th></th>\n",
       "      <th></th>\n",
       "      <th></th>\n",
       "      <th></th>\n",
       "      <th></th>\n",
       "      <th></th>\n",
       "    </tr>\n",
       "  </thead>\n",
       "  <tbody>\n",
       "    <tr>\n",
       "      <th>0</th>\n",
       "      <td>2500</td>\n",
       "      <td>1976.74</td>\n",
       "      <td>60.98</td>\n",
       "      <td>PURCHASE</td>\n",
       "      <td>523.26</td>\n",
       "      <td>09</td>\n",
       "      <td>False</td>\n",
       "      <td>False</td>\n",
       "      <td>US</td>\n",
       "      <td>US</td>\n",
       "      <td>...</td>\n",
       "      <td>1.0</td>\n",
       "      <td>1</td>\n",
       "      <td>1</td>\n",
       "      <td>1</td>\n",
       "      <td>1</td>\n",
       "      <td>1</td>\n",
       "      <td>1.0</td>\n",
       "      <td>1</td>\n",
       "      <td>0.000000</td>\n",
       "      <td>0.000000</td>\n",
       "    </tr>\n",
       "    <tr>\n",
       "      <th>1</th>\n",
       "      <td>250</td>\n",
       "      <td>250.00</td>\n",
       "      <td>90.93</td>\n",
       "      <td>PURCHASE</td>\n",
       "      <td>0.00</td>\n",
       "      <td>02</td>\n",
       "      <td>True</td>\n",
       "      <td>False</td>\n",
       "      <td>US</td>\n",
       "      <td>US</td>\n",
       "      <td>...</td>\n",
       "      <td>10.0</td>\n",
       "      <td>10</td>\n",
       "      <td>5</td>\n",
       "      <td>2079</td>\n",
       "      <td>4</td>\n",
       "      <td>6</td>\n",
       "      <td>14613.0</td>\n",
       "      <td>4</td>\n",
       "      <td>0.445497</td>\n",
       "      <td>0.001274</td>\n",
       "    </tr>\n",
       "    <tr>\n",
       "      <th>2</th>\n",
       "      <td>20000</td>\n",
       "      <td>18632.07</td>\n",
       "      <td>261.07</td>\n",
       "      <td>PURCHASE</td>\n",
       "      <td>1367.93</td>\n",
       "      <td>02</td>\n",
       "      <td>False</td>\n",
       "      <td>False</td>\n",
       "      <td>US</td>\n",
       "      <td>US</td>\n",
       "      <td>...</td>\n",
       "      <td>2.0</td>\n",
       "      <td>2</td>\n",
       "      <td>1</td>\n",
       "      <td>2</td>\n",
       "      <td>1</td>\n",
       "      <td>2</td>\n",
       "      <td>2.0</td>\n",
       "      <td>1</td>\n",
       "      <td>0.000000</td>\n",
       "      <td>0.000000</td>\n",
       "    </tr>\n",
       "    <tr>\n",
       "      <th>3</th>\n",
       "      <td>5000</td>\n",
       "      <td>1585.14</td>\n",
       "      <td>110.60</td>\n",
       "      <td>PURCHASE</td>\n",
       "      <td>3414.86</td>\n",
       "      <td>02</td>\n",
       "      <td>True</td>\n",
       "      <td>False</td>\n",
       "      <td>US</td>\n",
       "      <td>US</td>\n",
       "      <td>...</td>\n",
       "      <td>1.0</td>\n",
       "      <td>1</td>\n",
       "      <td>1</td>\n",
       "      <td>1</td>\n",
       "      <td>1</td>\n",
       "      <td>1</td>\n",
       "      <td>1.0</td>\n",
       "      <td>1</td>\n",
       "      <td>1.000000</td>\n",
       "      <td>0.000000</td>\n",
       "    </tr>\n",
       "    <tr>\n",
       "      <th>4</th>\n",
       "      <td>5000</td>\n",
       "      <td>558.90</td>\n",
       "      <td>4.87</td>\n",
       "      <td>PURCHASE</td>\n",
       "      <td>4441.10</td>\n",
       "      <td>05</td>\n",
       "      <td>True</td>\n",
       "      <td>False</td>\n",
       "      <td>US</td>\n",
       "      <td>US</td>\n",
       "      <td>...</td>\n",
       "      <td>2.0</td>\n",
       "      <td>2</td>\n",
       "      <td>1</td>\n",
       "      <td>4</td>\n",
       "      <td>1</td>\n",
       "      <td>2</td>\n",
       "      <td>4.0</td>\n",
       "      <td>1</td>\n",
       "      <td>0.750000</td>\n",
       "      <td>0.000000</td>\n",
       "    </tr>\n",
       "  </tbody>\n",
       "</table>\n",
       "<p>5 rows × 154 columns</p>\n",
       "</div>"
      ],
      "text/plain": [
       "       creditLimit  availableMoney  transactionAmount transactionType  \\\n",
       "index                                                                   \n",
       "0             2500         1976.74              60.98        PURCHASE   \n",
       "1              250          250.00              90.93        PURCHASE   \n",
       "2            20000        18632.07             261.07        PURCHASE   \n",
       "3             5000         1585.14             110.60        PURCHASE   \n",
       "4             5000          558.90               4.87        PURCHASE   \n",
       "\n",
       "       currentBalance posEntryMode  cardPresent  expirationDateKeyInMatch  \\\n",
       "index                                                                       \n",
       "0              523.26           09        False                     False   \n",
       "1                0.00           02         True                     False   \n",
       "2             1367.93           02        False                     False   \n",
       "3             3414.86           02         True                     False   \n",
       "4             4441.10           05         True                     False   \n",
       "\n",
       "      acqCountry merchantCountryCode  ...  \\\n",
       "index                                 ...   \n",
       "0             US                  US  ...   \n",
       "1             US                  US  ...   \n",
       "2             US                  US  ...   \n",
       "3             US                  US  ...   \n",
       "4             US                  US  ...   \n",
       "\n",
       "      currentBalance.NUM_UNIQUE(transactions.availableMoney)  \\\n",
       "index                                                          \n",
       "0                                                    1.0       \n",
       "1                                                   10.0       \n",
       "2                                                    2.0       \n",
       "3                                                    1.0       \n",
       "4                                                    2.0       \n",
       "\n",
       "      currentBalance.NUM_UNIQUE(transactions.creditLimit)  \\\n",
       "index                                                       \n",
       "0                                                      1    \n",
       "1                                                     10    \n",
       "2                                                      2    \n",
       "3                                                      1    \n",
       "4                                                      2    \n",
       "\n",
       "       currentBalance.NUM_UNIQUE(transactions.merchantCountryCode)  \\\n",
       "index                                                                \n",
       "0                                                      1             \n",
       "1                                                      5             \n",
       "2                                                      1             \n",
       "3                                                      1             \n",
       "4                                                      1             \n",
       "\n",
       "       currentBalance.NUM_UNIQUE(transactions.merchantName)  \\\n",
       "index                                                         \n",
       "0                                                      1      \n",
       "1                                                   2079      \n",
       "2                                                      2      \n",
       "3                                                      1      \n",
       "4                                                      4      \n",
       "\n",
       "       currentBalance.NUM_UNIQUE(transactions.posConditionCode)  \\\n",
       "index                                                             \n",
       "0                                                      1          \n",
       "1                                                      4          \n",
       "2                                                      1          \n",
       "3                                                      1          \n",
       "4                                                      1          \n",
       "\n",
       "       currentBalance.NUM_UNIQUE(transactions.posEntryMode)  \\\n",
       "index                                                         \n",
       "0                                                      1      \n",
       "1                                                      6      \n",
       "2                                                      2      \n",
       "3                                                      1      \n",
       "4                                                      2      \n",
       "\n",
       "       currentBalance.NUM_UNIQUE(transactions.transactionAmount)  \\\n",
       "index                                                              \n",
       "0                                                    1.0           \n",
       "1                                                14613.0           \n",
       "2                                                    2.0           \n",
       "3                                                    1.0           \n",
       "4                                                    4.0           \n",
       "\n",
       "       currentBalance.NUM_UNIQUE(transactions.transactionType)  \\\n",
       "index                                                            \n",
       "0                                                      1         \n",
       "1                                                      4         \n",
       "2                                                      1         \n",
       "3                                                      1         \n",
       "4                                                      1         \n",
       "\n",
       "       currentBalance.PERCENT_TRUE(transactions.cardPresent)  \\\n",
       "index                                                          \n",
       "0                                               0.000000       \n",
       "1                                               0.445497       \n",
       "2                                               0.000000       \n",
       "3                                               1.000000       \n",
       "4                                               0.750000       \n",
       "\n",
       "       currentBalance.PERCENT_TRUE(transactions.expirationDateKeyInMatch)  \n",
       "index                                                                      \n",
       "0                                               0.000000                   \n",
       "1                                               0.001274                   \n",
       "2                                               0.000000                   \n",
       "3                                               0.000000                   \n",
       "4                                               0.000000                   \n",
       "\n",
       "[5 rows x 154 columns]"
      ]
     },
     "execution_count": 15,
     "metadata": {},
     "output_type": "execute_result"
    }
   ],
   "source": [
    "#create features from entityset\n",
    "feature_matrix,feature_names = ft.dfs(entityset = es, target_entity = 'transactions',\n",
    "                       \n",
    "                       features_only=False,verbose=True,n_jobs = -1)\n",
    "\n",
    "feature_matrix.head()"
   ]
  },
  {
   "cell_type": "code",
   "execution_count": 16,
   "metadata": {
    "ExecuteTime": {
     "end_time": "2020-12-29T10:39:34.297811Z",
     "start_time": "2020-12-29T10:39:31.608657Z"
    }
   },
   "outputs": [],
   "source": [
    "#Trim irrelevant features\n",
    "from featuretools.selection import (\n",
    "    remove_highly_correlated_features,\n",
    "    remove_highly_null_features,\n",
    "    remove_single_value_features,\n",
    ")\n",
    "new_fm, new_features = remove_single_value_features(feature_matrix, features=feature_names)"
   ]
  },
  {
   "cell_type": "code",
   "execution_count": 17,
   "metadata": {
    "ExecuteTime": {
     "end_time": "2020-12-29T10:39:35.796897Z",
     "start_time": "2020-12-29T10:39:34.298811Z"
    }
   },
   "outputs": [],
   "source": [
    "new_fm, new_features = ft.selection.remove_highly_null_features(new_fm, features=feature_names)"
   ]
  },
  {
   "cell_type": "code",
   "execution_count": 18,
   "metadata": {
    "ExecuteTime": {
     "end_time": "2020-12-29T10:39:39.966135Z",
     "start_time": "2020-12-29T10:39:35.797897Z"
    }
   },
   "outputs": [
    {
     "data": {
      "text/html": [
       "<div>\n",
       "<style scoped>\n",
       "    .dataframe tbody tr th:only-of-type {\n",
       "        vertical-align: middle;\n",
       "    }\n",
       "\n",
       "    .dataframe tbody tr th {\n",
       "        vertical-align: top;\n",
       "    }\n",
       "\n",
       "    .dataframe thead th {\n",
       "        text-align: right;\n",
       "    }\n",
       "</style>\n",
       "<table border=\"1\" class=\"dataframe\">\n",
       "  <thead>\n",
       "    <tr style=\"text-align: right;\">\n",
       "      <th></th>\n",
       "      <th>creditLimit</th>\n",
       "      <th>availableMoney</th>\n",
       "      <th>transactionAmount</th>\n",
       "      <th>transactionType</th>\n",
       "      <th>currentBalance</th>\n",
       "      <th>posEntryMode</th>\n",
       "      <th>cardPresent</th>\n",
       "      <th>expirationDateKeyInMatch</th>\n",
       "      <th>acqCountry</th>\n",
       "      <th>merchantCountryCode</th>\n",
       "      <th>...</th>\n",
       "      <th>currentBalance.NUM_UNIQUE(transactions.availableMoney)</th>\n",
       "      <th>currentBalance.NUM_UNIQUE(transactions.creditLimit)</th>\n",
       "      <th>currentBalance.NUM_UNIQUE(transactions.merchantCountryCode)</th>\n",
       "      <th>currentBalance.NUM_UNIQUE(transactions.merchantName)</th>\n",
       "      <th>currentBalance.NUM_UNIQUE(transactions.posConditionCode)</th>\n",
       "      <th>currentBalance.NUM_UNIQUE(transactions.posEntryMode)</th>\n",
       "      <th>currentBalance.NUM_UNIQUE(transactions.transactionAmount)</th>\n",
       "      <th>currentBalance.NUM_UNIQUE(transactions.transactionType)</th>\n",
       "      <th>currentBalance.PERCENT_TRUE(transactions.cardPresent)</th>\n",
       "      <th>currentBalance.PERCENT_TRUE(transactions.expirationDateKeyInMatch)</th>\n",
       "    </tr>\n",
       "    <tr>\n",
       "      <th>index</th>\n",
       "      <th></th>\n",
       "      <th></th>\n",
       "      <th></th>\n",
       "      <th></th>\n",
       "      <th></th>\n",
       "      <th></th>\n",
       "      <th></th>\n",
       "      <th></th>\n",
       "      <th></th>\n",
       "      <th></th>\n",
       "      <th></th>\n",
       "      <th></th>\n",
       "      <th></th>\n",
       "      <th></th>\n",
       "      <th></th>\n",
       "      <th></th>\n",
       "      <th></th>\n",
       "      <th></th>\n",
       "      <th></th>\n",
       "      <th></th>\n",
       "      <th></th>\n",
       "    </tr>\n",
       "  </thead>\n",
       "  <tbody>\n",
       "    <tr>\n",
       "      <th>0</th>\n",
       "      <td>2500</td>\n",
       "      <td>1976.74</td>\n",
       "      <td>60.98</td>\n",
       "      <td>PURCHASE</td>\n",
       "      <td>523.26</td>\n",
       "      <td>09</td>\n",
       "      <td>False</td>\n",
       "      <td>False</td>\n",
       "      <td>US</td>\n",
       "      <td>US</td>\n",
       "      <td>...</td>\n",
       "      <td>1.0</td>\n",
       "      <td>1</td>\n",
       "      <td>1</td>\n",
       "      <td>1</td>\n",
       "      <td>1</td>\n",
       "      <td>1</td>\n",
       "      <td>1.0</td>\n",
       "      <td>1</td>\n",
       "      <td>0.000000</td>\n",
       "      <td>0.000000</td>\n",
       "    </tr>\n",
       "    <tr>\n",
       "      <th>1</th>\n",
       "      <td>250</td>\n",
       "      <td>250.00</td>\n",
       "      <td>90.93</td>\n",
       "      <td>PURCHASE</td>\n",
       "      <td>0.00</td>\n",
       "      <td>02</td>\n",
       "      <td>True</td>\n",
       "      <td>False</td>\n",
       "      <td>US</td>\n",
       "      <td>US</td>\n",
       "      <td>...</td>\n",
       "      <td>10.0</td>\n",
       "      <td>10</td>\n",
       "      <td>5</td>\n",
       "      <td>2079</td>\n",
       "      <td>4</td>\n",
       "      <td>6</td>\n",
       "      <td>14613.0</td>\n",
       "      <td>4</td>\n",
       "      <td>0.445497</td>\n",
       "      <td>0.001274</td>\n",
       "    </tr>\n",
       "    <tr>\n",
       "      <th>2</th>\n",
       "      <td>20000</td>\n",
       "      <td>18632.07</td>\n",
       "      <td>261.07</td>\n",
       "      <td>PURCHASE</td>\n",
       "      <td>1367.93</td>\n",
       "      <td>02</td>\n",
       "      <td>False</td>\n",
       "      <td>False</td>\n",
       "      <td>US</td>\n",
       "      <td>US</td>\n",
       "      <td>...</td>\n",
       "      <td>2.0</td>\n",
       "      <td>2</td>\n",
       "      <td>1</td>\n",
       "      <td>2</td>\n",
       "      <td>1</td>\n",
       "      <td>2</td>\n",
       "      <td>2.0</td>\n",
       "      <td>1</td>\n",
       "      <td>0.000000</td>\n",
       "      <td>0.000000</td>\n",
       "    </tr>\n",
       "    <tr>\n",
       "      <th>3</th>\n",
       "      <td>5000</td>\n",
       "      <td>1585.14</td>\n",
       "      <td>110.60</td>\n",
       "      <td>PURCHASE</td>\n",
       "      <td>3414.86</td>\n",
       "      <td>02</td>\n",
       "      <td>True</td>\n",
       "      <td>False</td>\n",
       "      <td>US</td>\n",
       "      <td>US</td>\n",
       "      <td>...</td>\n",
       "      <td>1.0</td>\n",
       "      <td>1</td>\n",
       "      <td>1</td>\n",
       "      <td>1</td>\n",
       "      <td>1</td>\n",
       "      <td>1</td>\n",
       "      <td>1.0</td>\n",
       "      <td>1</td>\n",
       "      <td>1.000000</td>\n",
       "      <td>0.000000</td>\n",
       "    </tr>\n",
       "    <tr>\n",
       "      <th>4</th>\n",
       "      <td>5000</td>\n",
       "      <td>558.90</td>\n",
       "      <td>4.87</td>\n",
       "      <td>PURCHASE</td>\n",
       "      <td>4441.10</td>\n",
       "      <td>05</td>\n",
       "      <td>True</td>\n",
       "      <td>False</td>\n",
       "      <td>US</td>\n",
       "      <td>US</td>\n",
       "      <td>...</td>\n",
       "      <td>2.0</td>\n",
       "      <td>2</td>\n",
       "      <td>1</td>\n",
       "      <td>4</td>\n",
       "      <td>1</td>\n",
       "      <td>2</td>\n",
       "      <td>4.0</td>\n",
       "      <td>1</td>\n",
       "      <td>0.750000</td>\n",
       "      <td>0.000000</td>\n",
       "    </tr>\n",
       "    <tr>\n",
       "      <th>...</th>\n",
       "      <td>...</td>\n",
       "      <td>...</td>\n",
       "      <td>...</td>\n",
       "      <td>...</td>\n",
       "      <td>...</td>\n",
       "      <td>...</td>\n",
       "      <td>...</td>\n",
       "      <td>...</td>\n",
       "      <td>...</td>\n",
       "      <td>...</td>\n",
       "      <td>...</td>\n",
       "      <td>...</td>\n",
       "      <td>...</td>\n",
       "      <td>...</td>\n",
       "      <td>...</td>\n",
       "      <td>...</td>\n",
       "      <td>...</td>\n",
       "      <td>...</td>\n",
       "      <td>...</td>\n",
       "      <td>...</td>\n",
       "      <td>...</td>\n",
       "    </tr>\n",
       "    <tr>\n",
       "      <th>550449</th>\n",
       "      <td>1000</td>\n",
       "      <td>510.48</td>\n",
       "      <td>360.11</td>\n",
       "      <td>PURCHASE</td>\n",
       "      <td>489.52</td>\n",
       "      <td>05</td>\n",
       "      <td>False</td>\n",
       "      <td>False</td>\n",
       "      <td>US</td>\n",
       "      <td>US</td>\n",
       "      <td>...</td>\n",
       "      <td>1.0</td>\n",
       "      <td>1</td>\n",
       "      <td>1</td>\n",
       "      <td>1</td>\n",
       "      <td>1</td>\n",
       "      <td>1</td>\n",
       "      <td>1.0</td>\n",
       "      <td>1</td>\n",
       "      <td>0.000000</td>\n",
       "      <td>0.000000</td>\n",
       "    </tr>\n",
       "    <tr>\n",
       "      <th>550450</th>\n",
       "      <td>15000</td>\n",
       "      <td>14994.57</td>\n",
       "      <td>114.76</td>\n",
       "      <td>PURCHASE</td>\n",
       "      <td>5.43</td>\n",
       "      <td>09</td>\n",
       "      <td>False</td>\n",
       "      <td>False</td>\n",
       "      <td>US</td>\n",
       "      <td>US</td>\n",
       "      <td>...</td>\n",
       "      <td>2.0</td>\n",
       "      <td>2</td>\n",
       "      <td>1</td>\n",
       "      <td>3</td>\n",
       "      <td>2</td>\n",
       "      <td>2</td>\n",
       "      <td>3.0</td>\n",
       "      <td>1</td>\n",
       "      <td>0.333333</td>\n",
       "      <td>0.000000</td>\n",
       "    </tr>\n",
       "    <tr>\n",
       "      <th>550451</th>\n",
       "      <td>15000</td>\n",
       "      <td>11477.87</td>\n",
       "      <td>8.46</td>\n",
       "      <td>PURCHASE</td>\n",
       "      <td>3522.13</td>\n",
       "      <td>09</td>\n",
       "      <td>True</td>\n",
       "      <td>False</td>\n",
       "      <td>US</td>\n",
       "      <td>US</td>\n",
       "      <td>...</td>\n",
       "      <td>1.0</td>\n",
       "      <td>1</td>\n",
       "      <td>1</td>\n",
       "      <td>1</td>\n",
       "      <td>1</td>\n",
       "      <td>1</td>\n",
       "      <td>1.0</td>\n",
       "      <td>1</td>\n",
       "      <td>1.000000</td>\n",
       "      <td>0.000000</td>\n",
       "    </tr>\n",
       "    <tr>\n",
       "      <th>550452</th>\n",
       "      <td>15000</td>\n",
       "      <td>15000.00</td>\n",
       "      <td>9.95</td>\n",
       "      <td>PURCHASE</td>\n",
       "      <td>0.00</td>\n",
       "      <td>05</td>\n",
       "      <td>False</td>\n",
       "      <td>False</td>\n",
       "      <td>US</td>\n",
       "      <td>US</td>\n",
       "      <td>...</td>\n",
       "      <td>10.0</td>\n",
       "      <td>10</td>\n",
       "      <td>5</td>\n",
       "      <td>2079</td>\n",
       "      <td>4</td>\n",
       "      <td>6</td>\n",
       "      <td>14613.0</td>\n",
       "      <td>4</td>\n",
       "      <td>0.445497</td>\n",
       "      <td>0.001274</td>\n",
       "    </tr>\n",
       "    <tr>\n",
       "      <th>550453</th>\n",
       "      <td>50000</td>\n",
       "      <td>39755.61</td>\n",
       "      <td>329.32</td>\n",
       "      <td>PURCHASE</td>\n",
       "      <td>10244.39</td>\n",
       "      <td>05</td>\n",
       "      <td>True</td>\n",
       "      <td>False</td>\n",
       "      <td>US</td>\n",
       "      <td>US</td>\n",
       "      <td>...</td>\n",
       "      <td>2.0</td>\n",
       "      <td>2</td>\n",
       "      <td>1</td>\n",
       "      <td>2</td>\n",
       "      <td>2</td>\n",
       "      <td>2</td>\n",
       "      <td>2.0</td>\n",
       "      <td>1</td>\n",
       "      <td>0.500000</td>\n",
       "      <td>0.000000</td>\n",
       "    </tr>\n",
       "  </tbody>\n",
       "</table>\n",
       "<p>550454 rows × 130 columns</p>\n",
       "</div>"
      ],
      "text/plain": [
       "        creditLimit  availableMoney  transactionAmount transactionType  \\\n",
       "index                                                                    \n",
       "0              2500         1976.74              60.98        PURCHASE   \n",
       "1               250          250.00              90.93        PURCHASE   \n",
       "2             20000        18632.07             261.07        PURCHASE   \n",
       "3              5000         1585.14             110.60        PURCHASE   \n",
       "4              5000          558.90               4.87        PURCHASE   \n",
       "...             ...             ...                ...             ...   \n",
       "550449         1000          510.48             360.11        PURCHASE   \n",
       "550450        15000        14994.57             114.76        PURCHASE   \n",
       "550451        15000        11477.87               8.46        PURCHASE   \n",
       "550452        15000        15000.00               9.95        PURCHASE   \n",
       "550453        50000        39755.61             329.32        PURCHASE   \n",
       "\n",
       "        currentBalance posEntryMode  cardPresent  expirationDateKeyInMatch  \\\n",
       "index                                                                        \n",
       "0               523.26           09        False                     False   \n",
       "1                 0.00           02         True                     False   \n",
       "2              1367.93           02        False                     False   \n",
       "3              3414.86           02         True                     False   \n",
       "4              4441.10           05         True                     False   \n",
       "...                ...          ...          ...                       ...   \n",
       "550449          489.52           05        False                     False   \n",
       "550450            5.43           09        False                     False   \n",
       "550451         3522.13           09         True                     False   \n",
       "550452            0.00           05        False                     False   \n",
       "550453        10244.39           05         True                     False   \n",
       "\n",
       "       acqCountry merchantCountryCode  ...  \\\n",
       "index                                  ...   \n",
       "0              US                  US  ...   \n",
       "1              US                  US  ...   \n",
       "2              US                  US  ...   \n",
       "3              US                  US  ...   \n",
       "4              US                  US  ...   \n",
       "...           ...                 ...  ...   \n",
       "550449         US                  US  ...   \n",
       "550450         US                  US  ...   \n",
       "550451         US                  US  ...   \n",
       "550452         US                  US  ...   \n",
       "550453         US                  US  ...   \n",
       "\n",
       "       currentBalance.NUM_UNIQUE(transactions.availableMoney)  \\\n",
       "index                                                           \n",
       "0                                                     1.0       \n",
       "1                                                    10.0       \n",
       "2                                                     2.0       \n",
       "3                                                     1.0       \n",
       "4                                                     2.0       \n",
       "...                                                   ...       \n",
       "550449                                                1.0       \n",
       "550450                                                2.0       \n",
       "550451                                                1.0       \n",
       "550452                                               10.0       \n",
       "550453                                                2.0       \n",
       "\n",
       "       currentBalance.NUM_UNIQUE(transactions.creditLimit)  \\\n",
       "index                                                        \n",
       "0                                                       1    \n",
       "1                                                      10    \n",
       "2                                                       2    \n",
       "3                                                       1    \n",
       "4                                                       2    \n",
       "...                                                   ...    \n",
       "550449                                                  1    \n",
       "550450                                                  2    \n",
       "550451                                                  1    \n",
       "550452                                                 10    \n",
       "550453                                                  2    \n",
       "\n",
       "        currentBalance.NUM_UNIQUE(transactions.merchantCountryCode)  \\\n",
       "index                                                                 \n",
       "0                                                       1             \n",
       "1                                                       5             \n",
       "2                                                       1             \n",
       "3                                                       1             \n",
       "4                                                       1             \n",
       "...                                                   ...             \n",
       "550449                                                  1             \n",
       "550450                                                  1             \n",
       "550451                                                  1             \n",
       "550452                                                  5             \n",
       "550453                                                  1             \n",
       "\n",
       "        currentBalance.NUM_UNIQUE(transactions.merchantName)  \\\n",
       "index                                                          \n",
       "0                                                       1      \n",
       "1                                                    2079      \n",
       "2                                                       2      \n",
       "3                                                       1      \n",
       "4                                                       4      \n",
       "...                                                   ...      \n",
       "550449                                                  1      \n",
       "550450                                                  3      \n",
       "550451                                                  1      \n",
       "550452                                               2079      \n",
       "550453                                                  2      \n",
       "\n",
       "        currentBalance.NUM_UNIQUE(transactions.posConditionCode)  \\\n",
       "index                                                              \n",
       "0                                                       1          \n",
       "1                                                       4          \n",
       "2                                                       1          \n",
       "3                                                       1          \n",
       "4                                                       1          \n",
       "...                                                   ...          \n",
       "550449                                                  1          \n",
       "550450                                                  2          \n",
       "550451                                                  1          \n",
       "550452                                                  4          \n",
       "550453                                                  2          \n",
       "\n",
       "        currentBalance.NUM_UNIQUE(transactions.posEntryMode)  \\\n",
       "index                                                          \n",
       "0                                                       1      \n",
       "1                                                       6      \n",
       "2                                                       2      \n",
       "3                                                       1      \n",
       "4                                                       2      \n",
       "...                                                   ...      \n",
       "550449                                                  1      \n",
       "550450                                                  2      \n",
       "550451                                                  1      \n",
       "550452                                                  6      \n",
       "550453                                                  2      \n",
       "\n",
       "        currentBalance.NUM_UNIQUE(transactions.transactionAmount)  \\\n",
       "index                                                               \n",
       "0                                                     1.0           \n",
       "1                                                 14613.0           \n",
       "2                                                     2.0           \n",
       "3                                                     1.0           \n",
       "4                                                     4.0           \n",
       "...                                                   ...           \n",
       "550449                                                1.0           \n",
       "550450                                                3.0           \n",
       "550451                                                1.0           \n",
       "550452                                            14613.0           \n",
       "550453                                                2.0           \n",
       "\n",
       "        currentBalance.NUM_UNIQUE(transactions.transactionType)  \\\n",
       "index                                                             \n",
       "0                                                       1         \n",
       "1                                                       4         \n",
       "2                                                       1         \n",
       "3                                                       1         \n",
       "4                                                       1         \n",
       "...                                                   ...         \n",
       "550449                                                  1         \n",
       "550450                                                  1         \n",
       "550451                                                  1         \n",
       "550452                                                  4         \n",
       "550453                                                  1         \n",
       "\n",
       "        currentBalance.PERCENT_TRUE(transactions.cardPresent)  \\\n",
       "index                                                           \n",
       "0                                                0.000000       \n",
       "1                                                0.445497       \n",
       "2                                                0.000000       \n",
       "3                                                1.000000       \n",
       "4                                                0.750000       \n",
       "...                                                   ...       \n",
       "550449                                           0.000000       \n",
       "550450                                           0.333333       \n",
       "550451                                           1.000000       \n",
       "550452                                           0.445497       \n",
       "550453                                           0.500000       \n",
       "\n",
       "        currentBalance.PERCENT_TRUE(transactions.expirationDateKeyInMatch)  \n",
       "index                                                                       \n",
       "0                                                0.000000                   \n",
       "1                                                0.001274                   \n",
       "2                                                0.000000                   \n",
       "3                                                0.000000                   \n",
       "4                                                0.000000                   \n",
       "...                                                   ...                   \n",
       "550449                                           0.000000                   \n",
       "550450                                           0.000000                   \n",
       "550451                                           0.000000                   \n",
       "550452                                           0.001274                   \n",
       "550453                                           0.000000                   \n",
       "\n",
       "[550454 rows x 130 columns]"
      ]
     },
     "execution_count": 18,
     "metadata": {},
     "output_type": "execute_result"
    }
   ],
   "source": [
    "ft.selection.remove_low_information_features(new_fm)"
   ]
  },
  {
   "cell_type": "code",
   "execution_count": 19,
   "metadata": {
    "ExecuteTime": {
     "end_time": "2020-12-29T10:40:11.760954Z",
     "start_time": "2020-12-29T10:39:39.967135Z"
    }
   },
   "outputs": [],
   "source": [
    "new_fm, new_features = remove_highly_correlated_features(new_fm, features=feature_names)"
   ]
  },
  {
   "cell_type": "code",
   "execution_count": 20,
   "metadata": {
    "ExecuteTime": {
     "end_time": "2020-12-29T10:40:51.220211Z",
     "start_time": "2020-12-29T10:40:11.761954Z"
    }
   },
   "outputs": [],
   "source": [
    "#one hot encode features\n",
    "feature_matrix_enc, features_enc = ft.encode_features(new_fm, new_features, include_unknown=False)"
   ]
  },
  {
   "cell_type": "code",
   "execution_count": 21,
   "metadata": {
    "ExecuteTime": {
     "end_time": "2020-12-29T10:40:51.261213Z",
     "start_time": "2020-12-29T10:40:51.221211Z"
    }
   },
   "outputs": [
    {
     "data": {
      "text/html": [
       "<div>\n",
       "<style scoped>\n",
       "    .dataframe tbody tr th:only-of-type {\n",
       "        vertical-align: middle;\n",
       "    }\n",
       "\n",
       "    .dataframe tbody tr th {\n",
       "        vertical-align: top;\n",
       "    }\n",
       "\n",
       "    .dataframe thead th {\n",
       "        text-align: right;\n",
       "    }\n",
       "</style>\n",
       "<table border=\"1\" class=\"dataframe\">\n",
       "  <thead>\n",
       "    <tr style=\"text-align: right;\">\n",
       "      <th></th>\n",
       "      <th>creditLimit = 5000</th>\n",
       "      <th>creditLimit = 15000</th>\n",
       "      <th>creditLimit = 7500</th>\n",
       "      <th>creditLimit = 2500</th>\n",
       "      <th>creditLimit = 20000</th>\n",
       "      <th>creditLimit = 10000</th>\n",
       "      <th>creditLimit = 50000</th>\n",
       "      <th>creditLimit = 1000</th>\n",
       "      <th>creditLimit = 250</th>\n",
       "      <th>creditLimit = 500</th>\n",
       "      <th>...</th>\n",
       "      <th>currentBalance.MODE(transactions.transactionType) = PURCHASE</th>\n",
       "      <th>currentBalance.MODE(transactions.transactionType) = ADDRESS_VERIFICATION</th>\n",
       "      <th>currentBalance.MODE(transactions.transactionType) = REVERSAL</th>\n",
       "      <th>currentBalance.MODE(transactions.transactionType) =</th>\n",
       "      <th>currentBalance.NUM_UNIQUE(transactions.availableMoney)</th>\n",
       "      <th>currentBalance.NUM_UNIQUE(transactions.posConditionCode)</th>\n",
       "      <th>currentBalance.NUM_UNIQUE(transactions.posEntryMode)</th>\n",
       "      <th>currentBalance.NUM_UNIQUE(transactions.transactionType)</th>\n",
       "      <th>currentBalance.PERCENT_TRUE(transactions.cardPresent)</th>\n",
       "      <th>currentBalance.PERCENT_TRUE(transactions.expirationDateKeyInMatch)</th>\n",
       "    </tr>\n",
       "    <tr>\n",
       "      <th>index</th>\n",
       "      <th></th>\n",
       "      <th></th>\n",
       "      <th></th>\n",
       "      <th></th>\n",
       "      <th></th>\n",
       "      <th></th>\n",
       "      <th></th>\n",
       "      <th></th>\n",
       "      <th></th>\n",
       "      <th></th>\n",
       "      <th></th>\n",
       "      <th></th>\n",
       "      <th></th>\n",
       "      <th></th>\n",
       "      <th></th>\n",
       "      <th></th>\n",
       "      <th></th>\n",
       "      <th></th>\n",
       "      <th></th>\n",
       "      <th></th>\n",
       "      <th></th>\n",
       "    </tr>\n",
       "  </thead>\n",
       "  <tbody>\n",
       "    <tr>\n",
       "      <th>0</th>\n",
       "      <td>False</td>\n",
       "      <td>False</td>\n",
       "      <td>False</td>\n",
       "      <td>True</td>\n",
       "      <td>False</td>\n",
       "      <td>False</td>\n",
       "      <td>False</td>\n",
       "      <td>False</td>\n",
       "      <td>False</td>\n",
       "      <td>False</td>\n",
       "      <td>...</td>\n",
       "      <td>True</td>\n",
       "      <td>False</td>\n",
       "      <td>False</td>\n",
       "      <td>False</td>\n",
       "      <td>1.0</td>\n",
       "      <td>1</td>\n",
       "      <td>1</td>\n",
       "      <td>1</td>\n",
       "      <td>0.000000</td>\n",
       "      <td>0.000000</td>\n",
       "    </tr>\n",
       "    <tr>\n",
       "      <th>1</th>\n",
       "      <td>False</td>\n",
       "      <td>False</td>\n",
       "      <td>False</td>\n",
       "      <td>False</td>\n",
       "      <td>False</td>\n",
       "      <td>False</td>\n",
       "      <td>False</td>\n",
       "      <td>False</td>\n",
       "      <td>True</td>\n",
       "      <td>False</td>\n",
       "      <td>...</td>\n",
       "      <td>True</td>\n",
       "      <td>False</td>\n",
       "      <td>False</td>\n",
       "      <td>False</td>\n",
       "      <td>10.0</td>\n",
       "      <td>4</td>\n",
       "      <td>6</td>\n",
       "      <td>4</td>\n",
       "      <td>0.445497</td>\n",
       "      <td>0.001274</td>\n",
       "    </tr>\n",
       "    <tr>\n",
       "      <th>2</th>\n",
       "      <td>False</td>\n",
       "      <td>False</td>\n",
       "      <td>False</td>\n",
       "      <td>False</td>\n",
       "      <td>True</td>\n",
       "      <td>False</td>\n",
       "      <td>False</td>\n",
       "      <td>False</td>\n",
       "      <td>False</td>\n",
       "      <td>False</td>\n",
       "      <td>...</td>\n",
       "      <td>True</td>\n",
       "      <td>False</td>\n",
       "      <td>False</td>\n",
       "      <td>False</td>\n",
       "      <td>2.0</td>\n",
       "      <td>1</td>\n",
       "      <td>2</td>\n",
       "      <td>1</td>\n",
       "      <td>0.000000</td>\n",
       "      <td>0.000000</td>\n",
       "    </tr>\n",
       "    <tr>\n",
       "      <th>3</th>\n",
       "      <td>True</td>\n",
       "      <td>False</td>\n",
       "      <td>False</td>\n",
       "      <td>False</td>\n",
       "      <td>False</td>\n",
       "      <td>False</td>\n",
       "      <td>False</td>\n",
       "      <td>False</td>\n",
       "      <td>False</td>\n",
       "      <td>False</td>\n",
       "      <td>...</td>\n",
       "      <td>True</td>\n",
       "      <td>False</td>\n",
       "      <td>False</td>\n",
       "      <td>False</td>\n",
       "      <td>1.0</td>\n",
       "      <td>1</td>\n",
       "      <td>1</td>\n",
       "      <td>1</td>\n",
       "      <td>1.000000</td>\n",
       "      <td>0.000000</td>\n",
       "    </tr>\n",
       "    <tr>\n",
       "      <th>4</th>\n",
       "      <td>True</td>\n",
       "      <td>False</td>\n",
       "      <td>False</td>\n",
       "      <td>False</td>\n",
       "      <td>False</td>\n",
       "      <td>False</td>\n",
       "      <td>False</td>\n",
       "      <td>False</td>\n",
       "      <td>False</td>\n",
       "      <td>False</td>\n",
       "      <td>...</td>\n",
       "      <td>True</td>\n",
       "      <td>False</td>\n",
       "      <td>False</td>\n",
       "      <td>False</td>\n",
       "      <td>2.0</td>\n",
       "      <td>1</td>\n",
       "      <td>2</td>\n",
       "      <td>1</td>\n",
       "      <td>0.750000</td>\n",
       "      <td>0.000000</td>\n",
       "    </tr>\n",
       "  </tbody>\n",
       "</table>\n",
       "<p>5 rows × 464 columns</p>\n",
       "</div>"
      ],
      "text/plain": [
       "       creditLimit = 5000  creditLimit = 15000  creditLimit = 7500  \\\n",
       "index                                                                \n",
       "0                   False                False               False   \n",
       "1                   False                False               False   \n",
       "2                   False                False               False   \n",
       "3                    True                False               False   \n",
       "4                    True                False               False   \n",
       "\n",
       "       creditLimit = 2500  creditLimit = 20000  creditLimit = 10000  \\\n",
       "index                                                                 \n",
       "0                    True                False                False   \n",
       "1                   False                False                False   \n",
       "2                   False                 True                False   \n",
       "3                   False                False                False   \n",
       "4                   False                False                False   \n",
       "\n",
       "       creditLimit = 50000  creditLimit = 1000  creditLimit = 250  \\\n",
       "index                                                               \n",
       "0                    False               False              False   \n",
       "1                    False               False               True   \n",
       "2                    False               False              False   \n",
       "3                    False               False              False   \n",
       "4                    False               False              False   \n",
       "\n",
       "       creditLimit = 500  ...  \\\n",
       "index                     ...   \n",
       "0                  False  ...   \n",
       "1                  False  ...   \n",
       "2                  False  ...   \n",
       "3                  False  ...   \n",
       "4                  False  ...   \n",
       "\n",
       "       currentBalance.MODE(transactions.transactionType) = PURCHASE  \\\n",
       "index                                                                 \n",
       "0                                                   True              \n",
       "1                                                   True              \n",
       "2                                                   True              \n",
       "3                                                   True              \n",
       "4                                                   True              \n",
       "\n",
       "       currentBalance.MODE(transactions.transactionType) = ADDRESS_VERIFICATION  \\\n",
       "index                                                                             \n",
       "0                                                  False                          \n",
       "1                                                  False                          \n",
       "2                                                  False                          \n",
       "3                                                  False                          \n",
       "4                                                  False                          \n",
       "\n",
       "       currentBalance.MODE(transactions.transactionType) = REVERSAL  \\\n",
       "index                                                                 \n",
       "0                                                  False              \n",
       "1                                                  False              \n",
       "2                                                  False              \n",
       "3                                                  False              \n",
       "4                                                  False              \n",
       "\n",
       "       currentBalance.MODE(transactions.transactionType) =   \\\n",
       "index                                                         \n",
       "0                                                  False      \n",
       "1                                                  False      \n",
       "2                                                  False      \n",
       "3                                                  False      \n",
       "4                                                  False      \n",
       "\n",
       "       currentBalance.NUM_UNIQUE(transactions.availableMoney)  \\\n",
       "index                                                           \n",
       "0                                                    1.0        \n",
       "1                                                   10.0        \n",
       "2                                                    2.0        \n",
       "3                                                    1.0        \n",
       "4                                                    2.0        \n",
       "\n",
       "       currentBalance.NUM_UNIQUE(transactions.posConditionCode)  \\\n",
       "index                                                             \n",
       "0                                                      1          \n",
       "1                                                      4          \n",
       "2                                                      1          \n",
       "3                                                      1          \n",
       "4                                                      1          \n",
       "\n",
       "       currentBalance.NUM_UNIQUE(transactions.posEntryMode)  \\\n",
       "index                                                         \n",
       "0                                                      1      \n",
       "1                                                      6      \n",
       "2                                                      2      \n",
       "3                                                      1      \n",
       "4                                                      2      \n",
       "\n",
       "       currentBalance.NUM_UNIQUE(transactions.transactionType)  \\\n",
       "index                                                            \n",
       "0                                                      1         \n",
       "1                                                      4         \n",
       "2                                                      1         \n",
       "3                                                      1         \n",
       "4                                                      1         \n",
       "\n",
       "       currentBalance.PERCENT_TRUE(transactions.cardPresent)  \\\n",
       "index                                                          \n",
       "0                                               0.000000       \n",
       "1                                               0.445497       \n",
       "2                                               0.000000       \n",
       "3                                               1.000000       \n",
       "4                                               0.750000       \n",
       "\n",
       "       currentBalance.PERCENT_TRUE(transactions.expirationDateKeyInMatch)  \n",
       "index                                                                      \n",
       "0                                               0.000000                   \n",
       "1                                               0.001274                   \n",
       "2                                               0.000000                   \n",
       "3                                               0.000000                   \n",
       "4                                               0.000000                   \n",
       "\n",
       "[5 rows x 464 columns]"
      ]
     },
     "execution_count": 21,
     "metadata": {},
     "output_type": "execute_result"
    }
   ],
   "source": [
    "feature_matrix_enc.head()"
   ]
  },
  {
   "cell_type": "code",
   "execution_count": 22,
   "metadata": {
    "ExecuteTime": {
     "end_time": "2020-12-29T10:40:51.634235Z",
     "start_time": "2020-12-29T10:40:51.264213Z"
    }
   },
   "outputs": [],
   "source": [
    "#copy in feature matrix to X_train \n",
    "X_train = feature_matrix_enc.copy()"
   ]
  },
  {
   "cell_type": "code",
   "execution_count": 23,
   "metadata": {
    "ExecuteTime": {
     "end_time": "2020-12-29T10:42:24.428542Z",
     "start_time": "2020-12-29T10:40:51.639235Z"
    }
   },
   "outputs": [],
   "source": [
    "#save endoded feature table for later use\n",
    "#feature_matrix_enc.to_csv('autofeatures encoded train.csv')"
   ]
  },
  {
   "cell_type": "code",
   "execution_count": 24,
   "metadata": {
    "ExecuteTime": {
     "end_time": "2020-12-29T10:42:24.541549Z",
     "start_time": "2020-12-29T10:42:24.430542Z"
    }
   },
   "outputs": [],
   "source": [
    "#import os\n",
    "#filepath = os.path.join('autofeatures encoded train.json')\n",
    "#ft.save_features(features_enc, filepath)"
   ]
  },
  {
   "cell_type": "code",
   "execution_count": 25,
   "metadata": {
    "ExecuteTime": {
     "end_time": "2020-12-29T10:42:24.545549Z",
     "start_time": "2020-12-29T10:42:24.542549Z"
    }
   },
   "outputs": [],
   "source": [
    "#import os\n",
    "#load feature list if needed.\n",
    "#feature_matrix = pd.read_csv(\"autofeatures encoded train.csv\",)\n",
    "#filepath = os.path.join( 'autofeatures encoded train.json')\n",
    "#feature_names = ft.load_features(filepath)"
   ]
  },
  {
   "cell_type": "code",
   "execution_count": 26,
   "metadata": {
    "ExecuteTime": {
     "end_time": "2020-12-29T10:42:24.604552Z",
     "start_time": "2020-12-29T10:42:24.547549Z"
    }
   },
   "outputs": [],
   "source": [
    "#copy in feature matrix to X_train \n",
    "#X_train = feature_matrix.copy()\n"
   ]
  },
  {
   "cell_type": "code",
   "execution_count": 27,
   "metadata": {
    "ExecuteTime": {
     "end_time": "2020-12-29T10:42:24.654555Z",
     "start_time": "2020-12-29T10:42:24.605552Z"
    }
   },
   "outputs": [],
   "source": [
    "#Repeat process but now for X_test data.  \n",
    "#You can load the previously generated features after setting up the identical entityset.\n",
    "\n",
    "es_test = ft.EntitySet(id=\"transactionDataTest\")"
   ]
  },
  {
   "cell_type": "code",
   "execution_count": 28,
   "metadata": {
    "ExecuteTime": {
     "end_time": "2020-12-29T10:42:27.320708Z",
     "start_time": "2020-12-29T10:42:24.655555Z"
    }
   },
   "outputs": [
    {
     "name": "stderr",
     "output_type": "stream",
     "text": [
      "C:\\ProgramData\\Anaconda3\\lib\\site-packages\\featuretools\\entityset\\entity.py:611: UserWarning: index index not found in dataframe, creating new integer column\n",
      "  \"integer column\".format(index))\n"
     ]
    },
    {
     "data": {
      "text/plain": [
       "Entityset: transactionDataTest\n",
       "  Entities:\n",
       "    transactions [Rows: 235909, Columns: 16]\n",
       "  Relationships:\n",
       "    No relationships"
      ]
     },
     "execution_count": 28,
     "metadata": {},
     "output_type": "execute_result"
    }
   ],
   "source": [
    "es_test.entity_from_dataframe(entity_id='transactions',dataframe=X_test,\n",
    "                      index='index', )\n"
   ]
  },
  {
   "cell_type": "code",
   "execution_count": 29,
   "metadata": {
    "ExecuteTime": {
     "end_time": "2020-12-29T10:42:27.515719Z",
     "start_time": "2020-12-29T10:42:27.321708Z"
    }
   },
   "outputs": [],
   "source": [
    "es_test = es_test.normalize_entity(base_entity_id=\"transactions\",\n",
    "                       new_entity_id=\"transactionAmounts\",\n",
    "                         index=\"transactionAmount\", )"
   ]
  },
  {
   "cell_type": "code",
   "execution_count": 30,
   "metadata": {
    "ExecuteTime": {
     "end_time": "2020-12-29T10:42:27.751732Z",
     "start_time": "2020-12-29T10:42:27.516719Z"
    }
   },
   "outputs": [],
   "source": [
    "es_test = es_test.normalize_entity(base_entity_id=\"transactions\",\n",
    "                       new_entity_id=\"transactionTypes\",\n",
    "                         index=\"transactionType\", copy_variables=['creditLimit',\"merchantName\",\"availableMoney\",\"currentBalance\"])"
   ]
  },
  {
   "cell_type": "code",
   "execution_count": 31,
   "metadata": {
    "ExecuteTime": {
     "end_time": "2020-12-29T10:42:27.987746Z",
     "start_time": "2020-12-29T10:42:27.752732Z"
    }
   },
   "outputs": [],
   "source": [
    "es_test = es_test.normalize_entity(base_entity_id=\"transactions\",\n",
    "                       new_entity_id=\"merchant\",\n",
    "                         index=\"merchantName\")"
   ]
  },
  {
   "cell_type": "code",
   "execution_count": 32,
   "metadata": {
    "ExecuteTime": {
     "end_time": "2020-12-29T10:42:28.130754Z",
     "start_time": "2020-12-29T10:42:27.988746Z"
    }
   },
   "outputs": [],
   "source": [
    "es_test = es_test.normalize_entity(base_entity_id=\"transactions\",\n",
    "                       new_entity_id=\"creditLimit\",\n",
    "                         index=\"creditLimit\")"
   ]
  },
  {
   "cell_type": "code",
   "execution_count": 33,
   "metadata": {
    "ExecuteTime": {
     "end_time": "2020-12-29T10:42:28.421771Z",
     "start_time": "2020-12-29T10:42:28.131754Z"
    }
   },
   "outputs": [],
   "source": [
    "es_test = es_test.normalize_entity(base_entity_id=\"transactions\",\n",
    "                       new_entity_id=\"availableMoney\",\n",
    "                         index=\"availableMoney\")"
   ]
  },
  {
   "cell_type": "code",
   "execution_count": 34,
   "metadata": {
    "ExecuteTime": {
     "end_time": "2020-12-29T10:42:28.712787Z",
     "start_time": "2020-12-29T10:42:28.422771Z"
    }
   },
   "outputs": [],
   "source": [
    "es_test = es_test.normalize_entity(base_entity_id=\"transactions\",\n",
    "                       new_entity_id=\"currentBalance\",\n",
    "                         index=\"currentBalance\")"
   ]
  },
  {
   "cell_type": "code",
   "execution_count": 35,
   "metadata": {
    "ExecuteTime": {
     "end_time": "2020-12-29T10:49:28.800815Z",
     "start_time": "2020-12-29T10:42:28.713787Z"
    }
   },
   "outputs": [
    {
     "name": "stdout",
     "output_type": "stream",
     "text": [
      "EntitySet scattered to 7 workers in 34 seconds\n"
     ]
    }
   ],
   "source": [
    "#use previouslt generated feature list(features_enc) to calculate new features on test data\n",
    "feature_matrix_test = ft.calculate_feature_matrix(entityset=es_test, features= features_enc,n_jobs=7)"
   ]
  },
  {
   "cell_type": "code",
   "execution_count": 36,
   "metadata": {
    "ExecuteTime": {
     "end_time": "2020-12-29T10:49:28.827816Z",
     "start_time": "2020-12-29T10:49:28.801815Z"
    }
   },
   "outputs": [
    {
     "data": {
      "text/html": [
       "<div>\n",
       "<style scoped>\n",
       "    .dataframe tbody tr th:only-of-type {\n",
       "        vertical-align: middle;\n",
       "    }\n",
       "\n",
       "    .dataframe tbody tr th {\n",
       "        vertical-align: top;\n",
       "    }\n",
       "\n",
       "    .dataframe thead th {\n",
       "        text-align: right;\n",
       "    }\n",
       "</style>\n",
       "<table border=\"1\" class=\"dataframe\">\n",
       "  <thead>\n",
       "    <tr style=\"text-align: right;\">\n",
       "      <th></th>\n",
       "      <th>creditLimit = 5000</th>\n",
       "      <th>creditLimit = 15000</th>\n",
       "      <th>creditLimit = 7500</th>\n",
       "      <th>creditLimit = 2500</th>\n",
       "      <th>creditLimit = 20000</th>\n",
       "      <th>creditLimit = 10000</th>\n",
       "      <th>creditLimit = 50000</th>\n",
       "      <th>creditLimit = 1000</th>\n",
       "      <th>creditLimit = 250</th>\n",
       "      <th>creditLimit = 500</th>\n",
       "      <th>...</th>\n",
       "      <th>currentBalance.MODE(transactions.transactionType) = PURCHASE</th>\n",
       "      <th>currentBalance.MODE(transactions.transactionType) = ADDRESS_VERIFICATION</th>\n",
       "      <th>currentBalance.MODE(transactions.transactionType) = REVERSAL</th>\n",
       "      <th>currentBalance.MODE(transactions.transactionType) =</th>\n",
       "      <th>currentBalance.NUM_UNIQUE(transactions.availableMoney)</th>\n",
       "      <th>currentBalance.NUM_UNIQUE(transactions.posConditionCode)</th>\n",
       "      <th>currentBalance.NUM_UNIQUE(transactions.posEntryMode)</th>\n",
       "      <th>currentBalance.NUM_UNIQUE(transactions.transactionType)</th>\n",
       "      <th>currentBalance.PERCENT_TRUE(transactions.cardPresent)</th>\n",
       "      <th>currentBalance.PERCENT_TRUE(transactions.expirationDateKeyInMatch)</th>\n",
       "    </tr>\n",
       "    <tr>\n",
       "      <th>index</th>\n",
       "      <th></th>\n",
       "      <th></th>\n",
       "      <th></th>\n",
       "      <th></th>\n",
       "      <th></th>\n",
       "      <th></th>\n",
       "      <th></th>\n",
       "      <th></th>\n",
       "      <th></th>\n",
       "      <th></th>\n",
       "      <th></th>\n",
       "      <th></th>\n",
       "      <th></th>\n",
       "      <th></th>\n",
       "      <th></th>\n",
       "      <th></th>\n",
       "      <th></th>\n",
       "      <th></th>\n",
       "      <th></th>\n",
       "      <th></th>\n",
       "      <th></th>\n",
       "    </tr>\n",
       "  </thead>\n",
       "  <tbody>\n",
       "    <tr>\n",
       "      <th>0</th>\n",
       "      <td>False</td>\n",
       "      <td>False</td>\n",
       "      <td>False</td>\n",
       "      <td>False</td>\n",
       "      <td>False</td>\n",
       "      <td>False</td>\n",
       "      <td>False</td>\n",
       "      <td>False</td>\n",
       "      <td>True</td>\n",
       "      <td>False</td>\n",
       "      <td>...</td>\n",
       "      <td>True</td>\n",
       "      <td>False</td>\n",
       "      <td>False</td>\n",
       "      <td>False</td>\n",
       "      <td>1.0</td>\n",
       "      <td>1</td>\n",
       "      <td>1</td>\n",
       "      <td>1</td>\n",
       "      <td>1.0</td>\n",
       "      <td>0.0</td>\n",
       "    </tr>\n",
       "    <tr>\n",
       "      <th>1</th>\n",
       "      <td>True</td>\n",
       "      <td>False</td>\n",
       "      <td>False</td>\n",
       "      <td>False</td>\n",
       "      <td>False</td>\n",
       "      <td>False</td>\n",
       "      <td>False</td>\n",
       "      <td>False</td>\n",
       "      <td>False</td>\n",
       "      <td>False</td>\n",
       "      <td>...</td>\n",
       "      <td>True</td>\n",
       "      <td>False</td>\n",
       "      <td>False</td>\n",
       "      <td>False</td>\n",
       "      <td>1.0</td>\n",
       "      <td>1</td>\n",
       "      <td>1</td>\n",
       "      <td>1</td>\n",
       "      <td>0.0</td>\n",
       "      <td>0.0</td>\n",
       "    </tr>\n",
       "    <tr>\n",
       "      <th>2</th>\n",
       "      <td>False</td>\n",
       "      <td>False</td>\n",
       "      <td>True</td>\n",
       "      <td>False</td>\n",
       "      <td>False</td>\n",
       "      <td>False</td>\n",
       "      <td>False</td>\n",
       "      <td>False</td>\n",
       "      <td>False</td>\n",
       "      <td>False</td>\n",
       "      <td>...</td>\n",
       "      <td>True</td>\n",
       "      <td>False</td>\n",
       "      <td>False</td>\n",
       "      <td>False</td>\n",
       "      <td>1.0</td>\n",
       "      <td>1</td>\n",
       "      <td>1</td>\n",
       "      <td>1</td>\n",
       "      <td>1.0</td>\n",
       "      <td>0.0</td>\n",
       "    </tr>\n",
       "    <tr>\n",
       "      <th>3</th>\n",
       "      <td>False</td>\n",
       "      <td>False</td>\n",
       "      <td>False</td>\n",
       "      <td>True</td>\n",
       "      <td>False</td>\n",
       "      <td>False</td>\n",
       "      <td>False</td>\n",
       "      <td>False</td>\n",
       "      <td>False</td>\n",
       "      <td>False</td>\n",
       "      <td>...</td>\n",
       "      <td>True</td>\n",
       "      <td>False</td>\n",
       "      <td>False</td>\n",
       "      <td>False</td>\n",
       "      <td>1.0</td>\n",
       "      <td>1</td>\n",
       "      <td>1</td>\n",
       "      <td>1</td>\n",
       "      <td>0.0</td>\n",
       "      <td>0.0</td>\n",
       "    </tr>\n",
       "    <tr>\n",
       "      <th>4</th>\n",
       "      <td>False</td>\n",
       "      <td>False</td>\n",
       "      <td>True</td>\n",
       "      <td>False</td>\n",
       "      <td>False</td>\n",
       "      <td>False</td>\n",
       "      <td>False</td>\n",
       "      <td>False</td>\n",
       "      <td>False</td>\n",
       "      <td>False</td>\n",
       "      <td>...</td>\n",
       "      <td>False</td>\n",
       "      <td>False</td>\n",
       "      <td>True</td>\n",
       "      <td>False</td>\n",
       "      <td>1.0</td>\n",
       "      <td>1</td>\n",
       "      <td>1</td>\n",
       "      <td>1</td>\n",
       "      <td>0.0</td>\n",
       "      <td>0.0</td>\n",
       "    </tr>\n",
       "  </tbody>\n",
       "</table>\n",
       "<p>5 rows × 464 columns</p>\n",
       "</div>"
      ],
      "text/plain": [
       "       creditLimit = 5000  creditLimit = 15000  creditLimit = 7500  \\\n",
       "index                                                                \n",
       "0                   False                False               False   \n",
       "1                    True                False               False   \n",
       "2                   False                False                True   \n",
       "3                   False                False               False   \n",
       "4                   False                False                True   \n",
       "\n",
       "       creditLimit = 2500  creditLimit = 20000  creditLimit = 10000  \\\n",
       "index                                                                 \n",
       "0                   False                False                False   \n",
       "1                   False                False                False   \n",
       "2                   False                False                False   \n",
       "3                    True                False                False   \n",
       "4                   False                False                False   \n",
       "\n",
       "       creditLimit = 50000  creditLimit = 1000  creditLimit = 250  \\\n",
       "index                                                               \n",
       "0                    False               False               True   \n",
       "1                    False               False              False   \n",
       "2                    False               False              False   \n",
       "3                    False               False              False   \n",
       "4                    False               False              False   \n",
       "\n",
       "       creditLimit = 500  ...  \\\n",
       "index                     ...   \n",
       "0                  False  ...   \n",
       "1                  False  ...   \n",
       "2                  False  ...   \n",
       "3                  False  ...   \n",
       "4                  False  ...   \n",
       "\n",
       "       currentBalance.MODE(transactions.transactionType) = PURCHASE  \\\n",
       "index                                                                 \n",
       "0                                                   True              \n",
       "1                                                   True              \n",
       "2                                                   True              \n",
       "3                                                   True              \n",
       "4                                                  False              \n",
       "\n",
       "       currentBalance.MODE(transactions.transactionType) = ADDRESS_VERIFICATION  \\\n",
       "index                                                                             \n",
       "0                                                  False                          \n",
       "1                                                  False                          \n",
       "2                                                  False                          \n",
       "3                                                  False                          \n",
       "4                                                  False                          \n",
       "\n",
       "       currentBalance.MODE(transactions.transactionType) = REVERSAL  \\\n",
       "index                                                                 \n",
       "0                                                  False              \n",
       "1                                                  False              \n",
       "2                                                  False              \n",
       "3                                                  False              \n",
       "4                                                   True              \n",
       "\n",
       "       currentBalance.MODE(transactions.transactionType) =   \\\n",
       "index                                                         \n",
       "0                                                  False      \n",
       "1                                                  False      \n",
       "2                                                  False      \n",
       "3                                                  False      \n",
       "4                                                  False      \n",
       "\n",
       "       currentBalance.NUM_UNIQUE(transactions.availableMoney)  \\\n",
       "index                                                           \n",
       "0                                                    1.0        \n",
       "1                                                    1.0        \n",
       "2                                                    1.0        \n",
       "3                                                    1.0        \n",
       "4                                                    1.0        \n",
       "\n",
       "       currentBalance.NUM_UNIQUE(transactions.posConditionCode)  \\\n",
       "index                                                             \n",
       "0                                                      1          \n",
       "1                                                      1          \n",
       "2                                                      1          \n",
       "3                                                      1          \n",
       "4                                                      1          \n",
       "\n",
       "       currentBalance.NUM_UNIQUE(transactions.posEntryMode)  \\\n",
       "index                                                         \n",
       "0                                                      1      \n",
       "1                                                      1      \n",
       "2                                                      1      \n",
       "3                                                      1      \n",
       "4                                                      1      \n",
       "\n",
       "       currentBalance.NUM_UNIQUE(transactions.transactionType)  \\\n",
       "index                                                            \n",
       "0                                                      1         \n",
       "1                                                      1         \n",
       "2                                                      1         \n",
       "3                                                      1         \n",
       "4                                                      1         \n",
       "\n",
       "       currentBalance.PERCENT_TRUE(transactions.cardPresent)  \\\n",
       "index                                                          \n",
       "0                                                    1.0       \n",
       "1                                                    0.0       \n",
       "2                                                    1.0       \n",
       "3                                                    0.0       \n",
       "4                                                    0.0       \n",
       "\n",
       "       currentBalance.PERCENT_TRUE(transactions.expirationDateKeyInMatch)  \n",
       "index                                                                      \n",
       "0                                                    0.0                   \n",
       "1                                                    0.0                   \n",
       "2                                                    0.0                   \n",
       "3                                                    0.0                   \n",
       "4                                                    0.0                   \n",
       "\n",
       "[5 rows x 464 columns]"
      ]
     },
     "execution_count": 36,
     "metadata": {},
     "output_type": "execute_result"
    }
   ],
   "source": [
    "feature_matrix_test.head()"
   ]
  },
  {
   "cell_type": "code",
   "execution_count": 37,
   "metadata": {
    "ExecuteTime": {
     "end_time": "2020-12-29T10:49:28.940823Z",
     "start_time": "2020-12-29T10:49:28.828816Z"
    }
   },
   "outputs": [],
   "source": [
    "#copy in feature matrix to X_test\n",
    "X_test = feature_matrix_test.copy()"
   ]
  },
  {
   "cell_type": "code",
   "execution_count": 50,
   "metadata": {
    "ExecuteTime": {
     "end_time": "2020-12-29T11:16:14.441652Z",
     "start_time": "2020-12-29T11:16:10.889449Z"
    }
   },
   "outputs": [],
   "source": [
    "#replace true/fasle with 1 and 0 for model\n",
    "X_train.replace(True,1,inplace=True)\n",
    "X_train.replace(False,0,inplace=True)"
   ]
  },
  {
   "cell_type": "code",
   "execution_count": 51,
   "metadata": {
    "ExecuteTime": {
     "end_time": "2020-12-29T11:16:29.189496Z",
     "start_time": "2020-12-29T11:16:27.585404Z"
    }
   },
   "outputs": [],
   "source": [
    "X_test.replace(True,1,inplace=True)\n",
    "X_test.replace(False,0,inplace=True)"
   ]
  },
  {
   "cell_type": "code",
   "execution_count": 40,
   "metadata": {
    "ExecuteTime": {
     "end_time": "2020-12-29T10:49:41.887563Z",
     "start_time": "2020-12-29T10:49:41.884563Z"
    }
   },
   "outputs": [],
   "source": [
    "#Run XGBClassifier with newly generated features."
   ]
  },
  {
   "cell_type": "code",
   "execution_count": 41,
   "metadata": {
    "ExecuteTime": {
     "end_time": "2020-12-29T10:50:10.317189Z",
     "start_time": "2020-12-29T10:49:41.888563Z"
    }
   },
   "outputs": [
    {
     "data": {
      "text/plain": [
       "XGBClassifier(base_score=0.5, booster='gbtree', colsample_bylevel=1,\n",
       "              colsample_bynode=1, colsample_bytree=1, gamma=0, gpu_id=0,\n",
       "              importance_type='gain', interaction_constraints='',\n",
       "              learning_rate=0.300000012, max_delta_step=0, max_depth=6,\n",
       "              min_child_weight=1, missing=nan,\n",
       "              monotone_constraints='(0,0,0,0,0,0,0,0,0,0,0,0,0,0,0,0,0,0,0,0,0,0,0,0,0,0,0,0,0,0,0,0,0,0,0,...0,0,0,0,0,0,0,0,0,0,0,0,0,0,0,0,0,0,0,0,0,0,0,0,0,0,0,0,0,0,0,0,0,0,0,0,0,0,0,0,0,0,0,0,0,0,0,0,0,0,0,0,0,0,0,0,0,0,0,0,0,0,0,0,0,0,0,0,0,0,0,0,0,0,0,0,0,0,0,0,0,0,0,0,0)',\n",
       "              n_estimators=100, n_jobs=-1, num_parallel_tree=1, random_state=0,\n",
       "              reg_alpha=0, reg_lambda=1, scale_pos_weight=1, subsample=1,\n",
       "              tree_method='gpu_hist', validate_parameters=1, verbosity=None)"
      ]
     },
     "execution_count": 41,
     "metadata": {},
     "output_type": "execute_result"
    }
   ],
   "source": [
    "from sklearn.metrics import accuracy_score,roc_auc_score,roc_curve,classification_report, confusion_matrix\n",
    "import xgboost as xgb\n",
    "\n",
    "xgbcl = xgb.XGBClassifier(objective='binary:logistic',\n",
    "                         tree_method='gpu_hist',\n",
    "                         n_jobs=-1)\n",
    "\n",
    "\n",
    "# Fit the classifier to the training set\n",
    "xgbcl.fit(X_train, y_train)\n"
   ]
  },
  {
   "cell_type": "code",
   "execution_count": 42,
   "metadata": {
    "ExecuteTime": {
     "end_time": "2020-12-29T10:50:18.322647Z",
     "start_time": "2020-12-29T10:50:10.319190Z"
    }
   },
   "outputs": [
    {
     "name": "stdout",
     "output_type": "stream",
     "text": [
      "accuracy: 0.984176\n"
     ]
    }
   ],
   "source": [
    "y_pred = xgbcl.predict(X_test)\n",
    "\n",
    "# Compute the accuracy: accuracy\n",
    "accuracy = float(np.sum(y_pred==y_test))/y_test.shape[0]\n",
    "\n",
    "print(\"accuracy: %f\" % (accuracy))\n"
   ]
  },
  {
   "cell_type": "code",
   "execution_count": 43,
   "metadata": {
    "ExecuteTime": {
     "end_time": "2020-12-29T10:50:18.671667Z",
     "start_time": "2020-12-29T10:50:18.323647Z"
    }
   },
   "outputs": [
    {
     "name": "stdout",
     "output_type": "stream",
     "text": [
      "[[232120     55]\n",
      " [  3678     56]]\n",
      "              precision    recall  f1-score   support\n",
      "\n",
      "       False       0.98      1.00      0.99    232175\n",
      "        True       0.50      0.01      0.03      3734\n",
      "\n",
      "    accuracy                           0.98    235909\n",
      "   macro avg       0.74      0.51      0.51    235909\n",
      "weighted avg       0.98      0.98      0.98    235909\n",
      "\n"
     ]
    }
   ],
   "source": [
    "#print confusion matrix, classification report\n",
    "print(confusion_matrix(y_test, y_pred))\n",
    "print(classification_report(y_test, y_pred))\n"
   ]
  },
  {
   "cell_type": "code",
   "execution_count": 44,
   "metadata": {
    "ExecuteTime": {
     "end_time": "2020-12-29T10:52:41.126815Z",
     "start_time": "2020-12-29T10:50:18.672667Z"
    }
   },
   "outputs": [
    {
     "name": "stdout",
     "output_type": "stream",
     "text": [
      "    train-auc-mean  train-auc-std  test-auc-mean  test-auc-std\n",
      "0         0.740313       0.004198       0.735786      0.005974\n",
      "1         0.752078       0.002791       0.747572      0.007568\n",
      "2         0.757218       0.002605       0.752321      0.006141\n",
      "3         0.763152       0.001604       0.757553      0.006248\n",
      "4         0.767171       0.001095       0.759476      0.006289\n",
      "5         0.772422       0.001796       0.763644      0.005343\n",
      "6         0.775651       0.001942       0.765988      0.005498\n",
      "7         0.777439       0.001359       0.766905      0.005480\n",
      "8         0.779855       0.002282       0.769404      0.006200\n",
      "9         0.782105       0.002099       0.770258      0.006347\n",
      "10        0.785262       0.001155       0.772680      0.005898\n",
      "11        0.788851       0.000830       0.774100      0.005259\n",
      "12        0.792516       0.001035       0.776541      0.005401\n",
      "13        0.796007       0.000358       0.778048      0.006089\n",
      "14        0.798955       0.001026       0.780418      0.004711\n",
      "15        0.801301       0.001050       0.781384      0.004246\n",
      "16        0.803952       0.001027       0.782651      0.004801\n",
      "17        0.807628       0.003041       0.785309      0.007112\n",
      "18        0.811748       0.002479       0.788839      0.005172\n",
      "19        0.814816       0.001506       0.791151      0.004438\n",
      "20        0.817482       0.001588       0.792638      0.004533\n",
      "21        0.819938       0.001371       0.793395      0.004966\n",
      "22        0.823090       0.002545       0.796226      0.003591\n",
      "23        0.825890       0.002581       0.797226      0.004167\n",
      "24        0.828049       0.002740       0.797645      0.003889\n",
      "25        0.832972       0.004246       0.801889      0.002847\n",
      "26        0.836225       0.005414       0.804321      0.003955\n",
      "27        0.838894       0.006019       0.805644      0.003667\n",
      "28        0.840684       0.005837       0.806018      0.003773\n",
      "29        0.842327       0.005941       0.807104      0.003152\n",
      "30        0.844803       0.004574       0.808597      0.001876\n",
      "31        0.847538       0.003654       0.809970      0.001877\n",
      "32        0.849092       0.004152       0.810785      0.001882\n",
      "33        0.851007       0.003965       0.811730      0.001751\n",
      "34        0.852740       0.003946       0.812171      0.001612\n",
      "35        0.855747       0.003127       0.814245      0.002141\n",
      "36        0.858015       0.003255       0.815471      0.002493\n",
      "37        0.859421       0.003288       0.816037      0.002637\n",
      "38        0.861445       0.002979       0.816894      0.003248\n",
      "39        0.862539       0.002996       0.816999      0.003199\n",
      "40        0.863575       0.003131       0.817025      0.003461\n",
      "41        0.864660       0.002935       0.817316      0.003440\n",
      "42        0.866360       0.002674       0.818441      0.004262\n",
      "43        0.868389       0.003349       0.819355      0.004711\n",
      "44        0.870030       0.002725       0.820034      0.004404\n",
      "45        0.871293       0.002824       0.820308      0.004391\n",
      "46        0.872878       0.002051       0.820910      0.004305\n",
      "47        0.874492       0.001647       0.821712      0.004448\n",
      "48        0.875569       0.001543       0.821880      0.004730\n",
      "49        0.876596       0.001474       0.822460      0.004767\n",
      "50        0.878113       0.001578       0.822988      0.004767\n",
      "51        0.879196       0.001732       0.823091      0.004824\n",
      "52        0.880226       0.001956       0.823240      0.004846\n",
      "53        0.881417       0.001884       0.823268      0.004766\n",
      "54        0.882567       0.001463       0.823552      0.004679\n",
      "55        0.883582       0.001370       0.823632      0.004544\n",
      "56        0.885009       0.001316       0.823860      0.004731\n",
      "57        0.886185       0.001255       0.823924      0.004681\n",
      "58        0.887160       0.001250       0.823788      0.004657\n",
      "59        0.888298       0.001321       0.824370      0.004488\n",
      "0.8243701999999999\n"
     ]
    }
   ],
   "source": [
    "#get area under curve (AUC) \n",
    "dmatrix = xgb.DMatrix(data=X_train, label=y_train)\n",
    "params = {\"objective\":\"binary:logistic\",'tree_method':'gpu_hist','n_jobs':-1}\n",
    "#Perform cross_validation: cv_results\n",
    "cv_results = xgb.cv(dtrain=dmatrix, params=params, \n",
    "                    nfold=5, num_boost_round=60, \n",
    "                    metrics=\"auc\", as_pandas=True, seed=123)\n",
    "\n",
    "# Print cv_results\n",
    "print(cv_results)\n",
    "\n",
    "# Print the AUC\n",
    "print((cv_results[\"test-auc-mean\"]).iloc[-1])\n"
   ]
  },
  {
   "cell_type": "code",
   "execution_count": 45,
   "metadata": {
    "ExecuteTime": {
     "end_time": "2020-12-29T10:53:10.479494Z",
     "start_time": "2020-12-29T10:52:41.128815Z"
    }
   },
   "outputs": [
    {
     "name": "stdout",
     "output_type": "stream",
     "text": [
      "    train-auc-mean  train-auc-std  test-auc-mean  test-auc-std\n",
      "0         0.711607       0.003301       0.706029      0.011743\n",
      "1         0.727108       0.008610       0.720389      0.016643\n",
      "2         0.734340       0.005880       0.726673      0.014317\n",
      "3         0.745755       0.008506       0.733731      0.016829\n",
      "4         0.757106       0.005073       0.741079      0.016853\n",
      "5         0.770493       0.004522       0.751595      0.011695\n",
      "6         0.777521       0.005580       0.755314      0.010085\n",
      "7         0.783306       0.004225       0.758284      0.009478\n",
      "8         0.787710       0.004428       0.758362      0.009453\n",
      "9         0.792660       0.003437       0.761696      0.009888\n",
      "10        0.796803       0.004540       0.762659      0.010046\n",
      "11        0.801888       0.003071       0.765027      0.010679\n",
      "12        0.808100       0.004818       0.768810      0.007379\n",
      "13        0.811793       0.004562       0.770375      0.006889\n",
      "14        0.816728       0.004017       0.772136      0.008009\n",
      "15        0.822301       0.003627       0.776248      0.009044\n",
      "16        0.827238       0.003662       0.777919      0.008946\n",
      "17        0.832697       0.002648       0.779381      0.007870\n",
      "18        0.837495       0.002804       0.782312      0.008125\n",
      "19        0.840636       0.001897       0.783499      0.008405\n",
      "20        0.844000       0.002319       0.785590      0.006968\n",
      "21        0.848193       0.003210       0.787569      0.006093\n",
      "22        0.851321       0.003618       0.787369      0.006246\n",
      "23        0.854674       0.003577       0.789246      0.004814\n",
      "24        0.858471       0.004113       0.790426      0.006437\n",
      "25        0.861205       0.003341       0.791386      0.007577\n",
      "26        0.863173       0.003250       0.791747      0.007677\n",
      "27        0.865610       0.003404       0.792517      0.007525\n",
      "28        0.868159       0.003692       0.793290      0.006928\n",
      "29        0.870973       0.004346       0.794075      0.005838\n",
      "30        0.874173       0.003147       0.795352      0.006273\n",
      "31        0.876359       0.003443       0.796290      0.005337\n",
      "32        0.878114       0.003195       0.797510      0.005408\n",
      "33        0.879844       0.003151       0.798349      0.005568\n",
      "34        0.882161       0.003226       0.799064      0.006305\n",
      "35        0.884397       0.003212       0.799078      0.006139\n",
      "36        0.885966       0.002813       0.799109      0.006308\n",
      "37        0.887524       0.002439       0.799071      0.006727\n",
      "38        0.888860       0.003063       0.799151      0.006563\n",
      "39        0.890132       0.003316       0.799394      0.006483\n",
      "40        0.892331       0.002713       0.799618      0.006446\n",
      "41        0.894296       0.002847       0.799819      0.006034\n",
      "42        0.895460       0.002776       0.799664      0.005854\n",
      "43        0.897176       0.002663       0.799369      0.006005\n",
      "44        0.898786       0.002793       0.799527      0.005749\n",
      "45        0.900555       0.002185       0.800119      0.006348\n",
      "46        0.902005       0.002793       0.800535      0.006130\n",
      "47        0.902597       0.002895       0.800514      0.006346\n",
      "48        0.904275       0.003136       0.801255      0.006103\n",
      "49        0.905095       0.003309       0.801117      0.006141\n",
      "0.8011172\n"
     ]
    }
   ],
   "source": [
    "dmatrix = xgb.DMatrix(data=X_test, label=y_test)\n",
    "params = {\"objective\":\"binary:logistic\",'tree_method':'gpu_hist','n_jobs':-1}\n",
    "#Perform cross_validation: cv_results\n",
    "cv_results = xgb.cv(dtrain=dmatrix, params=params, \n",
    "                    nfold=5, num_boost_round=50, \n",
    "                    metrics=\"auc\", as_pandas=True, seed=123)\n",
    "\n",
    "# Print cv_results\n",
    "print(cv_results)\n",
    "\n",
    "# Print the AUC\n",
    "print((cv_results[\"test-auc-mean\"]).iloc[-1])\n"
   ]
  },
  {
   "cell_type": "code",
   "execution_count": 46,
   "metadata": {
    "ExecuteTime": {
     "end_time": "2020-12-29T10:53:19.020983Z",
     "start_time": "2020-12-29T10:53:10.481494Z"
    }
   },
   "outputs": [
    {
     "data": {
      "image/png": "[encoded data removed]",
      "text/plain": [
       "<Figure size 432x288 with 1 Axes>"
      ]
     },
     "metadata": {
      "needs_background": "light"
     },
     "output_type": "display_data"
    }
   ],
   "source": [
    "# Compute predicted probabilities: y_pred_prob\n",
    "y_pred_prob = xgbcl.predict_proba(X_test)[:,1]\n",
    "\n",
    "# Generate ROC curve values: fpr, tpr, thresholds\n",
    "fpr, tpr, thresholds = roc_curve(y_test, y_pred_prob)\n",
    "\n",
    "# Plot ROC curve\n",
    "plt.plot([0, 1], [0, 1], 'k--')\n",
    "plt.plot(fpr, tpr)\n",
    "plt.title('ROC Curve')\n",
    "plt.show()"
   ]
  },
  {
   "cell_type": "code",
   "execution_count": 47,
   "metadata": {
    "ExecuteTime": {
     "end_time": "2020-12-29T10:53:40.250197Z",
     "start_time": "2020-12-29T10:53:19.021983Z"
    }
   },
   "outputs": [
    {
     "data": {
      "image/png": "[encoded data removed]",
      "text/plain": [
       "<Figure size 432x288 with 1 Axes>"
      ]
     },
     "metadata": {
      "needs_background": "light"
     },
     "output_type": "display_data"
    }
   ],
   "source": [
    "#What are the most important features in the dataset relating to fraud.  \n",
    "dmatrix = xgb.DMatrix(data=X_train, label=y_train)\n",
    "\n",
    "# Create the parameter dictionary: params\n",
    "params = {\"objective\":\"binary:logistic\",'tree_method':'gpu_hist','n_jobs':-1}\n",
    "\n",
    "# Train the model: \n",
    "xg_reg = xgb.train(params=params, dtrain=dmatrix, num_boost_round=20)\n",
    "\n",
    "# Plot the feature importances\n",
    "xgb.plot_importance(xg_reg,max_num_features = 25)\n",
    "plt.show()\n"
   ]
  },
  {
   "cell_type": "code",
   "execution_count": 48,
   "metadata": {
    "ExecuteTime": {
     "end_time": "2020-12-29T10:53:50.108761Z",
     "start_time": "2020-12-29T10:53:40.251197Z"
    }
   },
   "outputs": [
    {
     "data": {
      "image/png": "[encoded data removed]",
      "text/plain": [
       "<Figure size 432x288 with 1 Axes>"
      ]
     },
     "metadata": {
      "needs_background": "light"
     },
     "output_type": "display_data"
    }
   ],
   "source": [
    "#What are the most important features in the dataset relating to fraud.  \n",
    "dmatrix = xgb.DMatrix(data=X_test, label=y_test)\n",
    "\n",
    "# Create the parameter dictionary: params\n",
    "params = {\"objective\":\"binary:logistic\",'tree_method':'gpu_hist'}\n",
    "\n",
    "# Train the model: \n",
    "xg_reg = xgb.train(params=params, dtrain=dmatrix, num_boost_round=20)\n",
    "\n",
    "# Plot the feature importances\n",
    "xgb.plot_importance(xg_reg,max_num_features = 25)\n",
    "plt.show()"
   ]
  },
  {
   "cell_type": "markdown",
   "metadata": {},
   "source": [
    "We are able to boost our model using auto-feature tools.  We See that the model is using a lot of different features to make its decision.  "
   ]
  }
 ],
 "metadata": {
  "kernelspec": {
   "display_name": "Python 3",
   "language": "python",
   "name": "python3"
  },
  "language_info": {
   "codemirror_mode": {
    "name": "ipython",
    "version": 3
   },
   "file_extension": ".py",
   "mimetype": "text/x-python",
   "name": "python",
   "nbconvert_exporter": "python",
   "pygments_lexer": "ipython3",
   "version": "3.6.12"
  },
  "varInspector": {
   "cols": {
    "lenName": 16,
    "lenType": 16,
    "lenVar": 40
   },
   "kernels_config": {
    "python": {
     "delete_cmd_postfix": "",
     "delete_cmd_prefix": "del ",
     "library": "var_list.py",
     "varRefreshCmd": "print(var_dic_list())"
    },
    "r": {
     "delete_cmd_postfix": ") ",
     "delete_cmd_prefix": "rm(",
     "library": "var_list.r",
     "varRefreshCmd": "cat(var_dic_list()) "
    }
   },
   "types_to_exclude": [
    "module",
    "function",
    "builtin_function_or_method",
    "instance",
    "_Feature"
   ],
   "window_display": true
  }
 },
 "nbformat": 4,
 "nbformat_minor": 4
}
